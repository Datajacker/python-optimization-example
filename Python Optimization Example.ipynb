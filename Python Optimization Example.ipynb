{
 "cells": [
  {
   "cell_type": "markdown",
   "metadata": {},
   "source": [
    "# Storytelling: An example of runtime optimization in Python\n",
    "## by Abram Hindle < hindle1@ualberta.ca >"
   ]
  },
  {
   "cell_type": "markdown",
   "metadata": {},
   "source": [
    "* A long time ago a composer named Edward Elgar wrote a postcard to his girl friend. In the bottom corner of the postcard was a cryptic message.\n",
    "\n",
    "* Many cryptographers have tried to decode it as English. \n",
    "   * We found that that decipherments of the characters do not match English distributions of characters. \n",
    "   * We found better evidence it matched music. So we decided to come up with decipherments that were musical.\n",
    "\n"
   ]
  },
  {
   "cell_type": "markdown",
   "metadata": {},
   "source": [
    "![Dorabella Cipher](Dorabella-cipher-image.png)"
   ]
  },
  {
   "cell_type": "markdown",
   "metadata": {},
   "source": [
    "Our idea is the direction and bumps are meaningful so we make a symbolic encoding where direction and bumps are encoded."
   ]
  },
  {
   "cell_type": "markdown",
   "metadata": {},
   "source": [
    "⇐2 ⇒3 ⇖2 ⇐3 ⇐1 ⇑2 ⇓1 ⇐3 ⇗1 ⇙2 ⇖3 ⇘2 ⇘1 ⇖1 ⇘2 ⇑3 ⇘2 ⇘2 ⇑2 ⇒3 ⇒3 ⇘2 ⇖1 ⇙1 ⇙2 ⇙1 ⇑1 ⇖3 ⇘3 \n",
    "\n",
    "⇓1 ⇘2 ⇓1 ⇑2 ⇙1 ⇐3 ⇗1 ⇗2 ⇐3 ⇖2 ⇘2 ⇘2 ⇖2 ⇑2 ⇖1 ⇘1 ⇓1 ⇘2 ⇖3 ⇘2 ⇑2 ⇓2 ⇘3 ⇘1 ⇖1 ⇙1 ⇗1 ⇗1 ⇙1 ⇖3 ⇘3 \n",
    "\n",
    "⇖2 ⇘3 ⇑2 ⇓2 ⇘3 ⇖2 ⇖1 ⇓2 ⇓3 ⇑1 ⇘3 ⇖2 ⇘2 ⇑2 ⇓2 ⇘1 ⇘3 ⇖1 ⇐3 ⇒3 ⇑1 ⇘3 ⇑2 ⇐3 ⇖1 ⇙1 ⇐3"
   ]
  },
  {
   "cell_type": "markdown",
   "metadata": {},
   "source": [
    "Here's our program. \n",
    "\n",
    "* It generates a mapping of symbols to notes\n",
    "* The mapping must be in key (e.g. C-minor)\n",
    "* Converts a document of symbols into notes. \n",
    "* Writes out the decrypted document to disk\n",
    "\n",
    "It's too slow."
   ]
  },
  {
   "cell_type": "markdown",
   "metadata": {},
   "source": [
    "# Rules for Optimization\n",
    "\n",
    "1. Don't do it.\n",
    "2. Only do it if you can measure the quality you want to optimize\n",
    "3. Don't do it yet.\n",
    "4. Only do it if you record your original performance.\n",
    "5. Make sure you're optimizing what you want optimized\n",
    "6. Record original performance\n",
    "7. Investigate performance\n",
    "8. Change system\n",
    "9. Measure new performance\n",
    "10. Compare\n",
    "11. If not enough goto 6."
   ]
  },
  {
   "cell_type": "markdown",
   "metadata": {},
   "source": [
    "# Knuth's views on the subject \n",
    "\n",
    "From C2 Wiki http://wiki.c2.com/?PrematureOptimization\n",
    "    \n",
    "> /Premature optimization is the root of all evil/ -- DonaldKnuth\n",
    "> \n",
    "> In DonaldKnuth's paper \"Structured Programming With Goto Statements\", he wrote:\n",
    "> > \"Programmers waste enormous amounts of time thinking about, or worrying about, the speed of noncritical parts of their programs, and these attempts at efficiency actually have a strong negative impact when debugging and maintenance are considered. We should forget about small efficiencies, say about 97% of the time: premature optimization is the root of all evil. Yet we should not pass up our opportunities in that critical 3%.\" \n",
    "\n",
    "We're not engaging in premature optimization. We have a legitimate runtime problem."
   ]
  },
  {
   "cell_type": "code",
   "execution_count": 1,
   "metadata": {},
   "outputs": [
    {
     "name": "stdout",
     "output_type": "stream",
     "text": [
      "mkdir: cannot create directory ‘abram.gen.out’: File exists\r\n"
     ]
    }
   ],
   "source": [
    "# Make sure the output dir is available\n",
    "!mkdir abram.gen.out"
   ]
  },
  {
   "cell_type": "code",
   "execution_count": 2,
   "metadata": {},
   "outputs": [],
   "source": [
    "# -*- coding: utf-8 -*-\n",
    "# UTF8 hacks invoked.\n",
    "import sys\n",
    "#reload(sys)\n",
    "#sys.setdefaultencoding('utf-8')\n",
    "#reload(sys)\n",
    "import codecs\n",
    "#UTF8Writer = codecs.getwriter('utf8')\n",
    "#sys.stdout = UTF8Writer(sys.stdout)\n",
    "import util\n",
    "import argparse\n",
    "import inkey\n",
    "import music21\n",
    "import copy\n",
    "import itertools\n",
    "import re\n",
    "import json\n",
    "import time\n",
    "\n",
    "n_dirs = 8\n",
    "n_bumps = 3\n",
    "directions = {\n",
    "    \"⇑\":0,\n",
    "    \"⇗\":1,\n",
    "    \"⇒\":2,\n",
    "    \"⇘\":3,\n",
    "    \"⇓\":4,\n",
    "    \"⇙\":5,\n",
    "    \"⇐\":6,\n",
    "    \"⇖\":7\n",
    "}\n",
    "inverse_directions = dict([(directions[key],key) for key in directions])\n",
    "dir_string = \"\".join([inverse_directions[x] for x in range(0,n_dirs)])\n",
    "\n",
    "def token_to_dir_tuple(token):\n",
    "    return (directions[token[0:-1]], int(token[-1]))\n",
    "\n",
    "def dir_tuple_to_string(token):\n",
    "    return inverse_directions[token[0]]+str(token[1])\n",
    "\n",
    "def load_transcript(filename):\n",
    "    tokens = util.load_split_file(filename)\n",
    "    return [token_to_dir_tuple(token) for token in tokens]\n",
    "\n",
    "def rotate_list(l):\n",
    "    return l[1:] + [l[0]]\n",
    "\n",
    "def n_rotated_lists(l,n):\n",
    "    out = range(0,n)\n",
    "    out[0] = l\n",
    "    for i in range(1,n):\n",
    "        out[i] = rotate_list(out[i-1])\n",
    "    return out\n",
    "\n",
    "full_note      = 4.0\n",
    "half_note      = 2.0\n",
    "quarter_note   = 1.0\n",
    "eighth_note    = 0.5\n",
    "sixteenth_note = 0.25\n",
    "note_durations = [full_note, half_note, quarter_note, eighth_note, sixteenth_note]\n",
    "\n",
    "def make_note( midi21_pitch, duration ):\n",
    "    new_note = music21.note.Note(midi21_pitch)\n",
    "    new_note.duration = music21.duration.Duration(duration) # is this right\n",
    "    return new_note\n",
    "\n",
    "def pitches_of_key(mkey):\n",
    "    m = re.match('([A-G][-#]?)(major|minor)',mkey)\n",
    "    k = m.group(1)\n",
    "    maj = m.group(2)\n",
    "    our_key = music21.key.Key(k,maj)\n",
    "    our_pitches = our_key.pitches\n",
    "    return our_pitches\n",
    "\n",
    "def generate_abram_song(song_tuples, mkey, note_mapping, bump_mapping, octave):\n",
    "    \"\"\" returns a list of music21 notes \"\"\"\n",
    "    our_pitches = pitches_of_key(mkey)\n",
    "    # print(our_pitches)\n",
    "    # modify the key to the appropriate octave\n",
    "    our_key_notes = [inkey.note_octave_mod(note, octave-4) for note in our_pitches]\n",
    "    # now get the note mapping to notes\n",
    "    our_notes = [our_key_notes[x] for x in note_mapping]\n",
    "    # process the tuple\n",
    "    # print song_tuples\n",
    "    # print bump_mapping\n",
    "    assert sum([len(t)==2 for t in song_tuples]) == len(song_tuples)\n",
    "    # print [ (our_notes[n], bump_mapping[b-1]) for n,b in song_tuples ]\n",
    "    return [ make_note(our_notes[n], bump_mapping[b-1]) for n,b in song_tuples ]\n",
    "\n",
    "def note_to_str(note):\n",
    "    return note.fullName + \" \" + str(note.duration) #music21.Note.fullName(note)\n",
    "def song_to_txt(song):\n",
    "    return \"\\n\".join([note_to_str(note) for note in song])\n",
    "\n",
    "def save_textfile(txt, filename):\n",
    "    fd = file(filename,\"w\")\n",
    "    fd.write(txt)\n",
    "    fd.close()\n",
    "\n",
    "def song_to_mid(song):\n",
    "    stream = music21.stream.Stream()\n",
    "    for elm in song:\n",
    "        stream.append(elm)\n",
    "    return stream\n",
    "    # mf = music21.midi.translate.streamToMidiFile(stream)\n",
    "\n",
    "def save_midifile(midi, midi_file):\n",
    "    fp = midi.write('midi', fp=midi_file)\n",
    "    \n",
    "def strify(l):\n",
    "    return [str(x) for x in l]\n",
    "    \n",
    "def generate_and_save_song(song_tuples,mkey, note_mapping, bump_mapping,octave):\n",
    "    song = generate_abram_song(song_tuples, mkey, note_mapping, bump_mapping, octave)\n",
    "    file_name = \"abram.gen.out/\" + mkey + \".O.\" + str(octave) + \".N.\" + \".\".join(\"\".join(strify(note_mapping))) + \".T.\" + \"_\".join(strify(bump_mapping))\n",
    "    txt_file_name = file_name + \".txt\"\n",
    "    mid_file_name = file_name + \".mid\"\n",
    "    txt = song_to_txt(song)\n",
    "    save_textfile(txt, txt_file_name)\n",
    "    # print(song)\n",
    "    mid = song_to_mid(song)\n",
    "    save_midifile(mid, mid_file_name)\n",
    "\n",
    "__grid_search_print__ = True\n",
    "def grid_search(params,param_keys,song_tuples,f=None,maxtime=None):\n",
    "    if maxtime is None:\n",
    "        maxtime = float(\"inf\")\n",
    "    start = time.time()\n",
    "    iters = 0\n",
    "    for t in itertools.product(*[params[x] for x in param_keys]):\n",
    "        if __grid_search_print__:\n",
    "            print(t)\n",
    "        f(song_tuples,*t)\n",
    "        iters += 1\n",
    "        if (time.time() - start > maxtime):\n",
    "            print(\"Times up! %s\" % iters)\n",
    "            break\n",
    "    return iters\n",
    "\n",
    "def my_main(maxtime=10):\n",
    "    filename = \"abram-dirs.txt\"\n",
    "    song_tuples = load_transcript(filename)\n",
    "    print(inkey.get_all_keys().keys())\n",
    "    #print(\"\\t\".join([dir_tuple_to_string(x) for x in our_tokens]))\n",
    "    params = {\n",
    "        \"keys\":inkey.get_all_keys().keys(),\n",
    "        # permutations of indices\n",
    "        #  could do all permutations too\n",
    "        \"dir_notes\":n_rotated_lists(range(0,n_dirs),n_dirs),\n",
    "        # \"dir_notes\":list(itertools.permutations(range(0,n_dirs),n_dirs)) # if you want 40k combos\n",
    "        # map bumps to duration\n",
    "        \"bump_durations\":list(itertools.permutations(note_durations,n_bumps)),\n",
    "        \"octaves\":range(3,6),\n",
    "    }\n",
    "    return grid_search(params,[\"keys\",\"dir_notes\",\"bump_durations\",\"octaves\"], \n",
    "                song_tuples, f=generate_and_save_song, maxtime=maxtime)\n",
    "\n",
    "def generate_and_estimate_song(estimate,song_tuples,mkey, note_mapping, bump_mapping,octave):\n",
    "    song = generate_abram_song(song_tuples, mkey, note_mapping, bump_mapping, octave)\n",
    "    file_name = \"abram.gen.out/\" + mkey + \".O.\" + str(octave) + \".N.\" + \".\".join(\"\".join(strify(note_mapping))) + \".T.\" + \"_\".join(strify(bump_mapping))\n",
    "    txt = song_to_text(song)\n",
    "    return estimate(txt), file_name\n",
    "    \n",
    "def my_estimate_all(estimator, transcription_song_tuples):\n",
    "    estimates = dict()\n",
    "    def helper(estimator,song_tuples,mkey, note_mapping, bump_mapping,octave):\n",
    "        estimate, name = generate_and_estimate_song(estimator,song_tuples,mkey, note_mapping, bump_mapping,octave)\n",
    "        estimates[name] = estimate\n",
    "        print((estimate, name))\n",
    "    \n",
    "    params = {\n",
    "        \"keys\":inkey.get_all_keys().keys(),\n",
    "        # permutations of indices\n",
    "        #  could do all permutations too\n",
    "        # \"dir_notes\":n_rotated_lists(range(0,n_dirs),n_dirs),\n",
    "        \"dir_notes\":list(itertools.permutations(range(0,n_dirs),n_dirs)), # if you want 40k combos\n",
    "        # map bumps to duration\n",
    "        \"bump_durations\":list(itertools.permutations(note_durations,n_bumps)),\n",
    "        \"octaves\":range(3,6),\n",
    "    }\n",
    "    grid_search(params,[\"keys\",\"dir_notes\",\"bump_durations\",\"octaves\"], song_tuples, f=helper)\n",
    "    pickle.dump(estimates, file('abram-song-estimates.pkl','w'))    \n",
    "\n",
    "def my_estimate(args):\n",
    "    filename = args.transcript\n",
    "    song_tuples = load_transcript(filename)\n",
    "    my_estimate_all(None,song_tuples)\n",
    "    \n",
    "def test_rotate_list():\n",
    "    assert rotate_list([0,1,2,3]) == [1,2,3,0]\n",
    "    assert rotate_list([0,1,2,3,4]) == [1,2,3,4,0]\n",
    "    assert rotate_list(range(0,100))[0:-1] == range(1,100)\n",
    "    input  = [0,1,2]\n",
    "    output = [[0,1,2],[1,2,0],[2,0,1]]\n",
    "    assert json.dumps(n_rotated_lists(input, 3)) == json.dumps(output)    \n",
    "\n",
    "def test_notes():\n",
    "    note = music21.pitch.Pitch(\"C#4\") \n",
    "    new_note = make_note( note, quarter_note )\n",
    "    assert new_note.duration.type == 'quarter'\n",
    "    assert new_note.pitch.fullName == 'C-sharp in octave 4'    \n",
    "    song = song_to_mid([copy.deepcopy(new_note) for i in range(0,10)])\n",
    "    notes = list(song.notesAndRests)\n",
    "    for i in range(0,len(notes)):\n",
    "        assert notes[i].duration.type == new_note.duration.type\n",
    "        assert notes[i].pitch.fullName == new_note.pitch.fullName\n",
    "    cmajor = pitches_of_key(\"Cmajor\")\n",
    "    assert [x.name for x in cmajor] == [\"C\",\"D\",\"E\",\"F\",\"G\",\"A\",\"B\",\"C\"]\n",
    "    \n",
    "def my_tests(args):\n",
    "    test_rotate_list()\n",
    "    test_notes()\n",
    "    \n"
   ]
  },
  {
   "cell_type": "code",
   "execution_count": 3,
   "metadata": {},
   "outputs": [
    {
     "name": "stdout",
     "output_type": "stream",
     "text": [
      "['Emajor', 'B-minor', 'Gminor', 'E-minor', 'G-major', 'Aminor', 'D-major', 'Eminor', 'C-minor', 'Cmajor', 'C#major', 'Bminor', 'D-minor', 'Gmajor', 'F#minor', 'G-minor', 'E-major', 'Dminor', 'Fmajor', 'Cminor', 'C-major', 'B-major', 'Bmajor', 'C#minor', 'F#major', 'A-major', 'Dmajor', 'A-minor', 'Amajor', 'Fminor']\n",
      "('Emajor', [0, 1, 2, 3, 4, 5, 6, 7], (4.0, 2.0, 1.0), 3)\n",
      "('Emajor', [0, 1, 2, 3, 4, 5, 6, 7], (4.0, 2.0, 1.0), 4)\n",
      "('Emajor', [0, 1, 2, 3, 4, 5, 6, 7], (4.0, 2.0, 1.0), 5)\n",
      "('Emajor', [0, 1, 2, 3, 4, 5, 6, 7], (4.0, 2.0, 0.5), 3)\n",
      "('Emajor', [0, 1, 2, 3, 4, 5, 6, 7], (4.0, 2.0, 0.5), 4)\n",
      "('Emajor', [0, 1, 2, 3, 4, 5, 6, 7], (4.0, 2.0, 0.5), 5)\n",
      "('Emajor', [0, 1, 2, 3, 4, 5, 6, 7], (4.0, 2.0, 0.25), 3)\n",
      "('Emajor', [0, 1, 2, 3, 4, 5, 6, 7], (4.0, 2.0, 0.25), 4)\n",
      "('Emajor', [0, 1, 2, 3, 4, 5, 6, 7], (4.0, 2.0, 0.25), 5)\n",
      "('Emajor', [0, 1, 2, 3, 4, 5, 6, 7], (4.0, 1.0, 2.0), 3)\n",
      "('Emajor', [0, 1, 2, 3, 4, 5, 6, 7], (4.0, 1.0, 2.0), 4)\n",
      "('Emajor', [0, 1, 2, 3, 4, 5, 6, 7], (4.0, 1.0, 2.0), 5)\n",
      "('Emajor', [0, 1, 2, 3, 4, 5, 6, 7], (4.0, 1.0, 0.5), 3)\n",
      "('Emajor', [0, 1, 2, 3, 4, 5, 6, 7], (4.0, 1.0, 0.5), 4)\n",
      "('Emajor', [0, 1, 2, 3, 4, 5, 6, 7], (4.0, 1.0, 0.5), 5)\n",
      "('Emajor', [0, 1, 2, 3, 4, 5, 6, 7], (4.0, 1.0, 0.25), 3)\n",
      "('Emajor', [0, 1, 2, 3, 4, 5, 6, 7], (4.0, 1.0, 0.25), 4)\n",
      "('Emajor', [0, 1, 2, 3, 4, 5, 6, 7], (4.0, 1.0, 0.25), 5)\n",
      "('Emajor', [0, 1, 2, 3, 4, 5, 6, 7], (4.0, 0.5, 2.0), 3)\n",
      "('Emajor', [0, 1, 2, 3, 4, 5, 6, 7], (4.0, 0.5, 2.0), 4)\n",
      "('Emajor', [0, 1, 2, 3, 4, 5, 6, 7], (4.0, 0.5, 2.0), 5)\n",
      "('Emajor', [0, 1, 2, 3, 4, 5, 6, 7], (4.0, 0.5, 1.0), 3)\n",
      "('Emajor', [0, 1, 2, 3, 4, 5, 6, 7], (4.0, 0.5, 1.0), 4)\n",
      "('Emajor', [0, 1, 2, 3, 4, 5, 6, 7], (4.0, 0.5, 1.0), 5)\n",
      "('Emajor', [0, 1, 2, 3, 4, 5, 6, 7], (4.0, 0.5, 0.25), 3)\n",
      "('Emajor', [0, 1, 2, 3, 4, 5, 6, 7], (4.0, 0.5, 0.25), 4)\n",
      "('Emajor', [0, 1, 2, 3, 4, 5, 6, 7], (4.0, 0.5, 0.25), 5)\n",
      "('Emajor', [0, 1, 2, 3, 4, 5, 6, 7], (4.0, 0.25, 2.0), 3)\n",
      "('Emajor', [0, 1, 2, 3, 4, 5, 6, 7], (4.0, 0.25, 2.0), 4)\n",
      "('Emajor', [0, 1, 2, 3, 4, 5, 6, 7], (4.0, 0.25, 2.0), 5)\n",
      "('Emajor', [0, 1, 2, 3, 4, 5, 6, 7], (4.0, 0.25, 1.0), 3)\n",
      "('Emajor', [0, 1, 2, 3, 4, 5, 6, 7], (4.0, 0.25, 1.0), 4)\n",
      "('Emajor', [0, 1, 2, 3, 4, 5, 6, 7], (4.0, 0.25, 1.0), 5)\n",
      "('Emajor', [0, 1, 2, 3, 4, 5, 6, 7], (4.0, 0.25, 0.5), 3)\n",
      "('Emajor', [0, 1, 2, 3, 4, 5, 6, 7], (4.0, 0.25, 0.5), 4)\n",
      "('Emajor', [0, 1, 2, 3, 4, 5, 6, 7], (4.0, 0.25, 0.5), 5)\n",
      "('Emajor', [0, 1, 2, 3, 4, 5, 6, 7], (2.0, 4.0, 1.0), 3)\n",
      "('Emajor', [0, 1, 2, 3, 4, 5, 6, 7], (2.0, 4.0, 1.0), 4)\n",
      "('Emajor', [0, 1, 2, 3, 4, 5, 6, 7], (2.0, 4.0, 1.0), 5)\n",
      "('Emajor', [0, 1, 2, 3, 4, 5, 6, 7], (2.0, 4.0, 0.5), 3)\n",
      "('Emajor', [0, 1, 2, 3, 4, 5, 6, 7], (2.0, 4.0, 0.5), 4)\n",
      "('Emajor', [0, 1, 2, 3, 4, 5, 6, 7], (2.0, 4.0, 0.5), 5)\n",
      "('Emajor', [0, 1, 2, 3, 4, 5, 6, 7], (2.0, 4.0, 0.25), 3)\n",
      "('Emajor', [0, 1, 2, 3, 4, 5, 6, 7], (2.0, 4.0, 0.25), 4)\n",
      "('Emajor', [0, 1, 2, 3, 4, 5, 6, 7], (2.0, 4.0, 0.25), 5)\n",
      "('Emajor', [0, 1, 2, 3, 4, 5, 6, 7], (2.0, 1.0, 4.0), 3)\n",
      "('Emajor', [0, 1, 2, 3, 4, 5, 6, 7], (2.0, 1.0, 4.0), 4)\n",
      "('Emajor', [0, 1, 2, 3, 4, 5, 6, 7], (2.0, 1.0, 4.0), 5)\n",
      "('Emajor', [0, 1, 2, 3, 4, 5, 6, 7], (2.0, 1.0, 0.5), 3)\n",
      "('Emajor', [0, 1, 2, 3, 4, 5, 6, 7], (2.0, 1.0, 0.5), 4)\n",
      "('Emajor', [0, 1, 2, 3, 4, 5, 6, 7], (2.0, 1.0, 0.5), 5)\n",
      "('Emajor', [0, 1, 2, 3, 4, 5, 6, 7], (2.0, 1.0, 0.25), 3)\n",
      "('Emajor', [0, 1, 2, 3, 4, 5, 6, 7], (2.0, 1.0, 0.25), 4)\n",
      "('Emajor', [0, 1, 2, 3, 4, 5, 6, 7], (2.0, 1.0, 0.25), 5)\n",
      "('Emajor', [0, 1, 2, 3, 4, 5, 6, 7], (2.0, 0.5, 4.0), 3)\n",
      "('Emajor', [0, 1, 2, 3, 4, 5, 6, 7], (2.0, 0.5, 4.0), 4)\n",
      "('Emajor', [0, 1, 2, 3, 4, 5, 6, 7], (2.0, 0.5, 4.0), 5)\n",
      "('Emajor', [0, 1, 2, 3, 4, 5, 6, 7], (2.0, 0.5, 1.0), 3)\n",
      "('Emajor', [0, 1, 2, 3, 4, 5, 6, 7], (2.0, 0.5, 1.0), 4)\n",
      "('Emajor', [0, 1, 2, 3, 4, 5, 6, 7], (2.0, 0.5, 1.0), 5)\n",
      "('Emajor', [0, 1, 2, 3, 4, 5, 6, 7], (2.0, 0.5, 0.25), 3)\n",
      "('Emajor', [0, 1, 2, 3, 4, 5, 6, 7], (2.0, 0.5, 0.25), 4)\n",
      "('Emajor', [0, 1, 2, 3, 4, 5, 6, 7], (2.0, 0.5, 0.25), 5)\n",
      "('Emajor', [0, 1, 2, 3, 4, 5, 6, 7], (2.0, 0.25, 4.0), 3)\n",
      "('Emajor', [0, 1, 2, 3, 4, 5, 6, 7], (2.0, 0.25, 4.0), 4)\n",
      "('Emajor', [0, 1, 2, 3, 4, 5, 6, 7], (2.0, 0.25, 4.0), 5)\n",
      "('Emajor', [0, 1, 2, 3, 4, 5, 6, 7], (2.0, 0.25, 1.0), 3)\n",
      "('Emajor', [0, 1, 2, 3, 4, 5, 6, 7], (2.0, 0.25, 1.0), 4)\n",
      "('Emajor', [0, 1, 2, 3, 4, 5, 6, 7], (2.0, 0.25, 1.0), 5)\n",
      "('Emajor', [0, 1, 2, 3, 4, 5, 6, 7], (2.0, 0.25, 0.5), 3)\n",
      "('Emajor', [0, 1, 2, 3, 4, 5, 6, 7], (2.0, 0.25, 0.5), 4)\n",
      "('Emajor', [0, 1, 2, 3, 4, 5, 6, 7], (2.0, 0.25, 0.5), 5)\n",
      "('Emajor', [0, 1, 2, 3, 4, 5, 6, 7], (1.0, 4.0, 2.0), 3)\n",
      "('Emajor', [0, 1, 2, 3, 4, 5, 6, 7], (1.0, 4.0, 2.0), 4)\n",
      "('Emajor', [0, 1, 2, 3, 4, 5, 6, 7], (1.0, 4.0, 2.0), 5)\n",
      "('Emajor', [0, 1, 2, 3, 4, 5, 6, 7], (1.0, 4.0, 0.5), 3)\n",
      "('Emajor', [0, 1, 2, 3, 4, 5, 6, 7], (1.0, 4.0, 0.5), 4)\n",
      "Times up! 77\n"
     ]
    },
    {
     "data": {
      "text/plain": [
       "77"
      ]
     },
     "execution_count": 3,
     "metadata": {},
     "output_type": "execute_result"
    }
   ],
   "source": [
    "# run our main for 5 seconds\n",
    "my_main(5)\n"
   ]
  },
  {
   "cell_type": "code",
   "execution_count": 4,
   "metadata": {},
   "outputs": [
    {
     "name": "stdout",
     "output_type": "stream",
     "text": [
      "['Emajor', 'B-minor', 'Gminor', 'E-minor', 'G-major', 'Aminor', 'D-major', 'Eminor', 'C-minor', 'Cmajor', 'C#major', 'Bminor', 'D-minor', 'Gmajor', 'F#minor', 'G-minor', 'E-major', 'Dminor', 'Fmajor', 'Cminor', 'C-major', 'B-major', 'Bmajor', 'C#minor', 'F#major', 'A-major', 'Dmajor', 'A-minor', 'Amajor', 'Fminor']\n",
      "Times up! 18\n",
      "['Emajor', 'B-minor', 'Gminor', 'E-minor', 'G-major', 'Aminor', 'D-major', 'Eminor', 'C-minor', 'Cmajor', 'C#major', 'Bminor', 'D-minor', 'Gmajor', 'F#minor', 'G-minor', 'E-major', 'Dminor', 'Fmajor', 'Cminor', 'C-major', 'B-major', 'Bmajor', 'C#minor', 'F#major', 'A-major', 'Dmajor', 'A-minor', 'Amajor', 'Fminor']\n",
      "Times up! 18\n",
      "['Emajor', 'B-minor', 'Gminor', 'E-minor', 'G-major', 'Aminor', 'D-major', 'Eminor', 'C-minor', 'Cmajor', 'C#major', 'Bminor', 'D-minor', 'Gmajor', 'F#minor', 'G-minor', 'E-major', 'Dminor', 'Fmajor', 'Cminor', 'C-major', 'B-major', 'Bmajor', 'C#minor', 'F#major', 'A-major', 'Dmajor', 'A-minor', 'Amajor', 'Fminor']\n",
      "Times up! 18\n",
      "['Emajor', 'B-minor', 'Gminor', 'E-minor', 'G-major', 'Aminor', 'D-major', 'Eminor', 'C-minor', 'Cmajor', 'C#major', 'Bminor', 'D-minor', 'Gmajor', 'F#minor', 'G-minor', 'E-major', 'Dminor', 'Fmajor', 'Cminor', 'C-major', 'B-major', 'Bmajor', 'C#minor', 'F#major', 'A-major', 'Dmajor', 'A-minor', 'Amajor', 'Fminor']\n",
      "Times up! 18\n",
      "['Emajor', 'B-minor', 'Gminor', 'E-minor', 'G-major', 'Aminor', 'D-major', 'Eminor', 'C-minor', 'Cmajor', 'C#major', 'Bminor', 'D-minor', 'Gmajor', 'F#minor', 'G-minor', 'E-major', 'Dminor', 'Fmajor', 'Cminor', 'C-major', 'B-major', 'Bmajor', 'C#minor', 'F#major', 'A-major', 'Dmajor', 'A-minor', 'Amajor', 'Fminor']\n",
      "Times up! 18\n",
      "['Emajor', 'B-minor', 'Gminor', 'E-minor', 'G-major', 'Aminor', 'D-major', 'Eminor', 'C-minor', 'Cmajor', 'C#major', 'Bminor', 'D-minor', 'Gmajor', 'F#minor', 'G-minor', 'E-major', 'Dminor', 'Fmajor', 'Cminor', 'C-major', 'B-major', 'Bmajor', 'C#minor', 'F#major', 'A-major', 'Dmajor', 'A-minor', 'Amajor', 'Fminor']\n",
      "Times up! 18\n",
      "['Emajor', 'B-minor', 'Gminor', 'E-minor', 'G-major', 'Aminor', 'D-major', 'Eminor', 'C-minor', 'Cmajor', 'C#major', 'Bminor', 'D-minor', 'Gmajor', 'F#minor', 'G-minor', 'E-major', 'Dminor', 'Fmajor', 'Cminor', 'C-major', 'B-major', 'Bmajor', 'C#minor', 'F#major', 'A-major', 'Dmajor', 'A-minor', 'Amajor', 'Fminor']\n",
      "Times up! 18\n",
      "['Emajor', 'B-minor', 'Gminor', 'E-minor', 'G-major', 'Aminor', 'D-major', 'Eminor', 'C-minor', 'Cmajor', 'C#major', 'Bminor', 'D-minor', 'Gmajor', 'F#minor', 'G-minor', 'E-major', 'Dminor', 'Fmajor', 'Cminor', 'C-major', 'B-major', 'Bmajor', 'C#minor', 'F#major', 'A-major', 'Dmajor', 'A-minor', 'Amajor', 'Fminor']\n",
      "Times up! 18\n",
      "['Emajor', 'B-minor', 'Gminor', 'E-minor', 'G-major', 'Aminor', 'D-major', 'Eminor', 'C-minor', 'Cmajor', 'C#major', 'Bminor', 'D-minor', 'Gmajor', 'F#minor', 'G-minor', 'E-major', 'Dminor', 'Fmajor', 'Cminor', 'C-major', 'B-major', 'Bmajor', 'C#minor', 'F#major', 'A-major', 'Dmajor', 'A-minor', 'Amajor', 'Fminor']\n",
      "Times up! 18\n",
      "['Emajor', 'B-minor', 'Gminor', 'E-minor', 'G-major', 'Aminor', 'D-major', 'Eminor', 'C-minor', 'Cmajor', 'C#major', 'Bminor', 'D-minor', 'Gmajor', 'F#minor', 'G-minor', 'E-major', 'Dminor', 'Fmajor', 'Cminor', 'C-major', 'B-major', 'Bmajor', 'C#minor', 'F#major', 'A-major', 'Dmajor', 'A-minor', 'Amajor', 'Fminor']\n",
      "Times up! 18\n"
     ]
    },
    {
     "data": {
      "text/plain": [
       "[18, 18, 18, 18, 18, 18, 18, 18, 18, 18]"
      ]
     },
     "execution_count": 4,
     "metadata": {},
     "output_type": "execute_result"
    }
   ],
   "source": [
    "# Let's measure performance!\n",
    "__grid_search_print__ = False # disable debugging\n",
    "seconds = 1  # measure for 1 second\n",
    "repeats = 10 # measure 10 times\n",
    "def mean(x):\n",
    "    return sum(x)/len(x)\n",
    "perf = map(lambda x: my_main(seconds),range(0,repeats))\n",
    "perf"
   ]
  },
  {
   "cell_type": "code",
   "execution_count": 5,
   "metadata": {},
   "outputs": [
    {
     "name": "stdout",
     "output_type": "stream",
     "text": [
      "Current Performance ~ 18 iters per 1 seconds \n"
     ]
    }
   ],
   "source": [
    "print(\"Current Performance ~ %s iters per %s seconds \" % (mean(perf), seconds))"
   ]
  },
  {
   "cell_type": "markdown",
   "metadata": {},
   "source": [
    "4. Original performance? \n",
    "   * 14-18 songs per second? \n",
    "   * That's really very poor.\n",
    "5. Make sure we are optimizing what want optimized? \n",
    "   * Time.\n",
    "   * But at least we know what we want: More iters per second.\n",
    "6. Record original performance\n",
    "   * 14-18 song per second\n",
    "7. Investigate performance\n",
    "   * We're going to use a profiler\n",
    "8. Change system\n",
    "   * not until we profile!"
   ]
  },
  {
   "cell_type": "markdown",
   "metadata": {},
   "source": [
    "At this point we either have a good idea of what is slow or we need some help to find out what.\n",
    "\n",
    "Profilers instrument running code and take statistics about the number of calls and the \n",
    "\n",
    "Checkout https://docs.python.org/2/library/profile.html"
   ]
  },
  {
   "cell_type": "code",
   "execution_count": 6,
   "metadata": {},
   "outputs": [],
   "source": [
    "import cProfile"
   ]
  },
  {
   "cell_type": "code",
   "execution_count": 7,
   "metadata": {},
   "outputs": [
    {
     "name": "stdout",
     "output_type": "stream",
     "text": [
      "['Emajor', 'B-minor', 'Gminor', 'E-minor', 'G-major', 'Aminor', 'D-major', 'Eminor', 'C-minor', 'Cmajor', 'C#major', 'Bminor', 'D-minor', 'Gmajor', 'F#minor', 'G-minor', 'E-major', 'Dminor', 'Fmajor', 'Cminor', 'C-major', 'B-major', 'Bmajor', 'C#minor', 'F#major', 'A-major', 'Dmajor', 'A-minor', 'Amajor', 'Fminor']\n",
      "Times up! 39\n"
     ]
    }
   ],
   "source": [
    "# Instrument my program and run my_main for 4 seconds\n",
    "cProfile.run('my_main(4)','cpout.txt')"
   ]
  },
  {
   "cell_type": "markdown",
   "metadata": {},
   "source": [
    "## FYI Performance decreased due to instrumentation"
   ]
  },
  {
   "cell_type": "code",
   "execution_count": 8,
   "metadata": {},
   "outputs": [],
   "source": [
    "import pstats"
   ]
  },
  {
   "cell_type": "code",
   "execution_count": 9,
   "metadata": {},
   "outputs": [
    {
     "name": "stdout",
     "output_type": "stream",
     "text": [
      "Mon May 13 13:45:03 2019    cpout.txt\n",
      "\n",
      "         5354904 function calls (5224410 primitive calls) in 4.072 seconds\n",
      "\n",
      "   Ordered by: standard name\n",
      "\n",
      "   ncalls  tottime  percall  cumtime  percall filename:lineno(function)\n",
      "       39    0.002    0.000    0.104    0.003 <ipython-input-2-02a0ed9aa61e>:100(song_to_mid)\n",
      "       39    0.000    0.000    2.115    0.054 <ipython-input-2-02a0ed9aa61e>:107(save_midifile)\n",
      "       78    0.000    0.000    0.000    0.000 <ipython-input-2-02a0ed9aa61e>:110(strify)\n",
      "       39    0.001    0.000    4.073    0.104 <ipython-input-2-02a0ed9aa61e>:113(generate_and_save_song)\n",
      "        1    0.000    0.000    4.074    4.074 <ipython-input-2-02a0ed9aa61e>:125(grid_search)\n",
      "        1    0.000    0.000    4.074    4.074 <ipython-input-2-02a0ed9aa61e>:140(my_main)\n",
      "       87    0.000    0.000    0.000    0.000 <ipython-input-2-02a0ed9aa61e>:35(token_to_dir_tuple)\n",
      "        1    0.000    0.000    0.000    0.000 <ipython-input-2-02a0ed9aa61e>:41(load_transcript)\n",
      "        7    0.000    0.000    0.000    0.000 <ipython-input-2-02a0ed9aa61e>:45(rotate_list)\n",
      "        1    0.000    0.000    0.000    0.000 <ipython-input-2-02a0ed9aa61e>:48(n_rotated_lists)\n",
      "     3393    0.007    0.000    0.193    0.000 <ipython-input-2-02a0ed9aa61e>:62(make_note)\n",
      "       39    0.001    0.000    1.372    0.035 <ipython-input-2-02a0ed9aa61e>:67(pitches_of_key)\n",
      "       39    0.007    0.000    1.581    0.041 <ipython-input-2-02a0ed9aa61e>:75(generate_abram_song)\n",
      "     3393    0.007    0.000    0.265    0.000 <ipython-input-2-02a0ed9aa61e>:90(note_to_str)\n",
      "       39    0.002    0.000    0.267    0.007 <ipython-input-2-02a0ed9aa61e>:92(song_to_txt)\n",
      "       39    0.003    0.000    0.005    0.000 <ipython-input-2-02a0ed9aa61e>:95(save_textfile)\n",
      "        1    0.000    0.000    4.074    4.074 <string>:1(<module>)\n",
      "    10179    0.004    0.000    0.006    0.000 <string>:8(__new__)\n",
      "     6903    0.004    0.000    0.019    0.000 __init__.py:1012(__init__)\n",
      "     6903    0.003    0.000    0.022    0.000 __init__.py:1020(getBytes)\n",
      "       39    0.000    0.000    0.000    0.000 __init__.py:1042(__init__)\n",
      "       39    0.008    0.000    0.052    0.001 __init__.py:1108(getBytes)\n",
      "       78    0.000    0.000    0.001    0.000 __init__.py:111(getNumber)\n",
      "       39    0.001    0.000    0.001    0.000 __init__.py:1141(updateEvents)\n",
      "       39    0.000    0.000    0.000    0.000 __init__.py:1194(__init__)\n",
      "       39    0.000    0.000    0.003    0.000 __init__.py:1201(open)\n",
      "       39    0.000    0.000    0.002    0.000 __init__.py:12260(__init__)\n",
      "       39    0.000    0.000    0.001    0.000 __init__.py:1228(close)\n",
      "       39    0.000    0.000    0.002    0.000 __init__.py:1237(__init__)\n",
      "       39    0.000    0.000    0.053    0.001 __init__.py:1284(write)\n",
      "       39    0.000    0.000    0.053    0.001 __init__.py:1291(writestr)\n",
      "       39    0.000    0.000    0.001    0.000 __init__.py:1302(writeMThdStr)\n",
      "       39    0.008    0.000    1.271    0.033 __init__.py:1393(_deepcopySubclassable)\n",
      "       39    0.000    0.000    1.375    0.035 __init__.py:1455(__deepcopy__)\n",
      "       39    0.000    0.000    0.104    0.003 __init__.py:1470(_replaceSpannerBundleForDeepcopy)\n",
      "    20358    0.018    0.000    0.041    0.000 __init__.py:1503(setElementOffset)\n",
      "       39    0.000    0.000    1.278    0.033 __init__.py:1510(getPitches)\n",
      "    67821    0.051    0.000    0.056    0.000 __init__.py:1547(elementOffset)\n",
      "     3393    0.020    0.000    0.100    0.000 __init__.py:1863(append)\n",
      "       39    0.000    0.000    0.001    0.000 __init__.py:193(__init__)\n",
      "      195    0.002    0.000    0.009    0.000 __init__.py:209(__init__)\n",
      "      195    0.001    0.000    0.001    0.000 __init__.py:232(putNumber)\n",
      "       39    0.000    0.000    0.046    0.001 __init__.py:2406(__init__)\n",
      "       39    0.000    0.000    2.114    0.054 __init__.py:246(write)\n",
      "     7020    0.014    0.000    0.020    0.000 __init__.py:259(putVariableLengthNumber)\n",
      "       39    0.000    0.000    0.000    0.000 __init__.py:262(__len__)\n",
      "      117    0.000    0.000    0.002    0.000 __init__.py:2674(getElementsByClass)\n",
      "      273    0.000    0.000    0.002    0.000 __init__.py:292(__iter__)\n",
      "      195    0.000    0.000    0.002    0.000 __init__.py:301(iter)\n",
      "     6747    0.006    0.000    0.020    0.000 __init__.py:314(__getitem__)\n",
      "     7059    0.002    0.000    0.002    0.000 __init__.py:374(hasattr)\n",
      "     6903    0.002    0.000    0.002    0.000 __init__.py:386(__getattr__)\n",
      "       39    0.000    0.000    1.278    0.033 __init__.py:392(getRealization)\n",
      "       78    0.000    0.000    0.002    0.000 __init__.py:4158(spanners)\n",
      "       39    0.000    0.000    0.000    0.000 __init__.py:4176(_getAtSoundingPitch)\n",
      "       78    0.000    0.000    0.000    0.000 __init__.py:433(__init__)\n",
      "      351    0.001    0.000    0.029    0.000 __init__.py:443(_getElements)\n",
      "    13806    0.026    0.000    0.030    0.000 __init__.py:485(__init__)\n",
      "    20631    0.006    0.000    0.006    0.000 __init__.py:514(updateSortOrder)\n",
      "     6786    0.001    0.000    0.001    0.000 __init__.py:544(_setPitch)\n",
      "     6786    0.001    0.000    0.001    0.000 __init__.py:556(_setVelocity)\n",
      "       78    0.000    0.000    0.000    0.000 __init__.py:566(_setData)\n",
      "      156    0.000    0.000    0.000    0.000 __init__.py:573(_getData)\n",
      "       39    0.000    0.000    0.001    0.000 __init__.py:579(setPitchBend)\n",
      "       39    0.006    0.000    0.104    0.003 __init__.py:6152(stripTies)\n",
      "     3393    0.001    0.000    0.001    0.000 __init__.py:6225(updateEndMatch)\n",
      "       39    0.000    0.000    0.044    0.001 __init__.py:639(__init__)\n",
      "      156    0.001    0.000    0.082    0.001 __init__.py:6444(sort)\n",
      "    10179    0.005    0.000    0.066    0.000 __init__.py:6471(<lambda>)\n",
      "       39    0.005    0.000    0.040    0.001 __init__.py:6480(sorted)\n",
      "       78    0.009    0.000    0.207    0.003 __init__.py:6591(_getFlatOrSemiFlat)\n",
      "      156    0.000    0.000    0.207    0.001 __init__.py:6649(flat)\n",
      "       78    0.002    0.000    0.084    0.001 __init__.py:670(_buildNetwork)\n",
      "      117    0.000    0.000    0.006    0.000 __init__.py:671(subconvertersList)\n",
      "     3393    0.001    0.000    0.001    0.000 __init__.py:7153(_setHighestTime)\n",
      "     3393    0.001    0.000    0.001    0.000 __init__.py:7158(highestTime)\n",
      "      117    0.003    0.000    0.006    0.000 __init__.py:753(defaultSubconverters)\n",
      "       39    0.001    0.000    0.003    0.000 __init__.py:793(getSubConverterFormats)\n",
      "     6903    0.011    0.000    0.021    0.000 __init__.py:816(getBytes)\n",
      "       78    0.000    0.000    0.002    0.000 __init__.py:84(__init__)\n",
      "      117    0.000    0.000    0.000    0.000 __init__.py:8595(hasPartLikeStreams)\n",
      "       39    0.000    0.000    0.001    0.000 __init__.py:8730(notesAndRests)\n",
      "       78    0.000    0.000    0.004    0.000 __init__.py:886(mergeAttributes)\n",
      "       39    0.000    0.000    0.003    0.000 __init__.py:899(regularizeFormat)\n",
      "     3393    0.003    0.000    0.058    0.000 __init__.py:910(hasElement)\n",
      "    30147    0.131    0.000    0.288    0.000 _abcoll.py:548(update)\n",
      "    88959    0.039    0.000    0.039    0.000 _weakrefset.py:70(__contains__)\n",
      "    29406    0.051    0.000    0.079    0.000 abc.py:128(__instancecheck__)\n",
      "    30147    0.022    0.000    0.040    0.000 abc.py:148(__subclasscheck__)\n",
      "     3393    0.022    0.000    0.138    0.000 base.py:1237(purgeOrphans)\n",
      "     3393    0.002    0.000    0.007    0.000 base.py:1270(purgeLocations)\n",
      "     3393    0.003    0.000    0.005    0.000 base.py:2061(_getActiveSite)\n",
      "    33891    0.036    0.000    0.071    0.000 base.py:2073(_setActiveSite)\n",
      "    10179    0.032    0.000    0.061    0.000 base.py:2292(sortTuple)\n",
      "    40716    0.010    0.000    0.010    0.000 base.py:2433(_getDuration)\n",
      "    14547    0.021    0.000    0.072    0.000 base.py:2442(_setDuration)\n",
      "    10179    0.010    0.000    0.101    0.000 base.py:2464(informSites)\n",
      "    10179    0.002    0.000    0.002    0.000 base.py:2478(_getPriority)\n",
      "       39    0.001    0.000    2.114    0.054 base.py:2529(write)\n",
      "    25974    0.087    0.000    0.597    0.000 base.py:409(__init__)\n",
      "       78    0.000    0.000    0.003    0.000 base.py:459(mergeAttributes)\n",
      "     3432    0.115    0.000    1.029    0.000 base.py:479(_deepcopySubclassable)\n",
      "     3393    0.006    0.000    1.167    0.000 base.py:585(__deepcopy__)\n",
      "      117    0.000    0.000    0.000    0.000 base.py:632(__getstate__)\n",
      "      117    0.000    0.000    0.000    0.000 base.py:638(__setstate__)\n",
      "    16965    0.008    0.000    0.014    0.000 base.py:643(isClassOrSubclass)\n",
      "    45123    0.014    0.000    0.014    0.000 base.py:668(classes)\n",
      "    16965    0.004    0.000    0.004    0.000 base.py:707(classSet)\n",
      "      234    0.000    0.000    0.001    0.000 base.py:898(_getDerivation)\n",
      "     3393    0.002    0.000    0.005    0.000 base.py:933(getOffsetBySite)\n",
      "    11154    0.005    0.000    0.005    0.000 beam.py:196(__init__)\n",
      "    73164    0.058    0.000    0.058    0.000 classTools.py:18(isNum)\n",
      "     3627    0.002    0.000    0.003    0.000 classTools.py:63(isListLike)\n",
      "     3393    0.001    0.000    0.003    0.000 classTools.py:89(isIterable)\n",
      "    17238    0.028    0.000    0.039    0.000 collections.py:117(keys)\n",
      "       78    0.000    0.000    0.000    0.000 collections.py:125(items)\n",
      "    30147    0.193    0.000    0.524    0.000 collections.py:50(__init__)\n",
      "    54873    0.065    0.000    0.065    0.000 collections.py:71(__setitem__)\n",
      "     3393    0.007    0.000    0.007    0.000 collections.py:81(__delitem__)\n",
      "    73086    0.023    0.000    0.023    0.000 collections.py:90(__iter__)\n",
      "       78    0.000    0.000    0.000    0.000 copy.py:113(_copy_with_constructor)\n",
      "123084/2925    0.165    0.000    1.502    0.001 copy.py:145(deepcopy)\n",
      "     6825    0.001    0.000    0.001    0.000 copy.py:198(_deepcopy_atomic)\n",
      "    13611    0.008    0.000    0.018    0.000 copy.py:226(_deepcopy_list)\n",
      "     6903    0.031    0.000    0.041    0.000 copy.py:234(_deepcopy_tuple)\n",
      "     3393    0.009    0.000    0.027    0.000 copy.py:253(_deepcopy_dict)\n",
      "    56511    0.039    0.000    0.050    0.000 copy.py:267(_keep_alive)\n",
      "     7020    0.027    0.000    0.144    0.000 copy.py:306(_reconstruct)\n",
      "      195    0.001    0.000    0.003    0.000 copy.py:66(copy)\n",
      "     7020    0.004    0.000    0.005    0.000 copy_reg.py:92(__newobj__)\n",
      "     3666    0.009    0.000    0.029    0.000 core.py:154(coreElementsChanged)\n",
      "     3393    0.041    0.000    0.054    0.000 core.py:241(coreHasElementByMemoryLocation)\n",
      "     3393    0.003    0.000    0.011    0.000 core.py:301(coreGuardBeforeAddElement)\n",
      "      195    0.000    0.000    0.000    0.000 core.py:34(__init__)\n",
      "       39    0.000    0.000    0.104    0.003 core.py:361(spannerBundle)\n",
      "    13572    0.028    0.000    0.169    0.000 core.py:60(coreInsert)\n",
      "     3588    0.004    0.000    0.008    0.000 derivation.py:123(__init__)\n",
      "     3588    0.003    0.000    0.005    0.000 derivation.py:180(client)\n",
      "      273    0.000    0.000    0.000    0.000 derivation.py:221(method)\n",
      "     3588    0.001    0.000    0.001    0.000 derivation.py:261(method)\n",
      "      156    0.000    0.000    0.000    0.000 derivation.py:265(origin)\n",
      "     3588    0.002    0.000    0.002    0.000 derivation.py:269(origin)\n",
      "    17940    0.058    0.000    0.187    0.000 duration.py:1441(__init__)\n",
      "     3393    0.005    0.000    0.029    0.000 duration.py:1550(__repr__)\n",
      "     3393    0.009    0.000    0.060    0.000 duration.py:1560(__deepcopy__)\n",
      "    24726    0.012    0.000    0.030    0.000 duration.py:1592(_getClient)\n",
      "    17940    0.011    0.000    0.019    0.000 duration.py:1595(_setClient)\n",
      "     3393    0.009    0.000    0.154    0.000 duration.py:1605(_updateComponents)\n",
      "    41691    0.007    0.000    0.007    0.000 duration.py:1627(_getLinked)\n",
      "     6786    0.013    0.000    0.105    0.000 duration.py:1646(addDurationTuple)\n",
      "     3393    0.003    0.000    0.070    0.000 duration.py:1803(clear)\n",
      "    24726    0.026    0.000    0.186    0.000 duration.py:2076(informClient)\n",
      "    13572    0.023    0.000    0.078    0.000 duration.py:2269(updateQuarterLength)\n",
      "    10179    0.004    0.000    0.004    0.000 duration.py:2286(components)\n",
      "     3393    0.004    0.000    0.135    0.000 duration.py:2292(components)\n",
      "     3393    0.021    0.000    0.186    0.000 duration.py:2445(fullName)\n",
      "    13572    0.012    0.000    0.016    0.000 duration.py:2598(quarterLengthNoTuplets)\n",
      "    31512    0.009    0.000    0.027    0.000 duration.py:2612(_getQuarterLength)\n",
      "    14547    0.028    0.000    0.079    0.000 duration.py:2620(_setQuarterLength)\n",
      "16965/10179    0.005    0.000    0.158    0.000 duration.py:2683(tuplets)\n",
      "    13572    0.013    0.000    0.021    0.000 duration.py:2698(aggregateTupletMultiplier)\n",
      "     3393    0.002    0.000    0.002    0.000 duration.py:2804(durationTupleFromTypeDots)\n",
      "     3393    0.005    0.000    0.010    0.000 duration.py:482(quarterConversion)\n",
      "      195    0.000    0.000    0.001    0.000 filters.py:265(__init__)\n",
      "    16965    0.007    0.000    0.021    0.000 filters.py:280(__call__)\n",
      "      195    0.000    0.000    0.000    0.000 filters.py:60(__init__)\n",
      "       39    0.000    0.000    0.002    0.000 formats.py:39(findSubConverterForFormat)\n",
      "       39    0.001    0.000    0.007    0.000 formats.py:67(findFormat)\n",
      "        2    0.000    0.000    0.000    0.000 inkey.py:35(get_all_keys)\n",
      "      312    0.001    0.000    0.010    0.000 inkey.py:5(note_octave_mod)\n",
      "     3627    0.047    0.000    0.192    0.000 interval.py:1075(__init__)\n",
      "     4368    0.004    0.000    0.006    0.000 interval.py:112(_extractPitch)\n",
      "      819    0.002    0.000    0.060    0.000 interval.py:1199(reverse)\n",
      "      546    0.001    0.000    0.014    0.000 interval.py:1237(getChromatic)\n",
      "     2184    0.001    0.000    0.001    0.000 interval.py:130(convertStaffDistanceToInterval)\n",
      "     3627    0.023    0.000    0.096    0.000 interval.py:1354(__init__)\n",
      "      819    0.001    0.000    0.021    0.000 interval.py:1422(reverse)\n",
      "       78    0.000    0.000    0.006    0.000 interval.py:1438(getDiatonic)\n",
      "       78    0.000    0.000    0.007    0.000 interval.py:1470(transposePitch)\n",
      "      546    0.003    0.000    0.052    0.000 interval.py:1516(_stringToDiatonicChromatic)\n",
      "     2184    0.003    0.000    0.003    0.000 interval.py:153(convertDiatonicNumberToStep)\n",
      "     2184    0.007    0.000    0.104    0.000 interval.py:1571(notesToGeneric)\n",
      "     2184    0.007    0.000    0.113    0.000 interval.py:1598(notesToChromatic)\n",
      "     2184    0.006    0.000    0.006    0.000 interval.py:1631(_getSpecifierFromGenericChromatic)\n",
      "     2184    0.003    0.000    0.150    0.000 interval.py:1690(intervalsToDiatonic)\n",
      "     3627    0.034    0.000    0.826    0.000 interval.py:1894(__init__)\n",
      "     3627    0.017    0.000    0.389    0.000 interval.py:1955(reinit)\n",
      "     3627    0.006    0.000    0.009    0.000 interval.py:213(convertSpecifier)\n",
      "     2262    0.019    0.000    0.938    0.000 interval.py:2155(transposePitch)\n",
      "     2184    0.022    0.000    0.911    0.000 interval.py:2225(_diatonicTransposePitch)\n",
      "      819    0.003    0.000    0.103    0.000 interval.py:2296(reverse)\n",
      "     3627    0.003    0.000    0.005    0.000 interval.py:273(convertGeneric)\n",
      "       78    0.000    0.000    0.000    0.000 interval.py:361(convertSemitoneToSpecifierGenericMicrotone)\n",
      "       78    0.000    0.000    0.000    0.000 interval.py:445(convertSemitoneToSpecifierGeneric)\n",
      "     3627    0.042    0.000    0.116    0.000 interval.py:655(__init__)\n",
      "      819    0.001    0.000    0.029    0.000 interval.py:799(reverse)\n",
      "      546    0.000    0.000    0.018    0.000 interval.py:958(getDiatonic)\n",
      "     2184    0.022    0.000    0.042    0.000 intervalNetwork.py:1060(_getNext)\n",
      "      546    0.001    0.000    0.067    0.000 intervalNetwork.py:110(__init__)\n",
      "     2184    0.001    0.000    0.001    0.000 intervalNetwork.py:1114(_processAlteredNodes)\n",
      "      195    0.000    0.000    0.000    0.000 intervalNetwork.py:1153(_getUnalteredPitch)\n",
      "      195    0.000    0.000    0.002    0.000 intervalNetwork.py:1296(_getCacheKey)\n",
      "   117/39    0.015    0.000    1.265    0.032 intervalNetwork.py:1313(_realizeAscending)\n",
      "       78    0.014    0.000    0.508    0.007 intervalNetwork.py:1472(_realizeDescending)\n",
      "     2184    0.000    0.000    0.000    0.000 intervalNetwork.py:154(interval)\n",
      "       39    0.000    0.000    1.268    0.033 intervalNetwork.py:1658(realize)\n",
      "     1092    0.003    0.000    0.006    0.000 intervalNetwork.py:185(addDirectedConnection)\n",
      "       39    0.000    0.000    1.268    0.033 intervalNetwork.py:1851(realizePitch)\n",
      "       39    0.000    0.000    0.120    0.003 intervalNetwork.py:1953(realizeTermini)\n",
      "       39    0.003    0.000    1.130    0.029 intervalNetwork.py:1990(realizeMinMax)\n",
      "      546    0.001    0.000    0.007    0.000 intervalNetwork.py:226(addBiDirectedConnections)\n",
      "    15288    0.014    0.000    0.014    0.000 intervalNetwork.py:248(getConnections)\n",
      "     2184    0.006    0.000    0.938    0.000 intervalNetwork.py:2836(transposePitchAndApplySimplification)\n",
      "      624    0.000    0.000    0.000    0.000 intervalNetwork.py:324(__init__)\n",
      "      156    0.000    0.000    0.000    0.000 intervalNetwork.py:335(__hash__)\n",
      "       78    0.001    0.000    0.082    0.001 intervalNetwork.py:412(__init__)\n",
      "       78    0.000    0.000    0.002    0.000 intervalNetwork.py:445(clear)\n",
      "       78    0.003    0.000    0.080    0.001 intervalNetwork.py:486(fillBiDirectedEdges)\n",
      "     3198    0.001    0.000    0.002    0.000 intervalNetwork.py:63(_gte)\n",
      "     2028    0.001    0.000    0.001    0.000 intervalNetwork.py:73(_lte)\n",
      "       78    0.000    0.000    0.000    0.000 intervalNetwork.py:841(terminusLowNodes)\n",
      "      117    0.000    0.000    0.000    0.000 intervalNetwork.py:857(terminusHighNodes)\n",
      "       39    0.000    0.000    0.001    0.000 intervalNetwork.py:875(_getNodeDegreeDictionary)\n",
      "       39    0.000    0.000    0.001    0.000 intervalNetwork.py:987(_nodeNameToNodes)\n",
      "        6    0.000    0.000    0.000    0.000 iostream.py:195(schedule)\n",
      "        4    0.000    0.000    0.000    0.000 iostream.py:300(_is_master_process)\n",
      "        4    0.000    0.000    0.000    0.000 iostream.py:313(_schedule_flush)\n",
      "        4    0.000    0.000    0.000    0.000 iostream.py:366(write)\n",
      "        6    0.000    0.000    0.000    0.000 iostream.py:93(_event_pipe)\n",
      "      312    0.000    0.000    0.001    0.000 iterator.py:130(__iter__)\n"
     ]
    },
    {
     "name": "stdout",
     "output_type": "stream",
     "text": [
      "       78    0.000    0.000    0.030    0.000 iterator.py:1309(__init__)\n",
      "       78    0.000    0.000    0.000    0.000 iterator.py:1340(reset)\n",
      "     6864    0.014    0.000    0.019    0.000 iterator.py:1349(__next__)\n",
      "    10491    0.030    0.000    0.091    0.000 iterator.py:135(__next__)\n",
      "     6786    0.003    0.000    0.003    0.000 iterator.py:1439(iteratorStack)\n",
      "     6786    0.009    0.000    0.025    0.000 iterator.py:1482(currentHierarchyOffset)\n",
      "      117    0.000    0.000    0.025    0.000 iterator.py:351(__bool__)\n",
      "    17706    0.009    0.000    0.009    0.000 iterator.py:407(updateActiveInformation)\n",
      "      390    0.000    0.000    0.001    0.000 iterator.py:421(reset)\n",
      "      195    0.000    0.000    0.000    0.000 iterator.py:433(resetCaches)\n",
      "      390    0.000    0.000    0.000    0.000 iterator.py:443(cleanup)\n",
      "       78    0.001    0.000    0.031    0.000 iterator.py:473(matchingElements)\n",
      "    30537    0.013    0.000    0.034    0.000 iterator.py:528(matchesFilters)\n",
      "       78    0.004    0.000    0.087    0.001 iterator.py:574(stream)\n",
      "      351    0.002    0.000    0.031    0.000 iterator.py:65(__init__)\n",
      "      195    0.000    0.000    0.000    0.000 iterator.py:701(addFilter)\n",
      "      195    0.000    0.000    0.002    0.000 iterator.py:744(getElementsByClass)\n",
      "       39    0.000    0.000    0.002    0.000 key.py:153(pitchToSharps)\n",
      "       39    0.000    0.000    0.002    0.000 key.py:386(__init__)\n",
      "       39    0.001    0.000    0.093    0.002 key.py:845(__init__)\n",
      "    11154    0.025    0.000    0.667    0.000 note.py:1056(__init__)\n",
      "     3393    0.010    0.000    0.228    0.000 note.py:1527(fullName)\n",
      "    11154    0.033    0.000    0.412    0.000 note.py:363(__init__)\n",
      "    11154    0.034    0.000    0.450    0.000 note.py:733(__init__)\n",
      "     3393    0.006    0.000    1.172    0.000 note.py:751(__deepcopy__)\n",
      "    10179    0.005    0.000    0.015    0.000 note.py:936(_getVolume)\n",
      "    68835    0.041    0.000    0.068    0.000 numberTools.py:235(opFrac)\n",
      "    37011    0.057    0.000    0.071    0.000 numberTools.py:441(py3round)\n",
      "     3393    0.011    0.000    0.038    0.000 objects.py:121(__getstate__)\n",
      "     3393    0.005    0.000    0.007    0.000 objects.py:136(__setstate__)\n",
      "     5109    0.015    0.000    0.034    0.000 objects.py:140(_getSlotsRecursive)\n",
      "    23751    0.009    0.000    0.009    0.000 objects.py:74(__call__)\n",
      "     2028    0.001    0.000    0.002    0.000 pitch.py:1068(isTwelveTone)\n",
      "     3120    0.001    0.000    0.001    0.000 pitch.py:1089(_getName)\n",
      "     7332    0.001    0.000    0.001    0.000 pitch.py:1101(_getAlter)\n",
      "      624    0.000    0.000    0.000    0.000 pitch.py:1136(_getDisplayType)\n",
      "      624    0.000    0.000    0.000    0.000 pitch.py:1139(_setDisplayType)\n",
      "      624    0.000    0.000    0.000    0.000 pitch.py:1159(_getDisplayStatus)\n",
      "     1248    0.001    0.000    0.001    0.000 pitch.py:1162(_setDisplayStatus)\n",
      "     1014    0.001    0.000    0.001    0.000 pitch.py:1204(fullName)\n",
      "      624    0.002    0.000    0.005    0.000 pitch.py:1224(inheritDisplay)\n",
      "     7878    0.034    0.000    0.194    0.000 pitch.py:1444(__init__)\n",
      "     3432    0.029    0.000    0.119    0.000 pitch.py:1563(__deepcopy__)\n",
      "       78    0.000    0.000    0.000    0.000 pitch.py:160(_convertPsToOct)\n",
      "    52026    0.007    0.000    0.007    0.000 pitch.py:1700(_getAccidental)\n",
      "    11388    0.019    0.000    0.049    0.000 pitch.py:1703(_setAccidental)\n",
      "    63375    0.007    0.000    0.007    0.000 pitch.py:1751(_getMicrotone)\n",
      "     2184    0.005    0.000    0.010    0.000 pitch.py:1754(_setMicrotone)\n",
      "     6786    0.008    0.000    0.032    0.000 pitch.py:1792(isTwelveTone)\n",
      "       78    0.001    0.000    0.002    0.000 pitch.py:187(_convertPsToStep)\n",
      "    26598    0.069    0.000    0.215    0.000 pitch.py:2037(_getPs)\n",
      "       78    0.000    0.000    0.003    0.000 pitch.py:2065(_setPs)\n",
      "     6786    0.007    0.000    0.066    0.000 pitch.py:2171(_getMidi)\n",
      "     6786    0.004    0.000    0.005    0.000 pitch.py:2175(schoolYardRounding)\n",
      "      468    0.000    0.000    0.001    0.000 pitch.py:2292(_getName)\n",
      "     7878    0.094    0.000    0.135    0.000 pitch.py:2309(_setName)\n",
      "      468    0.001    0.000    0.001    0.000 pitch.py:2390(_getNameWithOctave)\n",
      "     3393    0.010    0.000    0.029    0.000 pitch.py:2476(fullName)\n",
      "    13611    0.002    0.000    0.002    0.000 pitch.py:2507(_getStep)\n",
      "     2262    0.004    0.000    0.005    0.000 pitch.py:2516(_setStep)\n",
      "    77298    0.011    0.000    0.011    0.000 pitch.py:2714(_getOctave)\n",
      "    10491    0.005    0.000    0.005    0.000 pitch.py:2720(_setOctave)\n",
      "    33189    0.022    0.000    0.031    0.000 pitch.py:2754(_getImplicitOctave)\n",
      "     1248    0.002    0.000    0.002    0.000 pitch.py:322(_convertCentsToAlterAndCents)\n",
      "    36777    0.030    0.000    0.113    0.000 pitch.py:369(_convertHarmonicToCents)\n",
      "     6552    0.019    0.000    0.033    0.000 pitch.py:3928(_getDiatonicNoteNum)\n",
      "       78    0.000    0.000    0.018    0.000 pitch.py:4019(transpose)\n",
      "       78    0.000    0.000    0.003    0.000 pitch.py:4133(transposeBelowTarget)\n",
      "       39    0.000    0.000    0.003    0.000 pitch.py:4208(transposeAboveTarget)\n",
      "    13572    0.011    0.000    0.016    0.000 pitch.py:608(__init__)\n",
      "     3432    0.004    0.000    0.008    0.000 pitch.py:621(__deepcopy__)\n",
      "    26598    0.012    0.000    0.107    0.000 pitch.py:714(alter)\n",
      "    36777    0.018    0.000    0.131    0.000 pitch.py:724(cents)\n",
      "     1326    0.004    0.000    0.009    0.000 pitch.py:808(__init__)\n",
      "     1716    0.010    0.000    0.028    0.000 pitch.py:842(__deepcopy__)\n",
      "     1326    0.003    0.000    0.003    0.000 pitch.py:981(set)\n",
      "       39    0.000    0.000    0.000    0.000 re.py:138(match)\n",
      "       39    0.000    0.000    0.000    0.000 re.py:230(_compile)\n",
      "    23751    0.013    0.000    0.020    0.000 sites.py:100(_setAndWrapSite)\n",
      "    29406    0.070    0.000    0.590    0.000 sites.py:167(__init__)\n",
      "     3432    0.024    0.000    0.165    0.000 sites.py:180(__deepcopy__)\n",
      "     3666    0.001    0.000    0.001    0.000 sites.py:280(__iter__)\n",
      "    20358    0.069    0.000    0.135    0.000 sites.py:330(add)\n",
      "    30810    0.047    0.000    0.122    0.000 sites.py:403(yieldSites)\n",
      "    10179    0.017    0.000    0.086    0.000 sites.py:492(get)\n",
      "    10179    0.004    0.000    0.004    0.000 sites.py:790(hasSiteId)\n",
      "     3393    0.003    0.000    0.005    0.000 sites.py:839(purgeLocations)\n",
      "    23751    0.010    0.000    0.010    0.000 sites.py:87(__init__)\n",
      "    48645    0.023    0.000    0.051    0.000 sites.py:94(_getAndUnwrapSite)\n",
      "     3393    0.005    0.000    0.012    0.000 sites.py:952(removeById)\n",
      "        6    0.000    0.000    0.000    0.000 socket.py:333(send)\n",
      "    10062    0.005    0.000    0.007    0.000 sorting.py:112(__lt__)\n",
      "    10179    0.008    0.000    0.013    0.000 sorting.py:96(__new__)\n",
      "       39    0.000    0.000    0.001    0.000 spanner.py:618(__init__)\n",
      "       39    0.000    0.000    0.000    0.000 spanner.py:649(__len__)\n",
      "      273    0.000    0.000    0.001    0.000 streamStatus.py:179(client)\n",
      "      234    0.001    0.000    0.001    0.000 streamStatus.py:72(__init__)\n",
      "       39    0.000    0.000    0.000    0.000 streamStatus.py:87(__deepcopy__)\n",
      "     7215    0.002    0.000    0.003    0.000 string.py:310(join)\n",
      "      546    0.001    0.000    0.001    0.000 stringTools.py:98(getNumFromStr)\n",
      "     1326    0.002    0.000    0.002    0.000 style.py:379(__init__)\n",
      "       39    0.000    0.000    0.002    0.000 subConverters.py:80(__init__)\n",
      "       39    0.000    0.000    2.103    0.054 subConverters.py:921(write)\n",
      "        6    0.000    0.000    0.000    0.000 threading.py:570(isSet)\n",
      "        6    0.000    0.000    0.000    0.000 threading.py:986(isAlive)\n",
      "       39    0.023    0.001    0.241    0.006 translate.py:1028(_streamToPackets)\n",
      "     6786    0.002    0.000    0.002    0.000 translate.py:1116(<lambda>)\n",
      "       39    0.028    0.001    0.033    0.001 translate.py:1122(_processPackets)\n",
      "     6825    0.002    0.000    0.002    0.000 translate.py:1323(<lambda>)\n",
      "       39    0.011    0.000    0.032    0.001 translate.py:1336(_packetsToEvents)\n",
      "       39    0.000    0.000    0.001    0.000 translate.py:164(getStartEvents)\n",
      "       39    0.003    0.000    1.449    0.037 translate.py:1646(_prepareStreamForMidi)\n",
      "       39    0.004    0.000    2.042    0.052 translate.py:1680(streamHierarchyToMidiTracks)\n",
      "       39    0.002    0.000    2.044    0.052 translate.py:1890(streamToMidiFile)\n",
      "       39    0.000    0.000    0.001    0.000 translate.py:210(getEndEvents)\n",
      "       39    0.000    0.000    2.045    0.052 translate.py:237(music21ObjectToMidiFile)\n",
      "     3393    0.032    0.000    0.149    0.000 translate.py:361(noteToMidiEvents)\n",
      "     6786    0.006    0.000    0.006    0.000 translate.py:43(offsetToMidi)\n",
      "     6786    0.007    0.000    0.009    0.000 translate.py:72(durationToMidi)\n",
      "     6825    0.014    0.000    0.022    0.000 translate.py:994(_getPacket)\n",
      "        4    0.000    0.000    0.000    0.000 utf_8.py:15(decode)\n",
      "        1    0.000    0.000    0.000    0.000 util.py:11(load_split_file)\n",
      "     3393    0.007    0.000    0.017    0.000 volume.py:152(getRealized)\n",
      "     3393    0.001    0.000    0.001    0.000 volume.py:282(cachedRealized)\n",
      "     6786    0.003    0.000    0.006    0.000 volume.py:310(client)\n",
      "     3393    0.003    0.000    0.007    0.000 volume.py:324(client)\n",
      "       39    0.008    0.000    0.071    0.002 volume.py:406(realizeVolume)\n",
      "     3393    0.002    0.000    0.010    0.000 volume.py:65(__init__)\n",
      "    79443    0.027    0.000    0.027    0.000 weakrefTools.py:18(wrapWeakref)\n",
      "    83550    0.035    0.000    0.051    0.000 weakrefTools.py:49(unwrapWeakref)\n",
      "        4    0.000    0.000    0.000    0.000 {_codecs.utf_8_decode}\n",
      "    52494    0.006    0.000    0.006    0.000 {abs}\n",
      "    25740    0.006    0.000    0.006    0.000 {built-in method __new__ of type object at 0x557492c799c0}\n",
      "     4914    0.000    0.000    0.000    0.000 {callable}\n",
      "    38727    0.004    0.000    0.004    0.000 {chr}\n",
      "      156    0.000    0.000    0.000    0.000 {divmod}\n",
      "   232050    0.047    0.000    0.049    0.000 {getattr}\n",
      "79521/76128    0.033    0.000    0.045    0.000 {hasattr}\n",
      "      156    0.000    0.000    0.000    0.000 {hash}\n",
      "       78    0.000    0.000    0.000    0.000 {hex}\n",
      "   694980    0.045    0.000    0.045    0.000 {id}\n",
      "   204064    0.053    0.000    0.132    0.000 {isinstance}\n",
      "    25779    0.007    0.000    0.007    0.000 {issubclass}\n",
      "129792/129714    0.014    0.000    0.014    0.000 {len}\n",
      "     6864    0.001    0.000    0.001    0.000 {math.floor}\n",
      "    36777    0.012    0.000    0.012    0.000 {math.log}\n",
      "     3627    0.002    0.000    0.002    0.000 {math.modf}\n",
      "     7020    0.035    0.000    0.073    0.000 {method '__reduce_ex__' of 'object' objects}\n",
      "        6    0.000    0.000    0.000    0.000 {method 'append' of 'collections.deque' objects}\n",
      "   195117    0.022    0.000    0.022    0.000 {method 'append' of 'list' objects}\n",
      "    55263    0.027    0.000    0.027    0.000 {method 'as_integer_ratio' of 'float' objects}\n",
      "       78    0.002    0.000    0.002    0.000 {method 'close' of 'file' objects}\n",
      "     3510    0.001    0.000    0.001    0.000 {method 'copy' of 'dict' objects}\n",
      "     6552    0.002    0.000    0.002    0.000 {method 'count' of 'list' objects}\n",
      "        4    0.000    0.000    0.000    0.000 {method 'decode' of 'str' objects}\n",
      "        1    0.000    0.000    0.000    0.000 {method 'disable' of '_lsprof.Profiler' objects}\n",
      "      117    0.000    0.000    0.000    0.000 {method 'extend' of 'list' objects}\n",
      "     3393    0.004    0.000    0.004    0.000 {method 'format' of 'str' objects}\n",
      "   186810    0.027    0.000    0.027    0.000 {method 'get' of 'dict' objects}\n",
      "       78    0.000    0.000    0.000    0.000 {method 'group' of '_sre.SRE_Match' objects}\n",
      "    10842    0.004    0.000    0.004    0.000 {method 'index' of 'list' objects}\n",
      "    16965    0.002    0.000    0.002    0.000 {method 'isdisjoint' of 'frozenset' objects}\n",
      "    33657    0.006    0.000    0.006    0.000 {method 'items' of 'dict' objects}\n",
      "     3393    0.001    0.000    0.001    0.000 {method 'iteritems' of 'dict' objects}\n",
      "    31044    0.005    0.000    0.005    0.000 {method 'join' of 'str' objects}\n",
      "        2    0.000    0.000    0.000    0.000 {method 'keys' of 'dict' objects}\n",
      "     8970    0.001    0.000    0.001    0.000 {method 'lower' of 'str' objects}\n",
      "       39    0.000    0.000    0.000    0.000 {method 'match' of '_sre.SRE_Pattern' objects}\n",
      "     5109    0.009    0.000    0.009    0.000 {method 'mro' of 'type' objects}\n",
      "     3393    0.001    0.000    0.001    0.000 {method 'pop' of 'dict' objects}\n",
      "        1    0.000    0.000    0.000    0.000 {method 'read' of 'file' objects}\n",
      "        1    0.000    0.000    0.000    0.000 {method 'replace' of 'str' objects}\n",
      "     7215    0.001    0.000    0.001    0.000 {method 'reverse' of 'list' objects}\n",
      "      312    0.009    0.000    0.087    0.000 {method 'sort' of 'list' objects}\n",
      "       79    0.000    0.000    0.000    0.000 {method 'split' of 'str' objects}\n",
      "    82485    0.011    0.000    0.011    0.000 {method 'startswith' of 'str' objects}\n",
      "    13612    0.002    0.000    0.002    0.000 {method 'strip' of 'str' objects}\n",
      "     2871    0.001    0.000    0.001    0.000 {method 'title' of 'str' objects}\n",
      "    20436    0.005    0.000    0.005    0.000 {method 'update' of 'set' objects}\n",
      "    49842    0.006    0.000    0.006    0.000 {method 'upper' of 'str' objects}\n",
      "      117    0.000    0.000    0.000    0.000 {method 'values' of 'dict' objects}\n",
      "       78    0.001    0.000    0.001    0.000 {method 'write' of 'file' objects}\n",
      "       40    0.003    0.000    0.003    0.000 {open}\n",
      "     7098    0.001    0.000    0.001    0.000 {ord}\n",
      "        4    0.000    0.000    0.000    0.000 {posix.getpid}\n",
      "    26368    0.009    0.000    0.009    0.000 {range}\n",
      "    96798    0.020    0.000    0.020    0.000 {round}\n",
      "   137631    0.028    0.000    0.029    0.000 {setattr}\n",
      "      117    0.001    0.000    0.001    0.000 {sorted}\n",
      "    13611    0.004    0.000    0.004    0.000 {sum}\n",
      "       40    0.000    0.000    0.000    0.000 {time.time}\n",
      "\n",
      "\n"
     ]
    },
    {
     "data": {
      "text/plain": [
       "<pstats.Stats instance at 0x7fabdc85add0>"
      ]
     },
     "execution_count": 9,
     "metadata": {},
     "output_type": "execute_result"
    }
   ],
   "source": [
    "# Let's summarize the profiling run\n",
    "p = pstats.Stats('cpout.txt')\n",
    "p.strip_dirs().sort_stats(-1).print_stats() # order by name"
   ]
  },
  {
   "cell_type": "code",
   "execution_count": 10,
   "metadata": {
    "scrolled": true
   },
   "outputs": [
    {
     "name": "stdout",
     "output_type": "stream",
     "text": [
      "Mon May 13 13:45:03 2019    cpout.txt\n",
      "\n",
      "         5354904 function calls (5224410 primitive calls) in 4.072 seconds\n",
      "\n",
      "   Ordered by: cumulative time\n",
      "   List reduced from 421 to 10 due to restriction <10>\n",
      "\n",
      "   ncalls  tottime  percall  cumtime  percall filename:lineno(function)\n",
      "        1    0.000    0.000    4.074    4.074 <string>:1(<module>)\n",
      "        1    0.000    0.000    4.074    4.074 <ipython-input-2-02a0ed9aa61e>:140(my_main)\n",
      "        1    0.000    0.000    4.074    4.074 <ipython-input-2-02a0ed9aa61e>:125(grid_search)\n",
      "       39    0.001    0.000    4.073    0.104 <ipython-input-2-02a0ed9aa61e>:113(generate_and_save_song)\n",
      "       39    0.000    0.000    2.115    0.054 <ipython-input-2-02a0ed9aa61e>:107(save_midifile)\n",
      "       39    0.000    0.000    2.114    0.054 __init__.py:246(write)\n",
      "       39    0.001    0.000    2.114    0.054 base.py:2529(write)\n",
      "       39    0.000    0.000    2.103    0.054 subConverters.py:921(write)\n",
      "       39    0.000    0.000    2.045    0.052 translate.py:237(music21ObjectToMidiFile)\n",
      "       39    0.002    0.000    2.044    0.052 translate.py:1890(streamToMidiFile)\n",
      "\n",
      "\n"
     ]
    },
    {
     "data": {
      "text/plain": [
       "<pstats.Stats instance at 0x7fabdc85add0>"
      ]
     },
     "execution_count": 10,
     "metadata": {},
     "output_type": "execute_result"
    }
   ],
   "source": [
    "# Print by cumulative time\n",
    "# That is the sum of time for all calls and child calls\n",
    "# These are functions who call on others to do work\n",
    "p.sort_stats('cumulative').print_stats(10)"
   ]
  },
  {
   "cell_type": "code",
   "execution_count": 11,
   "metadata": {
    "scrolled": true
   },
   "outputs": [
    {
     "name": "stdout",
     "output_type": "stream",
     "text": [
      "Mon May 13 13:45:03 2019    cpout.txt\n",
      "\n",
      "         5354904 function calls (5224410 primitive calls) in 4.072 seconds\n",
      "\n",
      "   Ordered by: internal time\n",
      "   List reduced from 421 to 10 due to restriction <10>\n",
      "\n",
      "   ncalls  tottime  percall  cumtime  percall filename:lineno(function)\n",
      "    30147    0.193    0.000    0.524    0.000 collections.py:50(__init__)\n",
      "123084/2925    0.165    0.000    1.502    0.001 copy.py:145(deepcopy)\n",
      "    30147    0.131    0.000    0.288    0.000 _abcoll.py:548(update)\n",
      "     3432    0.115    0.000    1.029    0.000 base.py:479(_deepcopySubclassable)\n",
      "     7878    0.094    0.000    0.135    0.000 pitch.py:2309(_setName)\n",
      "    25974    0.087    0.000    0.597    0.000 base.py:409(__init__)\n",
      "    29406    0.070    0.000    0.590    0.000 sites.py:167(__init__)\n",
      "    20358    0.069    0.000    0.135    0.000 sites.py:330(add)\n",
      "    26598    0.069    0.000    0.215    0.000 pitch.py:2037(_getPs)\n",
      "    54873    0.065    0.000    0.065    0.000 collections.py:71(__setitem__)\n",
      "\n",
      "\n"
     ]
    },
    {
     "data": {
      "text/plain": [
       "<pstats.Stats instance at 0x7fabdc85add0>"
      ]
     },
     "execution_count": 11,
     "metadata": {},
     "output_type": "execute_result"
    }
   ],
   "source": [
    "# total time is the time WITHIN the funciton but not subcalls\n",
    "# these are the beefy functions where time is spent\n",
    "p.sort_stats('tottime').print_stats(10)"
   ]
  },
  {
   "cell_type": "markdown",
   "metadata": {},
   "source": [
    "# Looking at the results\n",
    "\n",
    "Above, do you notice what library is taking up most of the top 6 places?\n",
    "\n",
    "2 of those calls are to init, so that's object creation.\n",
    "\n",
    "There's also a reference to deepcopy."
   ]
  },
  {
   "cell_type": "code",
   "execution_count": 12,
   "metadata": {
    "scrolled": true
   },
   "outputs": [
    {
     "name": "stdout",
     "output_type": "stream",
     "text": [
      "Mon May 13 13:45:03 2019    cpout.txt\n",
      "\n",
      "         5354904 function calls (5224410 primitive calls) in 4.072 seconds\n",
      "\n",
      "   Ordered by: call count\n",
      "   List reduced from 421 to 20 due to restriction <20>\n",
      "\n",
      "   ncalls  tottime  percall  cumtime  percall filename:lineno(function)\n",
      "   694980    0.045    0.000    0.045    0.000 {id}\n",
      "   232050    0.047    0.000    0.049    0.000 {getattr}\n",
      "   204064    0.053    0.000    0.132    0.000 {isinstance}\n",
      "   195117    0.022    0.000    0.022    0.000 {method 'append' of 'list' objects}\n",
      "   186810    0.027    0.000    0.027    0.000 {method 'get' of 'dict' objects}\n",
      "   137631    0.028    0.000    0.029    0.000 {setattr}\n",
      "129792/129714    0.014    0.000    0.014    0.000 {len}\n",
      "123084/2925    0.165    0.000    1.502    0.001 copy.py:145(deepcopy)\n",
      "    96798    0.020    0.000    0.020    0.000 {round}\n",
      "    88959    0.039    0.000    0.039    0.000 _weakrefset.py:70(__contains__)\n",
      "    83550    0.035    0.000    0.051    0.000 weakrefTools.py:49(unwrapWeakref)\n",
      "    82485    0.011    0.000    0.011    0.000 {method 'startswith' of 'str' objects}\n",
      "79521/76128    0.033    0.000    0.045    0.000 {hasattr}\n",
      "    79443    0.027    0.000    0.027    0.000 weakrefTools.py:18(wrapWeakref)\n",
      "    77298    0.011    0.000    0.011    0.000 pitch.py:2714(_getOctave)\n",
      "    73164    0.058    0.000    0.058    0.000 classTools.py:18(isNum)\n",
      "    73086    0.023    0.000    0.023    0.000 collections.py:90(__iter__)\n",
      "    68835    0.041    0.000    0.068    0.000 numberTools.py:235(opFrac)\n",
      "    67821    0.051    0.000    0.056    0.000 __init__.py:1547(elementOffset)\n",
      "    63375    0.007    0.000    0.007    0.000 pitch.py:1751(_getMicrotone)\n",
      "\n",
      "\n"
     ]
    },
    {
     "data": {
      "text/plain": [
       "<pstats.Stats instance at 0x7fabdc85add0>"
      ]
     },
     "execution_count": 12,
     "metadata": {},
     "output_type": "execute_result"
    }
   ],
   "source": [
    "# this is the number of times a function is called\n",
    "# speeding these up just a little bit can change\n",
    "# their total time drasticly\n",
    "p.sort_stats('ncalls').print_stats(20)"
   ]
  },
  {
   "cell_type": "markdown",
   "metadata": {},
   "source": [
    "# Cost of creation?\n",
    "\n",
    "I am concerned about these calls to music21\n",
    "\n",
    "      968    0.122    0.000    1.007    0.001 base.py:479(_deepcopySubclassable)\n",
    "     2222    0.101    0.000    0.147    0.000 pitch.py:2309(_setName)\n",
    "     7326    0.095    0.000    0.594    0.000 base.py:409(__init__)"
   ]
  },
  {
   "cell_type": "code",
   "execution_count": 13,
   "metadata": {},
   "outputs": [],
   "source": [
    "# here's a candidate function that creates lots of music21 objects.\n",
    "\n",
    "def make_note( midi21_pitch, duration ):\n",
    "    new_note = music21.note.Note(midi21_pitch)\n",
    "    new_note.duration = music21.duration.Duration(duration) # is this right\n",
    "    return new_note\n"
   ]
  },
  {
   "cell_type": "markdown",
   "metadata": {},
   "source": [
    "# Problem: Makes too many objects that are for some reason very slow to create.\n",
    "    \n",
    "These are notes, with set duration. Luckily how I use these notes is immutable. I do not change them.\n",
    "\n",
    "Therefore I can SHARE notes if they are already created. That is I can memoize the output of this function!"
   ]
  },
  {
   "cell_type": "code",
   "execution_count": 14,
   "metadata": {},
   "outputs": [],
   "source": [
    "# keep the old code to really make it\n",
    "def _make_note( midi21_pitch, duration ):\n",
    "    new_note = music21.note.Note(midi21_pitch)\n",
    "    new_note.duration = music21.duration.Duration(duration) # is this right\n",
    "    return new_note\n",
    "\n",
    "# a place to cache the created notes\n",
    "__note_cache__ = dict()\n",
    "# memoize\n",
    "def make_note( midi21_pitch, duration ):\n",
    "    # make a key\n",
    "    note_key = str(midi21_pitch)+str(duration)\n",
    "    # if the note isn't in the cache make it\n",
    "    if not note_key in __note_cache__:\n",
    "        __note_cache__[note_key] = _make_note(midi21_pitch, duration)\n",
    "    return __note_cache__[note_key]"
   ]
  },
  {
   "cell_type": "code",
   "execution_count": 15,
   "metadata": {},
   "outputs": [],
   "source": [
    "# let's make this more repeatable\n",
    "def bench(seconds=1,repeats=10):\n",
    "    perf = map(lambda x: my_main(seconds),range(0,repeats))\n",
    "    print(\"Current Performance ~ %s iters per %s seconds \" % (mean(perf), seconds))\n",
    "    print(perf)\n",
    "    return perf"
   ]
  },
  {
   "cell_type": "code",
   "execution_count": 16,
   "metadata": {},
   "outputs": [
    {
     "name": "stdout",
     "output_type": "stream",
     "text": [
      "['Emajor', 'B-minor', 'Gminor', 'E-minor', 'G-major', 'Aminor', 'D-major', 'Eminor', 'C-minor', 'Cmajor', 'C#major', 'Bminor', 'D-minor', 'Gmajor', 'F#minor', 'G-minor', 'E-major', 'Dminor', 'Fmajor', 'Cminor', 'C-major', 'B-major', 'Bmajor', 'C#minor', 'F#major', 'A-major', 'Dmajor', 'A-minor', 'Amajor', 'Fminor']\n"
     ]
    },
    {
     "ename": "StreamException",
     "evalue": "the object (<music21.note.Note D#>, id()=140376110520400) is already found in this Stream (<music21.stream.Stream 0x7fabdfb0ee10>, id()=140376169049616)",
     "output_type": "error",
     "traceback": [
      "\u001b[0;31m---------------------------------------------------------------------------\u001b[0m",
      "\u001b[0;31mStreamException\u001b[0m                           Traceback (most recent call last)",
      "\u001b[0;32m<ipython-input-16-92718615c0f9>\u001b[0m in \u001b[0;36m<module>\u001b[0;34m()\u001b[0m\n\u001b[0;32m----> 1\u001b[0;31m \u001b[0mbench\u001b[0m\u001b[0;34m(\u001b[0m\u001b[0;34m)\u001b[0m\u001b[0;34m\u001b[0m\u001b[0m\n\u001b[0m",
      "\u001b[0;32m<ipython-input-15-fe0c72596b8e>\u001b[0m in \u001b[0;36mbench\u001b[0;34m(seconds, repeats)\u001b[0m\n\u001b[1;32m      1\u001b[0m \u001b[0;31m# let's make this more repeatable\u001b[0m\u001b[0;34m\u001b[0m\u001b[0;34m\u001b[0m\u001b[0m\n\u001b[1;32m      2\u001b[0m \u001b[0;32mdef\u001b[0m \u001b[0mbench\u001b[0m\u001b[0;34m(\u001b[0m\u001b[0mseconds\u001b[0m\u001b[0;34m=\u001b[0m\u001b[0;36m1\u001b[0m\u001b[0;34m,\u001b[0m\u001b[0mrepeats\u001b[0m\u001b[0;34m=\u001b[0m\u001b[0;36m10\u001b[0m\u001b[0;34m)\u001b[0m\u001b[0;34m:\u001b[0m\u001b[0;34m\u001b[0m\u001b[0m\n\u001b[0;32m----> 3\u001b[0;31m     \u001b[0mperf\u001b[0m \u001b[0;34m=\u001b[0m \u001b[0mmap\u001b[0m\u001b[0;34m(\u001b[0m\u001b[0;32mlambda\u001b[0m \u001b[0mx\u001b[0m\u001b[0;34m:\u001b[0m \u001b[0mmy_main\u001b[0m\u001b[0;34m(\u001b[0m\u001b[0mseconds\u001b[0m\u001b[0;34m)\u001b[0m\u001b[0;34m,\u001b[0m\u001b[0mrange\u001b[0m\u001b[0;34m(\u001b[0m\u001b[0;36m0\u001b[0m\u001b[0;34m,\u001b[0m\u001b[0mrepeats\u001b[0m\u001b[0;34m)\u001b[0m\u001b[0;34m)\u001b[0m\u001b[0;34m\u001b[0m\u001b[0m\n\u001b[0m\u001b[1;32m      4\u001b[0m     \u001b[0;32mprint\u001b[0m\u001b[0;34m(\u001b[0m\u001b[0;34m\"Current Performance ~ %s iters per %s seconds \"\u001b[0m \u001b[0;34m%\u001b[0m \u001b[0;34m(\u001b[0m\u001b[0mmean\u001b[0m\u001b[0;34m(\u001b[0m\u001b[0mperf\u001b[0m\u001b[0;34m)\u001b[0m\u001b[0;34m,\u001b[0m \u001b[0mseconds\u001b[0m\u001b[0;34m)\u001b[0m\u001b[0;34m)\u001b[0m\u001b[0;34m\u001b[0m\u001b[0m\n\u001b[1;32m      5\u001b[0m     \u001b[0;32mprint\u001b[0m\u001b[0;34m(\u001b[0m\u001b[0mperf\u001b[0m\u001b[0;34m)\u001b[0m\u001b[0;34m\u001b[0m\u001b[0m\n",
      "\u001b[0;32m<ipython-input-15-fe0c72596b8e>\u001b[0m in \u001b[0;36m<lambda>\u001b[0;34m(x)\u001b[0m\n\u001b[1;32m      1\u001b[0m \u001b[0;31m# let's make this more repeatable\u001b[0m\u001b[0;34m\u001b[0m\u001b[0;34m\u001b[0m\u001b[0m\n\u001b[1;32m      2\u001b[0m \u001b[0;32mdef\u001b[0m \u001b[0mbench\u001b[0m\u001b[0;34m(\u001b[0m\u001b[0mseconds\u001b[0m\u001b[0;34m=\u001b[0m\u001b[0;36m1\u001b[0m\u001b[0;34m,\u001b[0m\u001b[0mrepeats\u001b[0m\u001b[0;34m=\u001b[0m\u001b[0;36m10\u001b[0m\u001b[0;34m)\u001b[0m\u001b[0;34m:\u001b[0m\u001b[0;34m\u001b[0m\u001b[0m\n\u001b[0;32m----> 3\u001b[0;31m     \u001b[0mperf\u001b[0m \u001b[0;34m=\u001b[0m \u001b[0mmap\u001b[0m\u001b[0;34m(\u001b[0m\u001b[0;32mlambda\u001b[0m \u001b[0mx\u001b[0m\u001b[0;34m:\u001b[0m \u001b[0mmy_main\u001b[0m\u001b[0;34m(\u001b[0m\u001b[0mseconds\u001b[0m\u001b[0;34m)\u001b[0m\u001b[0;34m,\u001b[0m\u001b[0mrange\u001b[0m\u001b[0;34m(\u001b[0m\u001b[0;36m0\u001b[0m\u001b[0;34m,\u001b[0m\u001b[0mrepeats\u001b[0m\u001b[0;34m)\u001b[0m\u001b[0;34m)\u001b[0m\u001b[0;34m\u001b[0m\u001b[0m\n\u001b[0m\u001b[1;32m      4\u001b[0m     \u001b[0;32mprint\u001b[0m\u001b[0;34m(\u001b[0m\u001b[0;34m\"Current Performance ~ %s iters per %s seconds \"\u001b[0m \u001b[0;34m%\u001b[0m \u001b[0;34m(\u001b[0m\u001b[0mmean\u001b[0m\u001b[0;34m(\u001b[0m\u001b[0mperf\u001b[0m\u001b[0;34m)\u001b[0m\u001b[0;34m,\u001b[0m \u001b[0mseconds\u001b[0m\u001b[0;34m)\u001b[0m\u001b[0;34m)\u001b[0m\u001b[0;34m\u001b[0m\u001b[0m\n\u001b[1;32m      5\u001b[0m     \u001b[0;32mprint\u001b[0m\u001b[0;34m(\u001b[0m\u001b[0mperf\u001b[0m\u001b[0;34m)\u001b[0m\u001b[0;34m\u001b[0m\u001b[0m\n",
      "\u001b[0;32m<ipython-input-2-02a0ed9aa61e>\u001b[0m in \u001b[0;36mmy_main\u001b[0;34m(maxtime)\u001b[0m\n\u001b[1;32m    154\u001b[0m     }\n\u001b[1;32m    155\u001b[0m     return grid_search(params,[\"keys\",\"dir_notes\",\"bump_durations\",\"octaves\"], \n\u001b[0;32m--> 156\u001b[0;31m                 song_tuples, f=generate_and_save_song, maxtime=maxtime)\n\u001b[0m\u001b[1;32m    157\u001b[0m \u001b[0;34m\u001b[0m\u001b[0m\n\u001b[1;32m    158\u001b[0m \u001b[0;32mdef\u001b[0m \u001b[0mgenerate_and_estimate_song\u001b[0m\u001b[0;34m(\u001b[0m\u001b[0mestimate\u001b[0m\u001b[0;34m,\u001b[0m\u001b[0msong_tuples\u001b[0m\u001b[0;34m,\u001b[0m\u001b[0mmkey\u001b[0m\u001b[0;34m,\u001b[0m \u001b[0mnote_mapping\u001b[0m\u001b[0;34m,\u001b[0m \u001b[0mbump_mapping\u001b[0m\u001b[0;34m,\u001b[0m\u001b[0moctave\u001b[0m\u001b[0;34m)\u001b[0m\u001b[0;34m:\u001b[0m\u001b[0;34m\u001b[0m\u001b[0m\n",
      "\u001b[0;32m<ipython-input-2-02a0ed9aa61e>\u001b[0m in \u001b[0;36mgrid_search\u001b[0;34m(params, param_keys, song_tuples, f, maxtime)\u001b[0m\n\u001b[1;32m    131\u001b[0m         \u001b[0;32mif\u001b[0m \u001b[0m__grid_search_print__\u001b[0m\u001b[0;34m:\u001b[0m\u001b[0;34m\u001b[0m\u001b[0m\n\u001b[1;32m    132\u001b[0m             \u001b[0;32mprint\u001b[0m\u001b[0;34m(\u001b[0m\u001b[0mt\u001b[0m\u001b[0;34m)\u001b[0m\u001b[0;34m\u001b[0m\u001b[0m\n\u001b[0;32m--> 133\u001b[0;31m         \u001b[0mf\u001b[0m\u001b[0;34m(\u001b[0m\u001b[0msong_tuples\u001b[0m\u001b[0;34m,\u001b[0m\u001b[0;34m*\u001b[0m\u001b[0mt\u001b[0m\u001b[0;34m)\u001b[0m\u001b[0;34m\u001b[0m\u001b[0m\n\u001b[0m\u001b[1;32m    134\u001b[0m         \u001b[0miters\u001b[0m \u001b[0;34m+=\u001b[0m \u001b[0;36m1\u001b[0m\u001b[0;34m\u001b[0m\u001b[0m\n\u001b[1;32m    135\u001b[0m         \u001b[0;32mif\u001b[0m \u001b[0;34m(\u001b[0m\u001b[0mtime\u001b[0m\u001b[0;34m.\u001b[0m\u001b[0mtime\u001b[0m\u001b[0;34m(\u001b[0m\u001b[0;34m)\u001b[0m \u001b[0;34m-\u001b[0m \u001b[0mstart\u001b[0m \u001b[0;34m>\u001b[0m \u001b[0mmaxtime\u001b[0m\u001b[0;34m)\u001b[0m\u001b[0;34m:\u001b[0m\u001b[0;34m\u001b[0m\u001b[0m\n",
      "\u001b[0;32m<ipython-input-2-02a0ed9aa61e>\u001b[0m in \u001b[0;36mgenerate_and_save_song\u001b[0;34m(song_tuples, mkey, note_mapping, bump_mapping, octave)\u001b[0m\n\u001b[1;32m    119\u001b[0m     \u001b[0msave_textfile\u001b[0m\u001b[0;34m(\u001b[0m\u001b[0mtxt\u001b[0m\u001b[0;34m,\u001b[0m \u001b[0mtxt_file_name\u001b[0m\u001b[0;34m)\u001b[0m\u001b[0;34m\u001b[0m\u001b[0m\n\u001b[1;32m    120\u001b[0m     \u001b[0;31m# print(song)\u001b[0m\u001b[0;34m\u001b[0m\u001b[0;34m\u001b[0m\u001b[0m\n\u001b[0;32m--> 121\u001b[0;31m     \u001b[0mmid\u001b[0m \u001b[0;34m=\u001b[0m \u001b[0msong_to_mid\u001b[0m\u001b[0;34m(\u001b[0m\u001b[0msong\u001b[0m\u001b[0;34m)\u001b[0m\u001b[0;34m\u001b[0m\u001b[0m\n\u001b[0m\u001b[1;32m    122\u001b[0m     \u001b[0msave_midifile\u001b[0m\u001b[0;34m(\u001b[0m\u001b[0mmid\u001b[0m\u001b[0;34m,\u001b[0m \u001b[0mmid_file_name\u001b[0m\u001b[0;34m)\u001b[0m\u001b[0;34m\u001b[0m\u001b[0m\n\u001b[1;32m    123\u001b[0m \u001b[0;34m\u001b[0m\u001b[0m\n",
      "\u001b[0;32m<ipython-input-2-02a0ed9aa61e>\u001b[0m in \u001b[0;36msong_to_mid\u001b[0;34m(song)\u001b[0m\n\u001b[1;32m    101\u001b[0m     \u001b[0mstream\u001b[0m \u001b[0;34m=\u001b[0m \u001b[0mmusic21\u001b[0m\u001b[0;34m.\u001b[0m\u001b[0mstream\u001b[0m\u001b[0;34m.\u001b[0m\u001b[0mStream\u001b[0m\u001b[0;34m(\u001b[0m\u001b[0;34m)\u001b[0m\u001b[0;34m\u001b[0m\u001b[0m\n\u001b[1;32m    102\u001b[0m     \u001b[0;32mfor\u001b[0m \u001b[0melm\u001b[0m \u001b[0;32min\u001b[0m \u001b[0msong\u001b[0m\u001b[0;34m:\u001b[0m\u001b[0;34m\u001b[0m\u001b[0m\n\u001b[0;32m--> 103\u001b[0;31m         \u001b[0mstream\u001b[0m\u001b[0;34m.\u001b[0m\u001b[0mappend\u001b[0m\u001b[0;34m(\u001b[0m\u001b[0melm\u001b[0m\u001b[0;34m)\u001b[0m\u001b[0;34m\u001b[0m\u001b[0m\n\u001b[0m\u001b[1;32m    104\u001b[0m     \u001b[0;32mreturn\u001b[0m \u001b[0mstream\u001b[0m\u001b[0;34m\u001b[0m\u001b[0m\n\u001b[1;32m    105\u001b[0m     \u001b[0;31m# mf = music21.midi.translate.streamToMidiFile(stream)\u001b[0m\u001b[0;34m\u001b[0m\u001b[0;34m\u001b[0m\u001b[0m\n",
      "\u001b[0;32m/home/hindle1/.local/lib/python2.7/site-packages/music21/stream/__init__.pyc\u001b[0m in \u001b[0;36mappend\u001b[0;34m(self, others)\u001b[0m\n\u001b[1;32m   1933\u001b[0m                     \u001b[0;34m\"is not a Music21Object.  Use an ElementWrapper object \"\u001b[0m \u001b[0;34m+\u001b[0m\u001b[0;34m\u001b[0m\u001b[0m\n\u001b[1;32m   1934\u001b[0m                     \"if this is what you intend\" )\n\u001b[0;32m-> 1935\u001b[0;31m             \u001b[0mself\u001b[0m\u001b[0;34m.\u001b[0m\u001b[0mcoreGuardBeforeAddElement\u001b[0m\u001b[0;34m(\u001b[0m\u001b[0me\u001b[0m\u001b[0;34m)\u001b[0m\u001b[0;34m\u001b[0m\u001b[0m\n\u001b[0m\u001b[1;32m   1936\u001b[0m             \u001b[0;31m# add this Stream as a location for the new elements, with the\u001b[0m\u001b[0;34m\u001b[0m\u001b[0;34m\u001b[0m\u001b[0m\n\u001b[1;32m   1937\u001b[0m             \u001b[0;31m# the offset set to the current highestTime\u001b[0m\u001b[0;34m\u001b[0m\u001b[0;34m\u001b[0m\u001b[0m\n",
      "\u001b[0;32m/home/hindle1/.local/lib/python2.7/site-packages/music21/stream/core.pyc\u001b[0m in \u001b[0;36mcoreGuardBeforeAddElement\u001b[0;34m(self, element, checkRedundancy)\u001b[0m\n\u001b[1;32m    320\u001b[0m                             \u001b[0;34m'the object '\u001b[0m \u001b[0;34m+\u001b[0m\u001b[0;34m\u001b[0m\u001b[0m\n\u001b[1;32m    321\u001b[0m                             \u001b[0;34m'(%s, id()=%s) is already found in this Stream (%s, id()=%s)'\u001b[0m \u001b[0;34m%\u001b[0m\u001b[0;34m\u001b[0m\u001b[0m\n\u001b[0;32m--> 322\u001b[0;31m                                                     (element, id(element), self, id(self)))\n\u001b[0m\u001b[1;32m    323\u001b[0m                 \u001b[0;31m# something was old... delete from _offsetDict\u001b[0m\u001b[0;34m\u001b[0m\u001b[0;34m\u001b[0m\u001b[0m\n\u001b[1;32m    324\u001b[0m                 \u001b[0;31m# environLocal.warn('stale object')\u001b[0m\u001b[0;34m\u001b[0m\u001b[0;34m\u001b[0m\u001b[0m\n",
      "\u001b[0;31mStreamException\u001b[0m: the object (<music21.note.Note D#>, id()=140376110520400) is already found in this Stream (<music21.stream.Stream 0x7fabdfb0ee10>, id()=140376169049616)"
     ]
    }
   ],
   "source": [
    "bench()"
   ]
  },
  {
   "cell_type": "markdown",
   "metadata": {},
   "source": [
    "# Ok when I was doing this I didn't have this problem\n",
    "\n",
    "The music21 library has changed, so I guess so should my presentation of my problem. *sigh*\n",
    "\n",
    "## Performance is not stable between revisions!"
   ]
  },
  {
   "cell_type": "code",
   "execution_count": 17,
   "metadata": {},
   "outputs": [],
   "source": [
    "def song_to_mid(song):\n",
    "    stream = music21.stream.Stream()\n",
    "    for elm in song:\n",
    "        note = music21.note.Note()\n",
    "        note.pitches = elm.pitches\n",
    "        note.duration = elm.duration\n",
    "        stream.append(note)\n",
    "    return stream"
   ]
  },
  {
   "cell_type": "code",
   "execution_count": 18,
   "metadata": {},
   "outputs": [
    {
     "name": "stdout",
     "output_type": "stream",
     "text": [
      "['Emajor', 'B-minor', 'Gminor', 'E-minor', 'G-major', 'Aminor', 'D-major', 'Eminor', 'C-minor', 'Cmajor', 'C#major', 'Bminor', 'D-minor', 'Gmajor', 'F#minor', 'G-minor', 'E-major', 'Dminor', 'Fmajor', 'Cminor', 'C-major', 'B-major', 'Bmajor', 'C#minor', 'F#major', 'A-major', 'Dmajor', 'A-minor', 'Amajor', 'Fminor']\n",
      "Times up! 18\n",
      "['Emajor', 'B-minor', 'Gminor', 'E-minor', 'G-major', 'Aminor', 'D-major', 'Eminor', 'C-minor', 'Cmajor', 'C#major', 'Bminor', 'D-minor', 'Gmajor', 'F#minor', 'G-minor', 'E-major', 'Dminor', 'Fmajor', 'Cminor', 'C-major', 'B-major', 'Bmajor', 'C#minor', 'F#major', 'A-major', 'Dmajor', 'A-minor', 'Amajor', 'Fminor']\n",
      "Times up! 18\n",
      "['Emajor', 'B-minor', 'Gminor', 'E-minor', 'G-major', 'Aminor', 'D-major', 'Eminor', 'C-minor', 'Cmajor', 'C#major', 'Bminor', 'D-minor', 'Gmajor', 'F#minor', 'G-minor', 'E-major', 'Dminor', 'Fmajor', 'Cminor', 'C-major', 'B-major', 'Bmajor', 'C#minor', 'F#major', 'A-major', 'Dmajor', 'A-minor', 'Amajor', 'Fminor']\n",
      "Times up! 19\n",
      "['Emajor', 'B-minor', 'Gminor', 'E-minor', 'G-major', 'Aminor', 'D-major', 'Eminor', 'C-minor', 'Cmajor', 'C#major', 'Bminor', 'D-minor', 'Gmajor', 'F#minor', 'G-minor', 'E-major', 'Dminor', 'Fmajor', 'Cminor', 'C-major', 'B-major', 'Bmajor', 'C#minor', 'F#major', 'A-major', 'Dmajor', 'A-minor', 'Amajor', 'Fminor']\n",
      "Times up! 19\n",
      "['Emajor', 'B-minor', 'Gminor', 'E-minor', 'G-major', 'Aminor', 'D-major', 'Eminor', 'C-minor', 'Cmajor', 'C#major', 'Bminor', 'D-minor', 'Gmajor', 'F#minor', 'G-minor', 'E-major', 'Dminor', 'Fmajor', 'Cminor', 'C-major', 'B-major', 'Bmajor', 'C#minor', 'F#major', 'A-major', 'Dmajor', 'A-minor', 'Amajor', 'Fminor']\n",
      "Times up! 18\n",
      "['Emajor', 'B-minor', 'Gminor', 'E-minor', 'G-major', 'Aminor', 'D-major', 'Eminor', 'C-minor', 'Cmajor', 'C#major', 'Bminor', 'D-minor', 'Gmajor', 'F#minor', 'G-minor', 'E-major', 'Dminor', 'Fmajor', 'Cminor', 'C-major', 'B-major', 'Bmajor', 'C#minor', 'F#major', 'A-major', 'Dmajor', 'A-minor', 'Amajor', 'Fminor']\n",
      "Times up! 18\n",
      "['Emajor', 'B-minor', 'Gminor', 'E-minor', 'G-major', 'Aminor', 'D-major', 'Eminor', 'C-minor', 'Cmajor', 'C#major', 'Bminor', 'D-minor', 'Gmajor', 'F#minor', 'G-minor', 'E-major', 'Dminor', 'Fmajor', 'Cminor', 'C-major', 'B-major', 'Bmajor', 'C#minor', 'F#major', 'A-major', 'Dmajor', 'A-minor', 'Amajor', 'Fminor']\n",
      "Times up! 18\n",
      "['Emajor', 'B-minor', 'Gminor', 'E-minor', 'G-major', 'Aminor', 'D-major', 'Eminor', 'C-minor', 'Cmajor', 'C#major', 'Bminor', 'D-minor', 'Gmajor', 'F#minor', 'G-minor', 'E-major', 'Dminor', 'Fmajor', 'Cminor', 'C-major', 'B-major', 'Bmajor', 'C#minor', 'F#major', 'A-major', 'Dmajor', 'A-minor', 'Amajor', 'Fminor']\n",
      "Times up! 17\n",
      "['Emajor', 'B-minor', 'Gminor', 'E-minor', 'G-major', 'Aminor', 'D-major', 'Eminor', 'C-minor', 'Cmajor', 'C#major', 'Bminor', 'D-minor', 'Gmajor', 'F#minor', 'G-minor', 'E-major', 'Dminor', 'Fmajor', 'Cminor', 'C-major', 'B-major', 'Bmajor', 'C#minor', 'F#major', 'A-major', 'Dmajor', 'A-minor', 'Amajor', 'Fminor']\n",
      "Times up! 18\n",
      "['Emajor', 'B-minor', 'Gminor', 'E-minor', 'G-major', 'Aminor', 'D-major', 'Eminor', 'C-minor', 'Cmajor', 'C#major', 'Bminor', 'D-minor', 'Gmajor', 'F#minor', 'G-minor', 'E-major', 'Dminor', 'Fmajor', 'Cminor', 'C-major', 'B-major', 'Bmajor', 'C#minor', 'F#major', 'A-major', 'Dmajor', 'A-minor', 'Amajor', 'Fminor']\n",
      "Times up! 17\n",
      "Current Performance ~ 18 iters per 1 seconds \n",
      "[18, 18, 19, 19, 18, 18, 18, 17, 18, 17]\n"
     ]
    },
    {
     "data": {
      "text/plain": [
       "[18, 18, 19, 19, 18, 18, 18, 17, 18, 17]"
      ]
     },
     "execution_count": 18,
     "metadata": {},
     "output_type": "execute_result"
    }
   ],
   "source": [
    "# run it\n",
    "bench()"
   ]
  },
  {
   "cell_type": "markdown",
   "metadata": {},
   "source": [
    "It doesn't look like performance improved very much :("
   ]
  },
  {
   "cell_type": "code",
   "execution_count": 19,
   "metadata": {},
   "outputs": [
    {
     "name": "stdout",
     "output_type": "stream",
     "text": [
      "['Emajor', 'B-minor', 'Gminor', 'E-minor', 'G-major', 'Aminor', 'D-major', 'Eminor', 'C-minor', 'Cmajor', 'C#major', 'Bminor', 'D-minor', 'Gmajor', 'F#minor', 'G-minor', 'E-major', 'Dminor', 'Fmajor', 'Cminor', 'C-major', 'B-major', 'Bmajor', 'C#minor', 'F#major', 'A-major', 'Dmajor', 'A-minor', 'Amajor', 'Fminor']\n",
      "Times up! 44\n"
     ]
    }
   ],
   "source": [
    "# profile it\n",
    "cProfile.run('my_main(4)','cpout2.txt')\n"
   ]
  },
  {
   "cell_type": "code",
   "execution_count": 20,
   "metadata": {},
   "outputs": [
    {
     "name": "stdout",
     "output_type": "stream",
     "text": [
      "Mon May 13 13:45:42 2019    cpout2.txt\n",
      "\n",
      "         5806248 function calls (5665624 primitive calls) in 4.039 seconds\n",
      "\n",
      "   Ordered by: internal time\n",
      "   List reduced from 426 to 10 due to restriction <10>\n",
      "\n",
      "   ncalls  tottime  percall  cumtime  percall filename:lineno(function)\n",
      "139900/3300    0.170    0.000    1.485    0.000 /usr/lib/python2.7/copy.py:145(deepcopy)\n",
      "    34022    0.145    0.000    0.490    0.000 /usr/lib/python2.7/collections.py:50(__init__)\n",
      "    12716    0.137    0.000    0.198    0.000 /home/hindle1/.local/lib/python2.7/site-packages/music21/pitch.py:2309(_setName)\n",
      "    34022    0.133    0.000    0.300    0.000 /usr/lib/python2.7/_abcoll.py:548(update)\n",
      "     3872    0.120    0.000    0.990    0.000 /home/hindle1/.local/lib/python2.7/site-packages/music21/base.py:479(_deepcopySubclassable)\n",
      "    29314    0.091    0.000    0.620    0.000 /home/hindle1/.local/lib/python2.7/site-packages/music21/base.py:409(__init__)\n",
      "    90479    0.074    0.000    0.074    0.000 /home/hindle1/.local/lib/python2.7/site-packages/music21/common/classTools.py:18(isNum)\n",
      "    61918    0.074    0.000    0.074    0.000 /usr/lib/python2.7/collections.py:71(__setitem__)\n",
      "    22968    0.072    0.000    0.143    0.000 /home/hindle1/.local/lib/python2.7/site-packages/music21/sites.py:330(add)\n",
      "    30008    0.072    0.000    0.226    0.000 /home/hindle1/.local/lib/python2.7/site-packages/music21/pitch.py:2037(_getPs)\n",
      "\n",
      "\n",
      "Mon May 13 13:45:42 2019    cpout2.txt\n",
      "\n",
      "         5806248 function calls (5665624 primitive calls) in 4.039 seconds\n",
      "\n",
      "   Ordered by: cumulative time\n",
      "   List reduced from 426 to 20 due to restriction <20>\n",
      "\n",
      "   ncalls  tottime  percall  cumtime  percall filename:lineno(function)\n",
      "        1    0.000    0.000    4.039    4.039 <string>:1(<module>)\n",
      "        1    0.000    0.000    4.039    4.039 <ipython-input-2-02a0ed9aa61e>:140(my_main)\n",
      "        1    0.000    0.000    4.038    4.038 <ipython-input-2-02a0ed9aa61e>:125(grid_search)\n",
      "       44    0.001    0.000    4.038    0.092 <ipython-input-2-02a0ed9aa61e>:113(generate_and_save_song)\n",
      "       44    0.000    0.000    2.083    0.047 <ipython-input-2-02a0ed9aa61e>:107(save_midifile)\n",
      "       44    0.000    0.000    2.083    0.047 /home/hindle1/.local/lib/python2.7/site-packages/music21/stream/__init__.py:246(write)\n",
      "       44    0.001    0.000    2.082    0.047 /home/hindle1/.local/lib/python2.7/site-packages/music21/base.py:2529(write)\n",
      "       44    0.000    0.000    2.072    0.047 /home/hindle1/.local/lib/python2.7/site-packages/music21/converter/subConverters.py:921(write)\n",
      "       44    0.000    0.000    2.014    0.046 /home/hindle1/.local/lib/python2.7/site-packages/music21/midi/translate.py:237(music21ObjectToMidiFile)\n",
      "       44    0.001    0.000    2.014    0.046 /home/hindle1/.local/lib/python2.7/site-packages/music21/midi/translate.py:1890(streamToMidiFile)\n",
      "       44    0.004    0.000    2.013    0.046 /home/hindle1/.local/lib/python2.7/site-packages/music21/midi/translate.py:1680(streamHierarchyToMidiTracks)\n",
      "139900/3300    0.170    0.000    1.485    0.000 /usr/lib/python2.7/copy.py:145(deepcopy)\n",
      "       44    0.005    0.000    1.454    0.033 <ipython-input-2-02a0ed9aa61e>:75(generate_abram_song)\n",
      "       44    0.002    0.000    1.425    0.032 /home/hindle1/.local/lib/python2.7/site-packages/music21/midi/translate.py:1646(_prepareStreamForMidi)\n",
      "       44    0.000    0.000    1.411    0.032 <ipython-input-2-02a0ed9aa61e>:67(pitches_of_key)\n",
      "       44    0.000    0.000    1.352    0.031 /home/hindle1/.local/lib/python2.7/site-packages/music21/stream/__init__.py:1455(__deepcopy__)\n",
      "       44    0.000    0.000    1.310    0.030 /home/hindle1/.local/lib/python2.7/site-packages/music21/scale/__init__.py:1510(getPitches)\n",
      "       44    0.000    0.000    1.310    0.030 /home/hindle1/.local/lib/python2.7/site-packages/music21/scale/__init__.py:392(getRealization)\n",
      "       44    0.000    0.000    1.300    0.030 /home/hindle1/.local/lib/python2.7/site-packages/music21/scale/intervalNetwork.py:1851(realizePitch)\n",
      "       44    0.000    0.000    1.300    0.030 /home/hindle1/.local/lib/python2.7/site-packages/music21/scale/intervalNetwork.py:1658(realize)\n",
      "\n",
      "\n"
     ]
    },
    {
     "data": {
      "text/plain": [
       "<pstats.Stats instance at 0x7fabdd064290>"
      ]
     },
     "execution_count": 20,
     "metadata": {},
     "output_type": "execute_result"
    }
   ],
   "source": [
    "# investigate the profile\n",
    "p = pstats.Stats('cpout2.txt')\n",
    "p.sort_stats('tottime').print_stats(10)\n",
    "p.sort_stats('cumtime').print_stats(20)\n"
   ]
  },
  {
   "cell_type": "markdown",
   "metadata": {},
   "source": [
    "I saw this:\n",
    "    \n",
    "    40    0.000    0.000    1.475    0.037 <ipython-input-20-50c167bfa7f6>:67(pitches_of_key)\n",
    "    \n",
    "Very few calls. The function doesn't do much but it does expensive things. So maybe we can memoize or refactor it?"
   ]
  },
  {
   "cell_type": "code",
   "execution_count": 21,
   "metadata": {},
   "outputs": [],
   "source": [
    "__pitches_of_key__ = dict()\n",
    "def _pitches_of_key(mkey):\n",
    "    m = re.match('([A-G][-#]?)(major|minor)',mkey)\n",
    "    k = m.group(1)\n",
    "    maj = m.group(2)\n",
    "    our_key = music21.key.Key(k,maj)\n",
    "    our_pitches = our_key.pitches\n",
    "    return our_pitches\n",
    "\n",
    "# memoize\n",
    "def pitches_of_key(mkey):\n",
    "    if not mkey in __pitches_of_key__:\n",
    "        __pitches_of_key__[mkey] = _pitches_of_key(mkey)\n",
    "    return __pitches_of_key__[mkey]\n",
    "\n"
   ]
  },
  {
   "cell_type": "code",
   "execution_count": 22,
   "metadata": {},
   "outputs": [
    {
     "name": "stdout",
     "output_type": "stream",
     "text": [
      "['Emajor', 'B-minor', 'Gminor', 'E-minor', 'G-major', 'Aminor', 'D-major', 'Eminor', 'C-minor', 'Cmajor', 'C#major', 'Bminor', 'D-minor', 'Gmajor', 'F#minor', 'G-minor', 'E-major', 'Dminor', 'Fmajor', 'Cminor', 'C-major', 'B-major', 'Bmajor', 'C#minor', 'F#major', 'A-major', 'Dmajor', 'A-minor', 'Amajor', 'Fminor']\n",
      "Times up! 26\n",
      "['Emajor', 'B-minor', 'Gminor', 'E-minor', 'G-major', 'Aminor', 'D-major', 'Eminor', 'C-minor', 'Cmajor', 'C#major', 'Bminor', 'D-minor', 'Gmajor', 'F#minor', 'G-minor', 'E-major', 'Dminor', 'Fmajor', 'Cminor', 'C-major', 'B-major', 'Bmajor', 'C#minor', 'F#major', 'A-major', 'Dmajor', 'A-minor', 'Amajor', 'Fminor']\n",
      "Times up! 28\n",
      "['Emajor', 'B-minor', 'Gminor', 'E-minor', 'G-major', 'Aminor', 'D-major', 'Eminor', 'C-minor', 'Cmajor', 'C#major', 'Bminor', 'D-minor', 'Gmajor', 'F#minor', 'G-minor', 'E-major', 'Dminor', 'Fmajor', 'Cminor', 'C-major', 'B-major', 'Bmajor', 'C#minor', 'F#major', 'A-major', 'Dmajor', 'A-minor', 'Amajor', 'Fminor']\n",
      "Times up! 26\n",
      "['Emajor', 'B-minor', 'Gminor', 'E-minor', 'G-major', 'Aminor', 'D-major', 'Eminor', 'C-minor', 'Cmajor', 'C#major', 'Bminor', 'D-minor', 'Gmajor', 'F#minor', 'G-minor', 'E-major', 'Dminor', 'Fmajor', 'Cminor', 'C-major', 'B-major', 'Bmajor', 'C#minor', 'F#major', 'A-major', 'Dmajor', 'A-minor', 'Amajor', 'Fminor']\n",
      "Times up! 28\n",
      "['Emajor', 'B-minor', 'Gminor', 'E-minor', 'G-major', 'Aminor', 'D-major', 'Eminor', 'C-minor', 'Cmajor', 'C#major', 'Bminor', 'D-minor', 'Gmajor', 'F#minor', 'G-minor', 'E-major', 'Dminor', 'Fmajor', 'Cminor', 'C-major', 'B-major', 'Bmajor', 'C#minor', 'F#major', 'A-major', 'Dmajor', 'A-minor', 'Amajor', 'Fminor']\n",
      "Times up! 29\n",
      "['Emajor', 'B-minor', 'Gminor', 'E-minor', 'G-major', 'Aminor', 'D-major', 'Eminor', 'C-minor', 'Cmajor', 'C#major', 'Bminor', 'D-minor', 'Gmajor', 'F#minor', 'G-minor', 'E-major', 'Dminor', 'Fmajor', 'Cminor', 'C-major', 'B-major', 'Bmajor', 'C#minor', 'F#major', 'A-major', 'Dmajor', 'A-minor', 'Amajor', 'Fminor']\n",
      "Times up! 28\n",
      "['Emajor', 'B-minor', 'Gminor', 'E-minor', 'G-major', 'Aminor', 'D-major', 'Eminor', 'C-minor', 'Cmajor', 'C#major', 'Bminor', 'D-minor', 'Gmajor', 'F#minor', 'G-minor', 'E-major', 'Dminor', 'Fmajor', 'Cminor', 'C-major', 'B-major', 'Bmajor', 'C#minor', 'F#major', 'A-major', 'Dmajor', 'A-minor', 'Amajor', 'Fminor']\n",
      "Times up! 29\n",
      "['Emajor', 'B-minor', 'Gminor', 'E-minor', 'G-major', 'Aminor', 'D-major', 'Eminor', 'C-minor', 'Cmajor', 'C#major', 'Bminor', 'D-minor', 'Gmajor', 'F#minor', 'G-minor', 'E-major', 'Dminor', 'Fmajor', 'Cminor', 'C-major', 'B-major', 'Bmajor', 'C#minor', 'F#major', 'A-major', 'Dmajor', 'A-minor', 'Amajor', 'Fminor']\n",
      "Times up! 26\n",
      "['Emajor', 'B-minor', 'Gminor', 'E-minor', 'G-major', 'Aminor', 'D-major', 'Eminor', 'C-minor', 'Cmajor', 'C#major', 'Bminor', 'D-minor', 'Gmajor', 'F#minor', 'G-minor', 'E-major', 'Dminor', 'Fmajor', 'Cminor', 'C-major', 'B-major', 'Bmajor', 'C#minor', 'F#major', 'A-major', 'Dmajor', 'A-minor', 'Amajor', 'Fminor']\n",
      "Times up! 24\n",
      "['Emajor', 'B-minor', 'Gminor', 'E-minor', 'G-major', 'Aminor', 'D-major', 'Eminor', 'C-minor', 'Cmajor', 'C#major', 'Bminor', 'D-minor', 'Gmajor', 'F#minor', 'G-minor', 'E-major', 'Dminor', 'Fmajor', 'Cminor', 'C-major', 'B-major', 'Bmajor', 'C#minor', 'F#major', 'A-major', 'Dmajor', 'A-minor', 'Amajor', 'Fminor']\n",
      "Times up! 29\n",
      "Current Performance ~ 27 iters per 1 seconds \n",
      "[26, 28, 26, 28, 29, 28, 29, 26, 24, 29]\n"
     ]
    },
    {
     "data": {
      "text/plain": [
       "[26, 28, 26, 28, 29, 28, 29, 26, 24, 29]"
      ]
     },
     "execution_count": 22,
     "metadata": {},
     "output_type": "execute_result"
    }
   ],
   "source": [
    "bench()"
   ]
  },
  {
   "cell_type": "markdown",
   "metadata": {},
   "source": [
    "Boom. Performance Improved! 14 to 23. Good. 33% faster"
   ]
  },
  {
   "cell_type": "code",
   "execution_count": 23,
   "metadata": {},
   "outputs": [
    {
     "name": "stdout",
     "output_type": "stream",
     "text": [
      "['Emajor', 'B-minor', 'Gminor', 'E-minor', 'G-major', 'Aminor', 'D-major', 'Eminor', 'C-minor', 'Cmajor', 'C#major', 'Bminor', 'D-minor', 'Gmajor', 'F#minor', 'G-minor', 'E-major', 'Dminor', 'Fmajor', 'Cminor', 'C-major', 'B-major', 'Bmajor', 'C#minor', 'F#major', 'A-major', 'Dmajor', 'A-minor', 'Amajor', 'Fminor']\n",
      "Times up! 63\n",
      "Mon May 13 13:46:07 2019    cpout3.txt\n",
      "\n",
      "         6097065 function calls (5914437 primitive calls) in 4.016 seconds\n",
      "\n",
      "   Ordered by: internal time\n",
      "   List reduced from 332 to 10 due to restriction <10>\n",
      "\n",
      "   ncalls  tottime  percall  cumtime  percall filename:lineno(function)\n",
      "177645/630    0.206    0.000    2.067    0.003 /usr/lib/python2.7/copy.py:145(deepcopy)\n",
      "     5544    0.176    0.000    1.511    0.000 /home/hindle1/.local/lib/python2.7/site-packages/music21/base.py:479(_deepcopySubclassable)\n",
      "    10962    0.122    0.000    0.180    0.000 /home/hindle1/.local/lib/python2.7/site-packages/music21/pitch.py:2309(_setName)\n",
      "    62073    0.110    0.000    0.110    0.000 /home/hindle1/.local/lib/python2.7/site-packages/music21/common/classTools.py:18(isNum)\n",
      "    32886    0.108    0.000    0.219    0.000 /home/hindle1/.local/lib/python2.7/site-packages/music21/sites.py:330(add)\n",
      "    16824    0.098    0.000    0.317    0.000 /usr/lib/python2.7/collections.py:50(__init__)\n",
      "    16824    0.096    0.000    0.191    0.000 /usr/lib/python2.7/_abcoll.py:548(update)\n",
      "    16824    0.095    0.000    0.412    0.000 /home/hindle1/.local/lib/python2.7/site-packages/music21/sites.py:167(__init__)\n",
      "   109557    0.077    0.000    0.084    0.000 /home/hindle1/.local/lib/python2.7/site-packages/music21/stream/__init__.py:1547(elementOffset)\n",
      "    55191    0.073    0.000    0.073    0.000 /usr/lib/python2.7/collections.py:71(__setitem__)\n",
      "\n",
      "\n",
      "Mon May 13 13:46:07 2019    cpout3.txt\n",
      "\n",
      "         6097065 function calls (5914437 primitive calls) in 4.016 seconds\n",
      "\n",
      "   Ordered by: cumulative time\n",
      "   List reduced from 332 to 20 due to restriction <20>\n",
      "\n",
      "   ncalls  tottime  percall  cumtime  percall filename:lineno(function)\n",
      "        1    0.000    0.000    4.016    4.016 <string>:1(<module>)\n",
      "        1    0.000    0.000    4.016    4.016 <ipython-input-2-02a0ed9aa61e>:140(my_main)\n",
      "        1    0.000    0.000    4.015    4.015 <ipython-input-2-02a0ed9aa61e>:125(grid_search)\n",
      "       63    0.001    0.000    4.015    0.064 <ipython-input-2-02a0ed9aa61e>:113(generate_and_save_song)\n",
      "       63    0.000    0.000    3.155    0.050 <ipython-input-2-02a0ed9aa61e>:107(save_midifile)\n",
      "       63    0.001    0.000    3.155    0.050 /home/hindle1/.local/lib/python2.7/site-packages/music21/stream/__init__.py:246(write)\n",
      "       63    0.001    0.000    3.154    0.050 /home/hindle1/.local/lib/python2.7/site-packages/music21/base.py:2529(write)\n",
      "       63    0.001    0.000    3.139    0.050 /home/hindle1/.local/lib/python2.7/site-packages/music21/converter/subConverters.py:921(write)\n",
      "       63    0.000    0.000    3.053    0.048 /home/hindle1/.local/lib/python2.7/site-packages/music21/midi/translate.py:237(music21ObjectToMidiFile)\n",
      "       63    0.002    0.000    3.053    0.048 /home/hindle1/.local/lib/python2.7/site-packages/music21/midi/translate.py:1890(streamToMidiFile)\n",
      "       63    0.005    0.000    3.051    0.048 /home/hindle1/.local/lib/python2.7/site-packages/music21/midi/translate.py:1680(streamHierarchyToMidiTracks)\n",
      "       63    0.003    0.000    2.156    0.034 /home/hindle1/.local/lib/python2.7/site-packages/music21/midi/translate.py:1646(_prepareStreamForMidi)\n",
      "177645/630    0.206    0.000    2.067    0.003 /usr/lib/python2.7/copy.py:145(deepcopy)\n",
      "       63    0.000    0.000    2.046    0.032 /home/hindle1/.local/lib/python2.7/site-packages/music21/stream/__init__.py:1455(__deepcopy__)\n",
      "       63    0.012    0.000    1.882    0.030 /home/hindle1/.local/lib/python2.7/site-packages/music21/stream/__init__.py:1393(_deepcopySubclassable)\n",
      "     5481    0.008    0.000    1.732    0.000 /home/hindle1/.local/lib/python2.7/site-packages/music21/note.py:751(__deepcopy__)\n",
      "     5481    0.009    0.000    1.723    0.000 /home/hindle1/.local/lib/python2.7/site-packages/music21/base.py:585(__deepcopy__)\n",
      "     5544    0.176    0.000    1.511    0.000 /home/hindle1/.local/lib/python2.7/site-packages/music21/base.py:479(_deepcopySubclassable)\n",
      "    10965    0.024    0.000    0.890    0.000 /home/hindle1/.local/lib/python2.7/site-packages/music21/note.py:1056(__init__)\n",
      "       63    0.018    0.000    0.677    0.011 <ipython-input-17-0ec8fb4d1c4b>:1(song_to_mid)\n",
      "\n",
      "\n"
     ]
    },
    {
     "data": {
      "text/plain": [
       "<pstats.Stats instance at 0x7fabde731fc8>"
      ]
     },
     "execution_count": 23,
     "metadata": {},
     "output_type": "execute_result"
    }
   ],
   "source": [
    "cProfile.run('my_main(4)','cpout3.txt')\n",
    "p = pstats.Stats('cpout3.txt')\n",
    "p.sort_stats('tottime').print_stats(10)\n",
    "p.sort_stats('cumtime').print_stats(20)\n"
   ]
  },
  {
   "cell_type": "code",
   "execution_count": 24,
   "metadata": {},
   "outputs": [
    {
     "name": "stdout",
     "output_type": "stream",
     "text": [
      "Mon May 13 13:46:07 2019    cpout3.txt\n",
      "\n",
      "         6097065 function calls (5914437 primitive calls) in 4.016 seconds\n",
      "\n",
      "   Ordered by: call count\n",
      "   List reduced from 332 to 30 due to restriction <30>\n",
      "\n",
      "   ncalls  tottime  percall  cumtime  percall filename:lineno(function)\n",
      "  1047852    0.063    0.000    0.063    0.000 {id}\n",
      "   267360    0.027    0.000    0.027    0.000 {method 'append' of 'list' objects}\n",
      "   261798    0.036    0.000    0.036    0.000 {method 'get' of 'dict' objects}\n",
      "   257535    0.052    0.000    0.054    0.000 {getattr}\n",
      "   195169    0.045    0.000    0.092    0.000 {isinstance}\n",
      "177645/630    0.206    0.000    2.067    0.003 /usr/lib/python2.7/copy.py:145(deepcopy)\n",
      "   158793    0.033    0.000    0.033    0.000 {setattr}\n",
      "   133245    0.017    0.000    0.017    0.000 {method 'startswith' of 'str' objects}\n",
      "   121281    0.039    0.000    0.039    0.000 /home/hindle1/.local/lib/python2.7/site-packages/music21/common/weakrefTools.py:18(wrapWeakref)\n",
      "   109557    0.077    0.000    0.084    0.000 /home/hindle1/.local/lib/python2.7/site-packages/music21/stream/__init__.py:1547(elementOffset)\n",
      "103137/103011    0.011    0.000    0.011    0.000 {len}\n",
      "    93177    0.011    0.000    0.011    0.000 {round}\n",
      "    83772    0.034    0.000    0.049    0.000 /home/hindle1/.local/lib/python2.7/site-packages/music21/common/weakrefTools.py:49(unwrapWeakref)\n",
      "    72498    0.041    0.000    0.054    0.000 /usr/lib/python2.7/copy.py:267(_keep_alive)\n",
      "    71253    0.015    0.000    0.015    0.000 /home/hindle1/.local/lib/python2.7/site-packages/music21/base.py:2433(_getDuration)\n",
      "68934/63453    0.026    0.000    0.043    0.000 {hasattr}\n",
      "    66798    0.020    0.000    0.020    0.000 /usr/lib/python2.7/collections.py:90(__iter__)\n",
      "    65835    0.019    0.000    0.019    0.000 /home/hindle1/.local/lib/python2.7/site-packages/music21/base.py:668(classes)\n",
      "    62559    0.006    0.000    0.006    0.000 {chr}\n",
      "    62073    0.110    0.000    0.110    0.000 /home/hindle1/.local/lib/python2.7/site-packages/music21/common/classTools.py:18(isNum)\n",
      "    57354    0.035    0.000    0.060    0.000 /home/hindle1/.local/lib/python2.7/site-packages/music21/common/numberTools.py:235(opFrac)\n",
      "    56085    0.024    0.000    0.024    0.000 {method 'as_integer_ratio' of 'float' objects}\n",
      "    55191    0.073    0.000    0.073    0.000 /usr/lib/python2.7/collections.py:71(__setitem__)\n",
      "    55095    0.027    0.000    0.059    0.000 /home/hindle1/.local/lib/python2.7/site-packages/music21/sites.py:94(_getAndUnwrapSite)\n",
      "    54747    0.054    0.000    0.110    0.000 /home/hindle1/.local/lib/python2.7/site-packages/music21/base.py:2073(_setActiveSite)\n",
      "    50472    0.024    0.000    0.024    0.000 /usr/lib/python2.7/_weakrefset.py:70(__contains__)\n",
      "    49329    0.021    0.000    0.052    0.000 /home/hindle1/.local/lib/python2.7/site-packages/music21/stream/iterator.py:528(matchesFilters)\n",
      "    44856    0.006    0.000    0.006    0.000 /home/hindle1/.local/lib/python2.7/site-packages/music21/pitch.py:2714(_getOctave)\n",
      "    44856    0.005    0.000    0.005    0.000 {method 'join' of 'str' objects}\n",
      "    43854    0.011    0.000    0.011    0.000 /home/hindle1/.local/lib/python2.7/site-packages/music21/duration.py:2612(_getQuarterLength)\n",
      "\n",
      "\n"
     ]
    },
    {
     "data": {
      "text/plain": [
       "<pstats.Stats instance at 0x7fabde731fc8>"
      ]
     },
     "execution_count": 24,
     "metadata": {},
     "output_type": "execute_result"
    }
   ],
   "source": [
    "p.sort_stats('ncalls').print_stats(30)"
   ]
  },
  {
   "cell_type": "markdown",
   "metadata": {},
   "source": [
    "We're manipulating the objects alot with their octaves."
   ]
  },
  {
   "cell_type": "code",
   "execution_count": 25,
   "metadata": {},
   "outputs": [],
   "source": [
    "# memoize\n",
    "def pitches_of_key(mkey):\n",
    "    if not mkey in __pitches_of_key__:\n",
    "        __pitches_of_key__[mkey] = _pitches_of_key(mkey)\n",
    "    return __pitches_of_key__[mkey]\n",
    "\n",
    "__pitches_octave_mod__ = dict()\n",
    "def pitch_octave_mod( pitch, octave ):\n",
    "    mkey = str(pitch)+str(octave)\n",
    "    #mkey = (pitch,octave)\n",
    "    if not mkey  in __pitches_of_key__:\n",
    "        __pitches_octave_mod__[mkey] = inkey.note_octave_mod(pitch, octave)\n",
    "    return __pitches_octave_mod__[mkey]\n",
    "\n",
    "\n",
    "\n",
    "# memoize\n",
    "def _get_pitches_of_key_with_octave(mkey, octave):\n",
    "    our_pitches = pitches_of_key(mkey)\n",
    "    our_key_notes = [pitch_octave_mod(note, octave-4) for note in our_pitches]\n",
    "    return our_key_notes\n",
    "\n",
    "# memoize\n",
    "__key_and_octave__ = dict()\n",
    "def get_pitches_of_key_with_octave(mkey, octave):\n",
    "    our_key = \"%s %s\" % (mkey,str(octave))\n",
    "    if not our_key in __key_and_octave__:\n",
    "        __key_and_octave__[our_key] = _get_pitches_of_key_with_octave(mkey, octave)\n",
    "    return __key_and_octave__[our_key]    \n",
    "\n",
    "def generate_abram_song(song_tuples, mkey, note_mapping, bump_mapping, octave):\n",
    "    \"\"\" returns a list of music21 notes \"\"\"\n",
    "    # our_pitches = pitches_of_key(mkey)\n",
    "    # # print(our_pitches) \n",
    "    # # modify the key to the appropriate octave\n",
    "    # our_key_notes = [pitch_octave_mod(note, octave-4) for note in our_pitches]\n",
    "    our_key_notes = get_pitches_of_key_with_octave(mkey, octave)\n",
    "    # now get the note mapping to notes\n",
    "    our_notes = [our_key_notes[x] for x in note_mapping]\n",
    "    # process the tuple\n",
    "    # print song_tuples\n",
    "    # print bump_mapping\n",
    "    assert sum([len(t)==2 for t in song_tuples]) == len(song_tuples)\n",
    "    # print [ (our_notes[n], bump_mapping[b-1]) for n,b in song_tuples ]\n",
    "    return [ make_note(our_notes[n], bump_mapping[b-1]) for n,b in song_tuples ]\n",
    "\n"
   ]
  },
  {
   "cell_type": "code",
   "execution_count": 26,
   "metadata": {},
   "outputs": [
    {
     "name": "stdout",
     "output_type": "stream",
     "text": [
      "['Emajor', 'B-minor', 'Gminor', 'E-minor', 'G-major', 'Aminor', 'D-major', 'Eminor', 'C-minor', 'Cmajor', 'C#major', 'Bminor', 'D-minor', 'Gmajor', 'F#minor', 'G-minor', 'E-major', 'Dminor', 'Fmajor', 'Cminor', 'C-major', 'B-major', 'Bmajor', 'C#minor', 'F#major', 'A-major', 'Dmajor', 'A-minor', 'Amajor', 'Fminor']\n",
      "Times up! 27\n",
      "['Emajor', 'B-minor', 'Gminor', 'E-minor', 'G-major', 'Aminor', 'D-major', 'Eminor', 'C-minor', 'Cmajor', 'C#major', 'Bminor', 'D-minor', 'Gmajor', 'F#minor', 'G-minor', 'E-major', 'Dminor', 'Fmajor', 'Cminor', 'C-major', 'B-major', 'Bmajor', 'C#minor', 'F#major', 'A-major', 'Dmajor', 'A-minor', 'Amajor', 'Fminor']\n",
      "Times up! 25\n",
      "['Emajor', 'B-minor', 'Gminor', 'E-minor', 'G-major', 'Aminor', 'D-major', 'Eminor', 'C-minor', 'Cmajor', 'C#major', 'Bminor', 'D-minor', 'Gmajor', 'F#minor', 'G-minor', 'E-major', 'Dminor', 'Fmajor', 'Cminor', 'C-major', 'B-major', 'Bmajor', 'C#minor', 'F#major', 'A-major', 'Dmajor', 'A-minor', 'Amajor', 'Fminor']\n",
      "Times up! 29\n",
      "['Emajor', 'B-minor', 'Gminor', 'E-minor', 'G-major', 'Aminor', 'D-major', 'Eminor', 'C-minor', 'Cmajor', 'C#major', 'Bminor', 'D-minor', 'Gmajor', 'F#minor', 'G-minor', 'E-major', 'Dminor', 'Fmajor', 'Cminor', 'C-major', 'B-major', 'Bmajor', 'C#minor', 'F#major', 'A-major', 'Dmajor', 'A-minor', 'Amajor', 'Fminor']\n",
      "Times up! 27\n",
      "['Emajor', 'B-minor', 'Gminor', 'E-minor', 'G-major', 'Aminor', 'D-major', 'Eminor', 'C-minor', 'Cmajor', 'C#major', 'Bminor', 'D-minor', 'Gmajor', 'F#minor', 'G-minor', 'E-major', 'Dminor', 'Fmajor', 'Cminor', 'C-major', 'B-major', 'Bmajor', 'C#minor', 'F#major', 'A-major', 'Dmajor', 'A-minor', 'Amajor', 'Fminor']\n",
      "Times up! 26\n",
      "['Emajor', 'B-minor', 'Gminor', 'E-minor', 'G-major', 'Aminor', 'D-major', 'Eminor', 'C-minor', 'Cmajor', 'C#major', 'Bminor', 'D-minor', 'Gmajor', 'F#minor', 'G-minor', 'E-major', 'Dminor', 'Fmajor', 'Cminor', 'C-major', 'B-major', 'Bmajor', 'C#minor', 'F#major', 'A-major', 'Dmajor', 'A-minor', 'Amajor', 'Fminor']\n",
      "Times up! 24\n",
      "['Emajor', 'B-minor', 'Gminor', 'E-minor', 'G-major', 'Aminor', 'D-major', 'Eminor', 'C-minor', 'Cmajor', 'C#major', 'Bminor', 'D-minor', 'Gmajor', 'F#minor', 'G-minor', 'E-major', 'Dminor', 'Fmajor', 'Cminor', 'C-major', 'B-major', 'Bmajor', 'C#minor', 'F#major', 'A-major', 'Dmajor', 'A-minor', 'Amajor', 'Fminor']\n",
      "Times up! 28\n",
      "['Emajor', 'B-minor', 'Gminor', 'E-minor', 'G-major', 'Aminor', 'D-major', 'Eminor', 'C-minor', 'Cmajor', 'C#major', 'Bminor', 'D-minor', 'Gmajor', 'F#minor', 'G-minor', 'E-major', 'Dminor', 'Fmajor', 'Cminor', 'C-major', 'B-major', 'Bmajor', 'C#minor', 'F#major', 'A-major', 'Dmajor', 'A-minor', 'Amajor', 'Fminor']\n",
      "Times up! 28\n",
      "['Emajor', 'B-minor', 'Gminor', 'E-minor', 'G-major', 'Aminor', 'D-major', 'Eminor', 'C-minor', 'Cmajor', 'C#major', 'Bminor', 'D-minor', 'Gmajor', 'F#minor', 'G-minor', 'E-major', 'Dminor', 'Fmajor', 'Cminor', 'C-major', 'B-major', 'Bmajor', 'C#minor', 'F#major', 'A-major', 'Dmajor', 'A-minor', 'Amajor', 'Fminor']\n",
      "Times up! 28\n",
      "['Emajor', 'B-minor', 'Gminor', 'E-minor', 'G-major', 'Aminor', 'D-major', 'Eminor', 'C-minor', 'Cmajor', 'C#major', 'Bminor', 'D-minor', 'Gmajor', 'F#minor', 'G-minor', 'E-major', 'Dminor', 'Fmajor', 'Cminor', 'C-major', 'B-major', 'Bmajor', 'C#minor', 'F#major', 'A-major', 'Dmajor', 'A-minor', 'Amajor', 'Fminor']\n",
      "Times up! 27\n",
      "Current Performance ~ 26 iters per 1 seconds \n",
      "[27, 25, 29, 27, 26, 24, 28, 28, 28, 27]\n"
     ]
    },
    {
     "data": {
      "text/plain": [
       "[27, 25, 29, 27, 26, 24, 28, 28, 28, 27]"
      ]
     },
     "execution_count": 26,
     "metadata": {},
     "output_type": "execute_result"
    }
   ],
   "source": [
    "bench()"
   ]
  },
  {
   "cell_type": "markdown",
   "metadata": {},
   "source": [
    "No real gain from that."
   ]
  },
  {
   "cell_type": "code",
   "execution_count": 27,
   "metadata": {},
   "outputs": [
    {
     "name": "stdout",
     "output_type": "stream",
     "text": [
      "['Emajor', 'B-minor', 'Gminor', 'E-minor', 'G-major', 'Aminor', 'D-major', 'Eminor', 'C-minor', 'Cmajor', 'C#major', 'Bminor', 'D-minor', 'Gmajor', 'F#minor', 'G-minor', 'E-major', 'Dminor', 'Fmajor', 'Cminor', 'C-major', 'B-major', 'Bmajor', 'C#minor', 'F#major', 'A-major', 'Dmajor', 'A-minor', 'Amajor', 'Fminor']\n",
      "Times up! 65\n"
     ]
    }
   ],
   "source": [
    "cProfile.run('my_main(4)','cpout4.txt')\n"
   ]
  },
  {
   "cell_type": "code",
   "execution_count": 28,
   "metadata": {},
   "outputs": [
    {
     "name": "stdout",
     "output_type": "stream",
     "text": [
      "Mon May 13 13:46:34 2019    cpout4.txt\n",
      "\n",
      "         6249985 function calls (6063639 primitive calls) in 4.027 seconds\n",
      "\n",
      "   Ordered by: cumulative time\n",
      "   List reduced from 325 to 50 due to restriction <50>\n",
      "\n",
      "   ncalls  tottime  percall  cumtime  percall filename:lineno(function)\n",
      "        1    0.000    0.000    4.027    4.027 <string>:1(<module>)\n",
      "        1    0.000    0.000    4.027    4.027 <ipython-input-2-02a0ed9aa61e>:140(my_main)\n",
      "        1    0.000    0.000    4.026    4.026 <ipython-input-2-02a0ed9aa61e>:125(grid_search)\n",
      "       65    0.001    0.000    4.026    0.062 <ipython-input-2-02a0ed9aa61e>:113(generate_and_save_song)\n",
      "       65    0.000    0.000    3.138    0.048 <ipython-input-2-02a0ed9aa61e>:107(save_midifile)\n",
      "       65    0.001    0.000    3.138    0.048 __init__.py:246(write)\n",
      "       65    0.001    0.000    3.138    0.048 base.py:2529(write)\n",
      "       65    0.001    0.000    3.121    0.048 subConverters.py:921(write)\n",
      "       65    0.000    0.000    3.033    0.047 translate.py:237(music21ObjectToMidiFile)\n",
      "       65    0.002    0.000    3.033    0.047 translate.py:1890(streamToMidiFile)\n",
      "       65    0.005    0.000    3.031    0.047 translate.py:1680(streamHierarchyToMidiTracks)\n",
      "       65    0.003    0.000    2.130    0.033 translate.py:1646(_prepareStreamForMidi)\n",
      "180691/130    0.202    0.000    2.021    0.016 copy.py:145(deepcopy)\n",
      "       65    0.000    0.000    2.019    0.031 __init__.py:1455(__deepcopy__)\n",
      "       65    0.012    0.000    1.860    0.029 __init__.py:1393(_deepcopySubclassable)\n",
      "     5655    0.008    0.000    1.707    0.000 note.py:751(__deepcopy__)\n",
      "     5655    0.009    0.000    1.699    0.000 base.py:585(__deepcopy__)\n",
      "     5720    0.179    0.000    1.483    0.000 base.py:479(_deepcopySubclassable)\n",
      "    11310    0.025    0.000    0.834    0.000 note.py:1056(__init__)\n",
      "       65    0.018    0.000    0.729    0.011 <ipython-input-17-0ec8fb4d1c4b>:1(song_to_mid)\n",
      "    11310    0.032    0.000    0.495    0.000 note.py:733(__init__)\n",
      "    11310    0.031    0.000    0.458    0.000 note.py:363(__init__)\n",
      "       65    0.037    0.001    0.380    0.006 translate.py:1028(_streamToPackets)\n",
      "    17355    0.042    0.000    0.359    0.000 sites.py:167(__init__)\n",
      "    11635    0.045    0.000    0.339    0.000 base.py:409(__init__)\n",
      "    17355    0.146    0.000    0.317    0.000 collections.py:50(__init__)\n",
      "    11310    0.041    0.000    0.314    0.000 pitch.py:1444(__init__)\n",
      "      260    0.000    0.000    0.300    0.001 __init__.py:6649(flat)\n",
      "      130    0.014    0.000    0.299    0.002 __init__.py:6591(_getFlatOrSemiFlat)\n",
      "    22620    0.041    0.000    0.263    0.000 core.py:60(coreInsert)\n",
      "     5655    0.050    0.000    0.240    0.000 translate.py:361(noteToMidiEvents)\n",
      "    33930    0.109    0.000    0.220    0.000 sites.py:330(add)\n",
      "     5655    0.034    0.000    0.218    0.000 base.py:1237(purgeOrphans)\n",
      "    11700    0.043    0.000    0.212    0.000 copy.py:306(_reconstruct)\n",
      "     5655    0.038    0.000    0.189    0.000 __init__.py:1863(append)\n",
      "    11310    0.122    0.000    0.180    0.000 pitch.py:2309(_setName)\n",
      "     5720    0.038    0.000    0.174    0.000 sites.py:180(__deepcopy__)\n",
      "       65    0.009    0.000    0.162    0.002 __init__.py:6152(stripTies)\n",
      "       65    0.000    0.000    0.159    0.002 __init__.py:1470(_replaceSpannerBundleForDeepcopy)\n",
      "       65    0.001    0.000    0.159    0.002 core.py:361(spannerBundle)\n",
      "    17355    0.050    0.000    0.144    0.000 _abcoll.py:548(update)\n",
      "    17485    0.047    0.000    0.139    0.000 iterator.py:135(__next__)\n",
      "      130    0.006    0.000    0.137    0.001 iterator.py:574(stream)\n",
      "    28730    0.053    0.000    0.122    0.000 sites.py:403(yieldSites)\n",
      "      520    0.013    0.000    0.119    0.000 {method 'sort' of 'list' objects}\n",
      "    12610    0.034    0.000    0.117    0.000 duration.py:1441(__init__)\n",
      "      260    0.001    0.000    0.113    0.000 __init__.py:6444(sort)\n",
      "    11310    0.017    0.000    0.112    0.000 pitch.py:2171(_getMidi)\n",
      "    11700    0.053    0.000    0.110    0.000 {method '__reduce_ex__' of 'object' objects}\n",
      "    56485    0.055    0.000    0.110    0.000 base.py:2073(_setActiveSite)\n",
      "\n",
      "\n"
     ]
    },
    {
     "data": {
      "text/plain": [
       "<pstats.Stats instance at 0x7fabdc296488>"
      ]
     },
     "execution_count": 28,
     "metadata": {},
     "output_type": "execute_result"
    }
   ],
   "source": [
    "p = pstats.Stats('cpout4.txt')\n",
    "# p.sort_stats('cumtime').print_stats(25)\n",
    "p.strip_dirs().sort_stats('cumtime').print_stats(50)"
   ]
  },
  {
   "cell_type": "markdown",
   "metadata": {},
   "source": [
    "# Awful Optimization Trick: Remove a layer of abstraction\n",
    "\n",
    "Music21 objects are pretty slow.\n",
    "\n",
    "       65    0.001    0.000    3.138    0.048 __init__.py:246(write)\n",
    "       65    0.001    0.000    3.138    0.048 base.py:2529(write)\n",
    "       65    0.001    0.000    3.121    0.048 subConverters.py:921(write)\n",
    "       65    0.000    0.000    3.033    0.047 translate.py:237(music21ObjectToMidiFile)\n",
    "       65    0.002    0.000    3.033    0.047 translate.py:1890(streamToMidiFile)\n",
    "       65    0.005    0.000    3.031    0.047 translate.py:1680(streamHierarchyToMidiTracks)\n",
    "       65    0.003    0.000    2.130    0.033 translate.py:1646(_prepareStreamForMidi)\n",
    "    180691/130    0.202    0.000    2.021    0.016 copy.py:145(deepcopy)\n",
    "       65    0.000    0.000    2.019    0.031 __init__.py:1455(__deepcopy__)\n",
    "       65    0.012    0.000    1.860    0.029 __init__.py:1393(_deepcopySubclassable)\n",
    "\n",
    "We're going to drop making music21 objects until we need them in the end.\n",
    "\n",
    "We're going to convert notes to tuples instead of Music21 objects and make Music21 later."
   ]
  },
  {
   "cell_type": "code",
   "execution_count": 29,
   "metadata": {},
   "outputs": [],
   "source": [
    "# state is evil\n",
    "__key_and_octave__ = dict()\n",
    "__pitches_of_key__ = dict()\n",
    "__pitches_octave_mod__ = dict()\n",
    "\n",
    "# make a tuple\n",
    "def _make_note( midi_pitch, duration ):\n",
    "    return (midi_pitch, duration)\n",
    "def make_note( midi_pitch, duration ):\n",
    "    return _make_note(midi_pitch, duration)\n",
    "def _get_pitches_of_key_with_octave(mkey, octave):\n",
    "    our_pitches = pitches_of_key(mkey)\n",
    "    our_key_notes = [pitch_octave_mod(note, octave-4) for note in our_pitches]\n",
    "    # convert to midi\n",
    "    return [p.midi for p in our_key_notes]\n",
    "    # return our_key_notes\n",
    "def note_to_midi(note):\n",
    "    # if not note in __note_to_midi__:\n",
    "    #     __note_to_midi__[note] = note.pitch.midi # supposedly this is slow\n",
    "    # return __note_to_midi__[note]\n",
    "    return int(note[0])\n",
    "\n",
    "def song_to_txt(song):\n",
    "    # return \" \".join([\"M{:03d}\".format(note.midi) for note in song])\n",
    "    return \" \".join([\"M{:03d}\".format(note_to_midi(note)) for note in song])\n"
   ]
  },
  {
   "cell_type": "code",
   "execution_count": 30,
   "metadata": {
    "scrolled": true
   },
   "outputs": [
    {
     "name": "stdout",
     "output_type": "stream",
     "text": [
      "['Emajor', 'B-minor', 'Gminor', 'E-minor', 'G-major', 'Aminor', 'D-major', 'Eminor', 'C-minor', 'Cmajor', 'C#major', 'Bminor', 'D-minor', 'Gmajor', 'F#minor', 'G-minor', 'E-major', 'Dminor', 'Fmajor', 'Cminor', 'C-major', 'B-major', 'Bmajor', 'C#minor', 'F#major', 'A-major', 'Dmajor', 'A-minor', 'Amajor', 'Fminor']\n"
     ]
    },
    {
     "ename": "AttributeError",
     "evalue": "'tuple' object has no attribute 'pitches'",
     "output_type": "error",
     "traceback": [
      "\u001b[0;31m---------------------------------------------------------------------------\u001b[0m",
      "\u001b[0;31mAttributeError\u001b[0m                            Traceback (most recent call last)",
      "\u001b[0;32m<ipython-input-30-92718615c0f9>\u001b[0m in \u001b[0;36m<module>\u001b[0;34m()\u001b[0m\n\u001b[0;32m----> 1\u001b[0;31m \u001b[0mbench\u001b[0m\u001b[0;34m(\u001b[0m\u001b[0;34m)\u001b[0m\u001b[0;34m\u001b[0m\u001b[0m\n\u001b[0m",
      "\u001b[0;32m<ipython-input-15-fe0c72596b8e>\u001b[0m in \u001b[0;36mbench\u001b[0;34m(seconds, repeats)\u001b[0m\n\u001b[1;32m      1\u001b[0m \u001b[0;31m# let's make this more repeatable\u001b[0m\u001b[0;34m\u001b[0m\u001b[0;34m\u001b[0m\u001b[0m\n\u001b[1;32m      2\u001b[0m \u001b[0;32mdef\u001b[0m \u001b[0mbench\u001b[0m\u001b[0;34m(\u001b[0m\u001b[0mseconds\u001b[0m\u001b[0;34m=\u001b[0m\u001b[0;36m1\u001b[0m\u001b[0;34m,\u001b[0m\u001b[0mrepeats\u001b[0m\u001b[0;34m=\u001b[0m\u001b[0;36m10\u001b[0m\u001b[0;34m)\u001b[0m\u001b[0;34m:\u001b[0m\u001b[0;34m\u001b[0m\u001b[0m\n\u001b[0;32m----> 3\u001b[0;31m     \u001b[0mperf\u001b[0m \u001b[0;34m=\u001b[0m \u001b[0mmap\u001b[0m\u001b[0;34m(\u001b[0m\u001b[0;32mlambda\u001b[0m \u001b[0mx\u001b[0m\u001b[0;34m:\u001b[0m \u001b[0mmy_main\u001b[0m\u001b[0;34m(\u001b[0m\u001b[0mseconds\u001b[0m\u001b[0;34m)\u001b[0m\u001b[0;34m,\u001b[0m\u001b[0mrange\u001b[0m\u001b[0;34m(\u001b[0m\u001b[0;36m0\u001b[0m\u001b[0;34m,\u001b[0m\u001b[0mrepeats\u001b[0m\u001b[0;34m)\u001b[0m\u001b[0;34m)\u001b[0m\u001b[0;34m\u001b[0m\u001b[0m\n\u001b[0m\u001b[1;32m      4\u001b[0m     \u001b[0;32mprint\u001b[0m\u001b[0;34m(\u001b[0m\u001b[0;34m\"Current Performance ~ %s iters per %s seconds \"\u001b[0m \u001b[0;34m%\u001b[0m \u001b[0;34m(\u001b[0m\u001b[0mmean\u001b[0m\u001b[0;34m(\u001b[0m\u001b[0mperf\u001b[0m\u001b[0;34m)\u001b[0m\u001b[0;34m,\u001b[0m \u001b[0mseconds\u001b[0m\u001b[0;34m)\u001b[0m\u001b[0;34m)\u001b[0m\u001b[0;34m\u001b[0m\u001b[0m\n\u001b[1;32m      5\u001b[0m     \u001b[0;32mprint\u001b[0m\u001b[0;34m(\u001b[0m\u001b[0mperf\u001b[0m\u001b[0;34m)\u001b[0m\u001b[0;34m\u001b[0m\u001b[0m\n",
      "\u001b[0;32m<ipython-input-15-fe0c72596b8e>\u001b[0m in \u001b[0;36m<lambda>\u001b[0;34m(x)\u001b[0m\n\u001b[1;32m      1\u001b[0m \u001b[0;31m# let's make this more repeatable\u001b[0m\u001b[0;34m\u001b[0m\u001b[0;34m\u001b[0m\u001b[0m\n\u001b[1;32m      2\u001b[0m \u001b[0;32mdef\u001b[0m \u001b[0mbench\u001b[0m\u001b[0;34m(\u001b[0m\u001b[0mseconds\u001b[0m\u001b[0;34m=\u001b[0m\u001b[0;36m1\u001b[0m\u001b[0;34m,\u001b[0m\u001b[0mrepeats\u001b[0m\u001b[0;34m=\u001b[0m\u001b[0;36m10\u001b[0m\u001b[0;34m)\u001b[0m\u001b[0;34m:\u001b[0m\u001b[0;34m\u001b[0m\u001b[0m\n\u001b[0;32m----> 3\u001b[0;31m     \u001b[0mperf\u001b[0m \u001b[0;34m=\u001b[0m \u001b[0mmap\u001b[0m\u001b[0;34m(\u001b[0m\u001b[0;32mlambda\u001b[0m \u001b[0mx\u001b[0m\u001b[0;34m:\u001b[0m \u001b[0mmy_main\u001b[0m\u001b[0;34m(\u001b[0m\u001b[0mseconds\u001b[0m\u001b[0;34m)\u001b[0m\u001b[0;34m,\u001b[0m\u001b[0mrange\u001b[0m\u001b[0;34m(\u001b[0m\u001b[0;36m0\u001b[0m\u001b[0;34m,\u001b[0m\u001b[0mrepeats\u001b[0m\u001b[0;34m)\u001b[0m\u001b[0;34m)\u001b[0m\u001b[0;34m\u001b[0m\u001b[0m\n\u001b[0m\u001b[1;32m      4\u001b[0m     \u001b[0;32mprint\u001b[0m\u001b[0;34m(\u001b[0m\u001b[0;34m\"Current Performance ~ %s iters per %s seconds \"\u001b[0m \u001b[0;34m%\u001b[0m \u001b[0;34m(\u001b[0m\u001b[0mmean\u001b[0m\u001b[0;34m(\u001b[0m\u001b[0mperf\u001b[0m\u001b[0;34m)\u001b[0m\u001b[0;34m,\u001b[0m \u001b[0mseconds\u001b[0m\u001b[0;34m)\u001b[0m\u001b[0;34m)\u001b[0m\u001b[0;34m\u001b[0m\u001b[0m\n\u001b[1;32m      5\u001b[0m     \u001b[0;32mprint\u001b[0m\u001b[0;34m(\u001b[0m\u001b[0mperf\u001b[0m\u001b[0;34m)\u001b[0m\u001b[0;34m\u001b[0m\u001b[0m\n",
      "\u001b[0;32m<ipython-input-2-02a0ed9aa61e>\u001b[0m in \u001b[0;36mmy_main\u001b[0;34m(maxtime)\u001b[0m\n\u001b[1;32m    154\u001b[0m     }\n\u001b[1;32m    155\u001b[0m     return grid_search(params,[\"keys\",\"dir_notes\",\"bump_durations\",\"octaves\"], \n\u001b[0;32m--> 156\u001b[0;31m                 song_tuples, f=generate_and_save_song, maxtime=maxtime)\n\u001b[0m\u001b[1;32m    157\u001b[0m \u001b[0;34m\u001b[0m\u001b[0m\n\u001b[1;32m    158\u001b[0m \u001b[0;32mdef\u001b[0m \u001b[0mgenerate_and_estimate_song\u001b[0m\u001b[0;34m(\u001b[0m\u001b[0mestimate\u001b[0m\u001b[0;34m,\u001b[0m\u001b[0msong_tuples\u001b[0m\u001b[0;34m,\u001b[0m\u001b[0mmkey\u001b[0m\u001b[0;34m,\u001b[0m \u001b[0mnote_mapping\u001b[0m\u001b[0;34m,\u001b[0m \u001b[0mbump_mapping\u001b[0m\u001b[0;34m,\u001b[0m\u001b[0moctave\u001b[0m\u001b[0;34m)\u001b[0m\u001b[0;34m:\u001b[0m\u001b[0;34m\u001b[0m\u001b[0m\n",
      "\u001b[0;32m<ipython-input-2-02a0ed9aa61e>\u001b[0m in \u001b[0;36mgrid_search\u001b[0;34m(params, param_keys, song_tuples, f, maxtime)\u001b[0m\n\u001b[1;32m    131\u001b[0m         \u001b[0;32mif\u001b[0m \u001b[0m__grid_search_print__\u001b[0m\u001b[0;34m:\u001b[0m\u001b[0;34m\u001b[0m\u001b[0m\n\u001b[1;32m    132\u001b[0m             \u001b[0;32mprint\u001b[0m\u001b[0;34m(\u001b[0m\u001b[0mt\u001b[0m\u001b[0;34m)\u001b[0m\u001b[0;34m\u001b[0m\u001b[0m\n\u001b[0;32m--> 133\u001b[0;31m         \u001b[0mf\u001b[0m\u001b[0;34m(\u001b[0m\u001b[0msong_tuples\u001b[0m\u001b[0;34m,\u001b[0m\u001b[0;34m*\u001b[0m\u001b[0mt\u001b[0m\u001b[0;34m)\u001b[0m\u001b[0;34m\u001b[0m\u001b[0m\n\u001b[0m\u001b[1;32m    134\u001b[0m         \u001b[0miters\u001b[0m \u001b[0;34m+=\u001b[0m \u001b[0;36m1\u001b[0m\u001b[0;34m\u001b[0m\u001b[0m\n\u001b[1;32m    135\u001b[0m         \u001b[0;32mif\u001b[0m \u001b[0;34m(\u001b[0m\u001b[0mtime\u001b[0m\u001b[0;34m.\u001b[0m\u001b[0mtime\u001b[0m\u001b[0;34m(\u001b[0m\u001b[0;34m)\u001b[0m \u001b[0;34m-\u001b[0m \u001b[0mstart\u001b[0m \u001b[0;34m>\u001b[0m \u001b[0mmaxtime\u001b[0m\u001b[0;34m)\u001b[0m\u001b[0;34m:\u001b[0m\u001b[0;34m\u001b[0m\u001b[0m\n",
      "\u001b[0;32m<ipython-input-2-02a0ed9aa61e>\u001b[0m in \u001b[0;36mgenerate_and_save_song\u001b[0;34m(song_tuples, mkey, note_mapping, bump_mapping, octave)\u001b[0m\n\u001b[1;32m    119\u001b[0m     \u001b[0msave_textfile\u001b[0m\u001b[0;34m(\u001b[0m\u001b[0mtxt\u001b[0m\u001b[0;34m,\u001b[0m \u001b[0mtxt_file_name\u001b[0m\u001b[0;34m)\u001b[0m\u001b[0;34m\u001b[0m\u001b[0m\n\u001b[1;32m    120\u001b[0m     \u001b[0;31m# print(song)\u001b[0m\u001b[0;34m\u001b[0m\u001b[0;34m\u001b[0m\u001b[0m\n\u001b[0;32m--> 121\u001b[0;31m     \u001b[0mmid\u001b[0m \u001b[0;34m=\u001b[0m \u001b[0msong_to_mid\u001b[0m\u001b[0;34m(\u001b[0m\u001b[0msong\u001b[0m\u001b[0;34m)\u001b[0m\u001b[0;34m\u001b[0m\u001b[0m\n\u001b[0m\u001b[1;32m    122\u001b[0m     \u001b[0msave_midifile\u001b[0m\u001b[0;34m(\u001b[0m\u001b[0mmid\u001b[0m\u001b[0;34m,\u001b[0m \u001b[0mmid_file_name\u001b[0m\u001b[0;34m)\u001b[0m\u001b[0;34m\u001b[0m\u001b[0m\n\u001b[1;32m    123\u001b[0m \u001b[0;34m\u001b[0m\u001b[0m\n",
      "\u001b[0;32m<ipython-input-17-0ec8fb4d1c4b>\u001b[0m in \u001b[0;36msong_to_mid\u001b[0;34m(song)\u001b[0m\n\u001b[1;32m      3\u001b[0m     \u001b[0;32mfor\u001b[0m \u001b[0melm\u001b[0m \u001b[0;32min\u001b[0m \u001b[0msong\u001b[0m\u001b[0;34m:\u001b[0m\u001b[0;34m\u001b[0m\u001b[0m\n\u001b[1;32m      4\u001b[0m         \u001b[0mnote\u001b[0m \u001b[0;34m=\u001b[0m \u001b[0mmusic21\u001b[0m\u001b[0;34m.\u001b[0m\u001b[0mnote\u001b[0m\u001b[0;34m.\u001b[0m\u001b[0mNote\u001b[0m\u001b[0;34m(\u001b[0m\u001b[0;34m)\u001b[0m\u001b[0;34m\u001b[0m\u001b[0m\n\u001b[0;32m----> 5\u001b[0;31m         \u001b[0mnote\u001b[0m\u001b[0;34m.\u001b[0m\u001b[0mpitches\u001b[0m \u001b[0;34m=\u001b[0m \u001b[0melm\u001b[0m\u001b[0;34m.\u001b[0m\u001b[0mpitches\u001b[0m\u001b[0;34m\u001b[0m\u001b[0m\n\u001b[0m\u001b[1;32m      6\u001b[0m         \u001b[0mnote\u001b[0m\u001b[0;34m.\u001b[0m\u001b[0mduration\u001b[0m \u001b[0;34m=\u001b[0m \u001b[0melm\u001b[0m\u001b[0;34m.\u001b[0m\u001b[0mduration\u001b[0m\u001b[0;34m\u001b[0m\u001b[0m\n\u001b[1;32m      7\u001b[0m         \u001b[0mstream\u001b[0m\u001b[0;34m.\u001b[0m\u001b[0mappend\u001b[0m\u001b[0;34m(\u001b[0m\u001b[0mnote\u001b[0m\u001b[0;34m)\u001b[0m\u001b[0;34m\u001b[0m\u001b[0m\n",
      "\u001b[0;31mAttributeError\u001b[0m: 'tuple' object has no attribute 'pitches'"
     ]
    }
   ],
   "source": [
    "bench()"
   ]
  },
  {
   "cell_type": "code",
   "execution_count": 31,
   "metadata": {},
   "outputs": [],
   "source": [
    "def make_music21_note( midi21_pitch, duration ):\n",
    "    new_note = music21.note.Note(midi21_pitch)\n",
    "    new_note.duration = music21.duration.Duration(duration) # is this right    \n",
    "    return new_note\n",
    "\n",
    "def song_to_mid(song):\n",
    "    stream = music21.stream.Stream()\n",
    "    for elm in song:\n",
    "        if isinstance(elm, music21.note.Note):\n",
    "            #note = music21.note.Note()\n",
    "            #note.pitches = elm.pitches\n",
    "            #note.duration = elm.duration\n",
    "            stream.append(elm)\n",
    "        else:\n",
    "            stream.append(make_music21_note(elm[0],elm[1]))\n",
    "    return stream\n"
   ]
  },
  {
   "cell_type": "code",
   "execution_count": 32,
   "metadata": {},
   "outputs": [
    {
     "name": "stdout",
     "output_type": "stream",
     "text": [
      "['Emajor', 'B-minor', 'Gminor', 'E-minor', 'G-major', 'Aminor', 'D-major', 'Eminor', 'C-minor', 'Cmajor', 'C#major', 'Bminor', 'D-minor', 'Gmajor', 'F#minor', 'G-minor', 'E-major', 'Dminor', 'Fmajor', 'Cminor', 'C-major', 'B-major', 'Bmajor', 'C#minor', 'F#major', 'A-major', 'Dmajor', 'A-minor', 'Amajor', 'Fminor']\n",
      "Times up! 24\n",
      "['Emajor', 'B-minor', 'Gminor', 'E-minor', 'G-major', 'Aminor', 'D-major', 'Eminor', 'C-minor', 'Cmajor', 'C#major', 'Bminor', 'D-minor', 'Gmajor', 'F#minor', 'G-minor', 'E-major', 'Dminor', 'Fmajor', 'Cminor', 'C-major', 'B-major', 'Bmajor', 'C#minor', 'F#major', 'A-major', 'Dmajor', 'A-minor', 'Amajor', 'Fminor']\n",
      "Times up! 24\n",
      "['Emajor', 'B-minor', 'Gminor', 'E-minor', 'G-major', 'Aminor', 'D-major', 'Eminor', 'C-minor', 'Cmajor', 'C#major', 'Bminor', 'D-minor', 'Gmajor', 'F#minor', 'G-minor', 'E-major', 'Dminor', 'Fmajor', 'Cminor', 'C-major', 'B-major', 'Bmajor', 'C#minor', 'F#major', 'A-major', 'Dmajor', 'A-minor', 'Amajor', 'Fminor']\n",
      "Times up! 22\n",
      "['Emajor', 'B-minor', 'Gminor', 'E-minor', 'G-major', 'Aminor', 'D-major', 'Eminor', 'C-minor', 'Cmajor', 'C#major', 'Bminor', 'D-minor', 'Gmajor', 'F#minor', 'G-minor', 'E-major', 'Dminor', 'Fmajor', 'Cminor', 'C-major', 'B-major', 'Bmajor', 'C#minor', 'F#major', 'A-major', 'Dmajor', 'A-minor', 'Amajor', 'Fminor']\n",
      "Times up! 24\n",
      "['Emajor', 'B-minor', 'Gminor', 'E-minor', 'G-major', 'Aminor', 'D-major', 'Eminor', 'C-minor', 'Cmajor', 'C#major', 'Bminor', 'D-minor', 'Gmajor', 'F#minor', 'G-minor', 'E-major', 'Dminor', 'Fmajor', 'Cminor', 'C-major', 'B-major', 'Bmajor', 'C#minor', 'F#major', 'A-major', 'Dmajor', 'A-minor', 'Amajor', 'Fminor']\n",
      "Times up! 22\n",
      "['Emajor', 'B-minor', 'Gminor', 'E-minor', 'G-major', 'Aminor', 'D-major', 'Eminor', 'C-minor', 'Cmajor', 'C#major', 'Bminor', 'D-minor', 'Gmajor', 'F#minor', 'G-minor', 'E-major', 'Dminor', 'Fmajor', 'Cminor', 'C-major', 'B-major', 'Bmajor', 'C#minor', 'F#major', 'A-major', 'Dmajor', 'A-minor', 'Amajor', 'Fminor']\n",
      "Times up! 21\n",
      "['Emajor', 'B-minor', 'Gminor', 'E-minor', 'G-major', 'Aminor', 'D-major', 'Eminor', 'C-minor', 'Cmajor', 'C#major', 'Bminor', 'D-minor', 'Gmajor', 'F#minor', 'G-minor', 'E-major', 'Dminor', 'Fmajor', 'Cminor', 'C-major', 'B-major', 'Bmajor', 'C#minor', 'F#major', 'A-major', 'Dmajor', 'A-minor', 'Amajor', 'Fminor']\n",
      "Times up! 20\n",
      "['Emajor', 'B-minor', 'Gminor', 'E-minor', 'G-major', 'Aminor', 'D-major', 'Eminor', 'C-minor', 'Cmajor', 'C#major', 'Bminor', 'D-minor', 'Gmajor', 'F#minor', 'G-minor', 'E-major', 'Dminor', 'Fmajor', 'Cminor', 'C-major', 'B-major', 'Bmajor', 'C#minor', 'F#major', 'A-major', 'Dmajor', 'A-minor', 'Amajor', 'Fminor']\n",
      "Times up! 21\n",
      "['Emajor', 'B-minor', 'Gminor', 'E-minor', 'G-major', 'Aminor', 'D-major', 'Eminor', 'C-minor', 'Cmajor', 'C#major', 'Bminor', 'D-minor', 'Gmajor', 'F#minor', 'G-minor', 'E-major', 'Dminor', 'Fmajor', 'Cminor', 'C-major', 'B-major', 'Bmajor', 'C#minor', 'F#major', 'A-major', 'Dmajor', 'A-minor', 'Amajor', 'Fminor']\n",
      "Times up! 24\n",
      "['Emajor', 'B-minor', 'Gminor', 'E-minor', 'G-major', 'Aminor', 'D-major', 'Eminor', 'C-minor', 'Cmajor', 'C#major', 'Bminor', 'D-minor', 'Gmajor', 'F#minor', 'G-minor', 'E-major', 'Dminor', 'Fmajor', 'Cminor', 'C-major', 'B-major', 'Bmajor', 'C#minor', 'F#major', 'A-major', 'Dmajor', 'A-minor', 'Amajor', 'Fminor']\n",
      "Times up! 25\n",
      "Current Performance ~ 22 iters per 1 seconds \n",
      "[24, 24, 22, 24, 22, 21, 20, 21, 24, 25]\n"
     ]
    },
    {
     "data": {
      "text/plain": [
       "[24, 24, 22, 24, 22, 21, 20, 21, 24, 25]"
      ]
     },
     "execution_count": 32,
     "metadata": {},
     "output_type": "execute_result"
    }
   ],
   "source": [
    "bench()"
   ]
  },
  {
   "cell_type": "code",
   "execution_count": 33,
   "metadata": {},
   "outputs": [
    {
     "name": "stdout",
     "output_type": "stream",
     "text": [
      "['Emajor', 'B-minor', 'Gminor', 'E-minor', 'G-major', 'Aminor', 'D-major', 'Eminor', 'C-minor', 'Cmajor', 'C#major', 'Bminor', 'D-minor', 'Gmajor', 'F#minor', 'G-minor', 'E-major', 'Dminor', 'Fmajor', 'Cminor', 'C-major', 'B-major', 'Bmajor', 'C#minor', 'F#major', 'A-major', 'Dmajor', 'A-minor', 'Amajor', 'Fminor']\n",
      "Times up! 55\n"
     ]
    }
   ],
   "source": [
    "cProfile.run('my_main(4)','cpout5.txt')\n"
   ]
  },
  {
   "cell_type": "code",
   "execution_count": 34,
   "metadata": {},
   "outputs": [
    {
     "name": "stdout",
     "output_type": "stream",
     "text": [
      "Mon May 13 13:48:15 2019    cpout5.txt\n",
      "\n",
      "         6108455 function calls (5882130 primitive calls) in 4.009 seconds\n",
      "\n",
      "   Ordered by: cumulative time\n",
      "   List reduced from 316 to 50 due to restriction <50>\n",
      "\n",
      "   ncalls  tottime  percall  cumtime  percall filename:lineno(function)\n",
      "        1    0.000    0.000    4.009    4.009 <string>:1(<module>)\n",
      "        1    0.000    0.000    4.009    4.009 <ipython-input-2-02a0ed9aa61e>:140(my_main)\n",
      "        1    0.001    0.001    4.009    4.009 <ipython-input-2-02a0ed9aa61e>:125(grid_search)\n",
      "       55    0.001    0.000    4.008    0.073 <ipython-input-2-02a0ed9aa61e>:113(generate_and_save_song)\n",
      "       55    0.000    0.000    3.354    0.061 <ipython-input-2-02a0ed9aa61e>:107(save_midifile)\n",
      "       55    0.000    0.000    3.354    0.061 /home/hindle1/.local/lib/python2.7/site-packages/music21/stream/__init__.py:246(write)\n",
      "       55    0.001    0.000    3.354    0.061 /home/hindle1/.local/lib/python2.7/site-packages/music21/base.py:2529(write)\n",
      "       55    0.001    0.000    3.339    0.061 /home/hindle1/.local/lib/python2.7/site-packages/music21/converter/subConverters.py:921(write)\n",
      "       55    0.000    0.000    3.263    0.059 /home/hindle1/.local/lib/python2.7/site-packages/music21/midi/translate.py:237(music21ObjectToMidiFile)\n",
      "       55    0.002    0.000    3.263    0.059 /home/hindle1/.local/lib/python2.7/site-packages/music21/midi/translate.py:1890(streamToMidiFile)\n",
      "       55    0.005    0.000    3.261    0.059 /home/hindle1/.local/lib/python2.7/site-packages/music21/midi/translate.py:1680(streamHierarchyToMidiTracks)\n",
      "       55    0.005    0.000    2.444    0.044 /home/hindle1/.local/lib/python2.7/site-packages/music21/midi/translate.py:1646(_prepareStreamForMidi)\n",
      "221540/110    0.317    0.000    2.348    0.021 /usr/lib/python2.7/copy.py:145(deepcopy)\n",
      "       55    0.000    0.000    2.345    0.043 /home/hindle1/.local/lib/python2.7/site-packages/music21/stream/__init__.py:1455(__deepcopy__)\n",
      "       55    0.011    0.000    2.203    0.040 /home/hindle1/.local/lib/python2.7/site-packages/music21/stream/__init__.py:1393(_deepcopySubclassable)\n",
      "     4785    0.008    0.000    2.064    0.000 /home/hindle1/.local/lib/python2.7/site-packages/music21/note.py:751(__deepcopy__)\n",
      "     4785    0.008    0.000    2.056    0.000 /home/hindle1/.local/lib/python2.7/site-packages/music21/base.py:585(__deepcopy__)\n",
      "     4840    0.161    0.000    1.861    0.000 /home/hindle1/.local/lib/python2.7/site-packages/music21/base.py:479(_deepcopySubclassable)\n",
      "     9570    0.024    0.000    0.744    0.000 /home/hindle1/.local/lib/python2.7/site-packages/music21/note.py:1056(__init__)\n",
      "       55    0.008    0.000    0.640    0.012 <ipython-input-31-f93cdb7d84b0>:6(song_to_mid)\n",
      "     9570    0.030    0.000    0.472    0.000 /home/hindle1/.local/lib/python2.7/site-packages/music21/note.py:733(__init__)\n",
      "     4785    0.011    0.000    0.462    0.000 <ipython-input-31-f93cdb7d84b0>:1(make_music21_note)\n",
      "     9570    0.028    0.000    0.438    0.000 /home/hindle1/.local/lib/python2.7/site-packages/music21/note.py:363(__init__)\n",
      "       55    0.032    0.001    0.385    0.007 /home/hindle1/.local/lib/python2.7/site-packages/music21/midi/translate.py:1028(_streamToPackets)\n",
      "     4785    0.006    0.000    0.348    0.000 /home/hindle1/.local/lib/python2.7/site-packages/music21/duration.py:1560(__deepcopy__)\n",
      "     4785    0.062    0.000    0.342    0.000 /home/hindle1/.local/lib/python2.7/site-packages/music21/common/misc.py:159(defaultDeepcopy)\n",
      "    14685    0.041    0.000    0.281    0.000 /home/hindle1/.local/lib/python2.7/site-packages/music21/sites.py:167(__init__)\n",
      "     9845    0.043    0.000    0.272    0.000 /home/hindle1/.local/lib/python2.7/site-packages/music21/base.py:409(__init__)\n",
      "     4785    0.043    0.000    0.266    0.000 /home/hindle1/.local/lib/python2.7/site-packages/music21/midi/translate.py:361(noteToMidiEvents)\n",
      "      220    0.000    0.000    0.263    0.001 /home/hindle1/.local/lib/python2.7/site-packages/music21/stream/__init__.py:6649(flat)\n",
      "      110    0.012    0.000    0.262    0.002 /home/hindle1/.local/lib/python2.7/site-packages/music21/stream/__init__.py:6591(_getFlatOrSemiFlat)\n",
      "     9570    0.037    0.000    0.246    0.000 /home/hindle1/.local/lib/python2.7/site-packages/music21/pitch.py:1444(__init__)\n",
      "    14685    0.086    0.000    0.240    0.000 /usr/lib/python2.7/collections.py:50(__init__)\n",
      "     4785    0.038    0.000    0.231    0.000 /home/hindle1/.local/lib/python2.7/site-packages/music21/pitch.py:1563(__deepcopy__)\n",
      "    19140    0.036    0.000    0.229    0.000 /home/hindle1/.local/lib/python2.7/site-packages/music21/stream/core.py:60(coreInsert)\n",
      "     4785    0.031    0.000    0.196    0.000 /home/hindle1/.local/lib/python2.7/site-packages/music21/base.py:1237(purgeOrphans)\n",
      "    19140    0.107    0.000    0.191    0.000 /home/hindle1/.local/lib/python2.7/site-packages/music21/duration.py:1441(__init__)\n",
      "    28710    0.096    0.000    0.189    0.000 /home/hindle1/.local/lib/python2.7/site-packages/music21/sites.py:330(add)\n",
      "     9900    0.038    0.000    0.187    0.000 /usr/lib/python2.7/copy.py:306(_reconstruct)\n",
      "     4785    0.035    0.000    0.166    0.000 /home/hindle1/.local/lib/python2.7/site-packages/music21/stream/__init__.py:1863(append)\n",
      "   130515    0.129    0.000    0.151    0.000 /usr/lib/python2.7/copy.py:267(_keep_alive)\n",
      "     4840    0.034    0.000    0.150    0.000 /home/hindle1/.local/lib/python2.7/site-packages/music21/sites.py:180(__deepcopy__)\n",
      "     9570    0.063    0.000    0.149    0.000 /home/hindle1/.local/lib/python2.7/site-packages/music21/pitch.py:2171(_getMidi)\n",
      "       55    0.000    0.000    0.143    0.003 /home/hindle1/.local/lib/python2.7/site-packages/music21/stream/__init__.py:1470(_replaceSpannerBundleForDeepcopy)\n",
      "       55    0.001    0.000    0.142    0.003 /home/hindle1/.local/lib/python2.7/site-packages/music21/stream/core.py:361(spannerBundle)\n",
      "       55    0.007    0.000    0.133    0.002 /home/hindle1/.local/lib/python2.7/site-packages/music21/stream/__init__.py:6152(stripTies)\n",
      "    14685    0.041    0.000    0.129    0.000 /usr/lib/python2.7/_abcoll.py:548(update)\n",
      "     4785    0.027    0.000    0.121    0.000 /home/hindle1/.local/lib/python2.7/site-packages/music21/pitch.py:842(__deepcopy__)\n",
      "    14795    0.040    0.000    0.119    0.000 /home/hindle1/.local/lib/python2.7/site-packages/music21/stream/iterator.py:135(__next__)\n",
      "    24310    0.045    0.000    0.112    0.000 /home/hindle1/.local/lib/python2.7/site-packages/music21/sites.py:403(yieldSites)\n",
      "\n",
      "\n"
     ]
    },
    {
     "data": {
      "text/plain": [
       "<pstats.Stats instance at 0x7fabde686cb0>"
      ]
     },
     "execution_count": 34,
     "metadata": {},
     "output_type": "execute_result"
    }
   ],
   "source": [
    "p = pstats.Stats('cpout5.txt')\n",
    "# p.sort_stats('cumtime').print_stats(25)\n",
    "p.sort_stats('cumtime').print_stats(50)"
   ]
  },
  {
   "cell_type": "markdown",
   "metadata": {},
   "source": [
    "# It's still the midi output.\n",
    "\n",
    "       55    0.000    0.000    3.354    0.061 <ipython-input-2-02a0ed9aa61e>:107(save_midifile)\n",
    "\n",
    "Let's try it without without midi altogether.\n",
    "\n",
    "# Imagine we asked our boss if we could just skip producing MIDI files?\n",
    "\n",
    "If they said yes and changed the requirements we'd make huge gains."
   ]
  },
  {
   "cell_type": "code",
   "execution_count": 35,
   "metadata": {},
   "outputs": [],
   "source": [
    "__grid_search_print__ = False\n",
    "\n",
    "def save_midifile(x,y):\n",
    "    return None\n",
    "def song_to_mid(x):\n",
    "    return None"
   ]
  },
  {
   "cell_type": "code",
   "execution_count": 36,
   "metadata": {},
   "outputs": [
    {
     "name": "stdout",
     "output_type": "stream",
     "text": [
      "['Emajor', 'B-minor', 'Gminor', 'E-minor', 'G-major', 'Aminor', 'D-major', 'Eminor', 'C-minor', 'Cmajor', 'C#major', 'Bminor', 'D-minor', 'Gmajor', 'F#minor', 'G-minor', 'E-major', 'Dminor', 'Fmajor', 'Cminor', 'C-major', 'B-major', 'Bmajor', 'C#minor', 'F#major', 'A-major', 'Dmajor', 'A-minor', 'Amajor', 'Fminor']\n",
      "Times up! 7542\n",
      "['Emajor', 'B-minor', 'Gminor', 'E-minor', 'G-major', 'Aminor', 'D-major', 'Eminor', 'C-minor', 'Cmajor', 'C#major', 'Bminor', 'D-minor', 'Gmajor', 'F#minor', 'G-minor', 'E-major', 'Dminor', 'Fmajor', 'Cminor', 'C-major', 'B-major', 'Bmajor', 'C#minor', 'F#major', 'A-major', 'Dmajor', 'A-minor', 'Amajor', 'Fminor']\n",
      "Times up! 8888\n",
      "['Emajor', 'B-minor', 'Gminor', 'E-minor', 'G-major', 'Aminor', 'D-major', 'Eminor', 'C-minor', 'Cmajor', 'C#major', 'Bminor', 'D-minor', 'Gmajor', 'F#minor', 'G-minor', 'E-major', 'Dminor', 'Fmajor', 'Cminor', 'C-major', 'B-major', 'Bmajor', 'C#minor', 'F#major', 'A-major', 'Dmajor', 'A-minor', 'Amajor', 'Fminor']\n",
      "Times up! 9228\n",
      "['Emajor', 'B-minor', 'Gminor', 'E-minor', 'G-major', 'Aminor', 'D-major', 'Eminor', 'C-minor', 'Cmajor', 'C#major', 'Bminor', 'D-minor', 'Gmajor', 'F#minor', 'G-minor', 'E-major', 'Dminor', 'Fmajor', 'Cminor', 'C-major', 'B-major', 'Bmajor', 'C#minor', 'F#major', 'A-major', 'Dmajor', 'A-minor', 'Amajor', 'Fminor']\n",
      "Times up! 8955\n",
      "['Emajor', 'B-minor', 'Gminor', 'E-minor', 'G-major', 'Aminor', 'D-major', 'Eminor', 'C-minor', 'Cmajor', 'C#major', 'Bminor', 'D-minor', 'Gmajor', 'F#minor', 'G-minor', 'E-major', 'Dminor', 'Fmajor', 'Cminor', 'C-major', 'B-major', 'Bmajor', 'C#minor', 'F#major', 'A-major', 'Dmajor', 'A-minor', 'Amajor', 'Fminor']\n",
      "Times up! 8544\n",
      "['Emajor', 'B-minor', 'Gminor', 'E-minor', 'G-major', 'Aminor', 'D-major', 'Eminor', 'C-minor', 'Cmajor', 'C#major', 'Bminor', 'D-minor', 'Gmajor', 'F#minor', 'G-minor', 'E-major', 'Dminor', 'Fmajor', 'Cminor', 'C-major', 'B-major', 'Bmajor', 'C#minor', 'F#major', 'A-major', 'Dmajor', 'A-minor', 'Amajor', 'Fminor']\n",
      "Times up! 8868\n",
      "['Emajor', 'B-minor', 'Gminor', 'E-minor', 'G-major', 'Aminor', 'D-major', 'Eminor', 'C-minor', 'Cmajor', 'C#major', 'Bminor', 'D-minor', 'Gmajor', 'F#minor', 'G-minor', 'E-major', 'Dminor', 'Fmajor', 'Cminor', 'C-major', 'B-major', 'Bmajor', 'C#minor', 'F#major', 'A-major', 'Dmajor', 'A-minor', 'Amajor', 'Fminor']\n",
      "Times up! 9119\n",
      "['Emajor', 'B-minor', 'Gminor', 'E-minor', 'G-major', 'Aminor', 'D-major', 'Eminor', 'C-minor', 'Cmajor', 'C#major', 'Bminor', 'D-minor', 'Gmajor', 'F#minor', 'G-minor', 'E-major', 'Dminor', 'Fmajor', 'Cminor', 'C-major', 'B-major', 'Bmajor', 'C#minor', 'F#major', 'A-major', 'Dmajor', 'A-minor', 'Amajor', 'Fminor']\n",
      "Times up! 9183\n",
      "['Emajor', 'B-minor', 'Gminor', 'E-minor', 'G-major', 'Aminor', 'D-major', 'Eminor', 'C-minor', 'Cmajor', 'C#major', 'Bminor', 'D-minor', 'Gmajor', 'F#minor', 'G-minor', 'E-major', 'Dminor', 'Fmajor', 'Cminor', 'C-major', 'B-major', 'Bmajor', 'C#minor', 'F#major', 'A-major', 'Dmajor', 'A-minor', 'Amajor', 'Fminor']\n",
      "Times up! 8487\n",
      "['Emajor', 'B-minor', 'Gminor', 'E-minor', 'G-major', 'Aminor', 'D-major', 'Eminor', 'C-minor', 'Cmajor', 'C#major', 'Bminor', 'D-minor', 'Gmajor', 'F#minor', 'G-minor', 'E-major', 'Dminor', 'Fmajor', 'Cminor', 'C-major', 'B-major', 'Bmajor', 'C#minor', 'F#major', 'A-major', 'Dmajor', 'A-minor', 'Amajor', 'Fminor']\n",
      "Times up! 9198\n",
      "Current Performance ~ 8801 iters per 1 seconds \n",
      "[7542, 8888, 9228, 8955, 8544, 8868, 9119, 9183, 8487, 9198]\n"
     ]
    },
    {
     "data": {
      "text/plain": [
       "[7542, 8888, 9228, 8955, 8544, 8868, 9119, 9183, 8487, 9198]"
      ]
     },
     "execution_count": 36,
     "metadata": {},
     "output_type": "execute_result"
    }
   ],
   "source": [
    "bench()"
   ]
  },
  {
   "cell_type": "code",
   "execution_count": 37,
   "metadata": {},
   "outputs": [
    {
     "name": "stdout",
     "output_type": "stream",
     "text": [
      "['Emajor', 'B-minor', 'Gminor', 'E-minor', 'G-major', 'Aminor', 'D-major', 'Eminor', 'C-minor', 'Cmajor', 'C#major', 'Bminor', 'D-minor', 'Gmajor', 'F#minor', 'G-minor', 'E-major', 'Dminor', 'Fmajor', 'Cminor', 'C-major', 'B-major', 'Bmajor', 'C#minor', 'F#major', 'A-major', 'Dmajor', 'A-minor', 'Amajor', 'Fminor']\n",
      "Times up! 20785\n",
      "Mon May 13 13:48:59 2019    cpout6.txt\n",
      "\n",
      "         9720994 function calls (9717842 primitive calls) in 4.001 seconds\n",
      "\n",
      "   Ordered by: cumulative time\n",
      "   List reduced from 226 to 50 due to restriction <50>\n",
      "\n",
      "   ncalls  tottime  percall  cumtime  percall filename:lineno(function)\n",
      "        1    0.000    0.000    4.001    4.001 <string>:1(<module>)\n",
      "        1    0.000    0.000    4.001    4.001 <ipython-input-2-02a0ed9aa61e>:140(my_main)\n",
      "        1    0.062    0.062    4.000    4.000 <ipython-input-2-02a0ed9aa61e>:125(grid_search)\n",
      "    20785    0.093    0.000    3.935    0.000 <ipython-input-2-02a0ed9aa61e>:113(generate_and_save_song)\n",
      "    20785    0.713    0.000    1.631    0.000 <ipython-input-25-375f2682ebb6>:31(generate_abram_song)\n",
      "    20785    0.579    0.000    1.291    0.000 <ipython-input-29-d4e378dee91b>:23(song_to_txt)\n",
      "    20785    0.520    0.000    0.803    0.000 <ipython-input-2-02a0ed9aa61e>:95(save_textfile)\n",
      "  1808295    0.359    0.000    0.516    0.000 <ipython-input-29-d4e378dee91b>:9(make_note)\n",
      "  1808295    0.356    0.000    0.356    0.000 {method 'format' of 'str' objects}\n",
      "  1808295    0.336    0.000    0.336    0.000 <ipython-input-29-d4e378dee91b>:17(note_to_midi)\n",
      "    20785    0.028    0.000    0.281    0.000 <ipython-input-25-375f2682ebb6>:25(get_pitches_of_key_with_octave)\n",
      "       24    0.000    0.000    0.253    0.011 <ipython-input-29-d4e378dee91b>:11(_get_pitches_of_key_with_octave)\n",
      "    20785    0.248    0.000    0.248    0.000 {method 'close' of 'file' objects}\n",
      "       24    0.000    0.000    0.243    0.010 <ipython-input-25-375f2682ebb6>:2(pitches_of_key)\n",
      "        8    0.000    0.000    0.243    0.030 <ipython-input-21-f013f13945ef>:2(_pitches_of_key)\n",
      "        8    0.000    0.000    0.224    0.028 /home/hindle1/.local/lib/python2.7/site-packages/music21/scale/__init__.py:1510(getPitches)\n",
      "        8    0.000    0.000    0.224    0.028 /home/hindle1/.local/lib/python2.7/site-packages/music21/scale/__init__.py:392(getRealization)\n",
      "        8    0.000    0.000    0.222    0.028 /home/hindle1/.local/lib/python2.7/site-packages/music21/scale/intervalNetwork.py:1851(realizePitch)\n",
      "        8    0.000    0.000    0.222    0.028 /home/hindle1/.local/lib/python2.7/site-packages/music21/scale/intervalNetwork.py:1658(realize)\n",
      "     24/8    0.003    0.000    0.222    0.028 /home/hindle1/.local/lib/python2.7/site-packages/music21/scale/intervalNetwork.py:1313(_realizeAscending)\n",
      "        8    0.000    0.000    0.196    0.025 /home/hindle1/.local/lib/python2.7/site-packages/music21/scale/intervalNetwork.py:1990(realizeMinMax)\n",
      "      464    0.003    0.000    0.161    0.000 /home/hindle1/.local/lib/python2.7/site-packages/music21/interval.py:2155(transposePitch)\n",
      "      448    0.001    0.000    0.161    0.000 /home/hindle1/.local/lib/python2.7/site-packages/music21/scale/intervalNetwork.py:2836(transposePitchAndApplySimplification)\n",
      "  1808295    0.157    0.000    0.157    0.000 <ipython-input-29-d4e378dee91b>:7(_make_note)\n",
      "      448    0.004    0.000    0.156    0.000 /home/hindle1/.local/lib/python2.7/site-packages/music21/interval.py:2225(_diatonicTransposePitch)\n",
      "      744    0.006    0.000    0.142    0.000 /home/hindle1/.local/lib/python2.7/site-packages/music21/interval.py:1894(__init__)\n",
      "  1842780    0.093    0.000    0.093    0.000 {len}\n",
      "       16    0.002    0.000    0.093    0.006 /home/hindle1/.local/lib/python2.7/site-packages/music21/scale/intervalNetwork.py:1472(_realizeDescending)\n",
      "    41570    0.068    0.000    0.068    0.000 <ipython-input-2-02a0ed9aa61e>:110(strify)\n",
      "     3896    0.011    0.000    0.067    0.000 /home/hindle1/.local/lib/python2.7/site-packages/music21/base.py:409(__init__)\n",
      "    85204    0.063    0.000    0.063    0.000 {method 'join' of 'str' objects}\n",
      "      744    0.003    0.000    0.061    0.000 /home/hindle1/.local/lib/python2.7/site-packages/music21/interval.py:1955(reinit)\n",
      "     3896    0.007    0.000    0.053    0.000 /home/hindle1/.local/lib/python2.7/site-packages/music21/sites.py:167(__init__)\n",
      "      896    0.002    0.000    0.052    0.000 /home/hindle1/.local/lib/python2.7/site-packages/music21/note.py:1056(__init__)\n",
      "     4048    0.015    0.000    0.047    0.000 /usr/lib/python2.7/collections.py:50(__init__)\n",
      "    20785    0.034    0.000    0.034    0.000 {method 'write' of 'file' objects}\n",
      "     4256    0.010    0.000    0.032    0.000 /home/hindle1/.local/lib/python2.7/site-packages/music21/pitch.py:2037(_getPs)\n",
      "      896    0.002    0.000    0.031    0.000 /home/hindle1/.local/lib/python2.7/site-packages/music21/note.py:733(__init__)\n",
      "      896    0.002    0.000    0.028    0.000 /home/hindle1/.local/lib/python2.7/site-packages/music21/note.py:363(__init__)\n",
      "    20785    0.028    0.000    0.028    0.000 {sum}\n",
      " 3848/712    0.007    0.000    0.027    0.000 /usr/lib/python2.7/copy.py:145(deepcopy)\n",
      "     4048    0.009    0.000    0.027    0.000 /usr/lib/python2.7/_abcoll.py:548(update)\n",
      "      744    0.009    0.000    0.025    0.000 /home/hindle1/.local/lib/python2.7/site-packages/music21/interval.py:1075(__init__)\n",
      "      768    0.006    0.000    0.024    0.000 /home/hindle1/.local/lib/python2.7/site-packages/music21/pitch.py:1563(__deepcopy__)\n",
      "        8    0.000    0.000    0.023    0.003 /home/hindle1/.local/lib/python2.7/site-packages/music21/scale/intervalNetwork.py:1953(realizeTermini)\n",
      "      744    0.008    0.000    0.022    0.000 /home/hindle1/.local/lib/python2.7/site-packages/music21/interval.py:655(__init__)\n",
      "      448    0.001    0.000    0.021    0.000 /home/hindle1/.local/lib/python2.7/site-packages/music21/interval.py:1598(notesToChromatic)\n",
      "      920    0.003    0.000    0.020    0.000 /home/hindle1/.local/lib/python2.7/site-packages/music21/pitch.py:1444(__init__)\n",
      "      448    0.001    0.000    0.020    0.000 /home/hindle1/.local/lib/python2.7/site-packages/music21/interval.py:1571(notesToGeneric)\n",
      "        8    0.000    0.000    0.019    0.002 /home/hindle1/.local/lib/python2.7/site-packages/music21/key.py:845(__init__)\n",
      "\n",
      "\n"
     ]
    },
    {
     "data": {
      "text/plain": [
       "<pstats.Stats instance at 0x7fabdc5f8290>"
      ]
     },
     "execution_count": 37,
     "metadata": {},
     "output_type": "execute_result"
    }
   ],
   "source": [
    "cProfile.run('my_main(4)','cpout6.txt')\n",
    "p = pstats.Stats('cpout6.txt')\n",
    "p.sort_stats('cumtime').print_stats(50)"
   ]
  },
  {
   "cell_type": "markdown",
   "metadata": {},
   "source": [
    "  1808295    0.359    0.000    0.516    0.000 <ipython-input-29-d4e378dee91b>:9(make_note)\n",
    "    \n",
    "```make_note``` still is too much\n",
    "\n"
   ]
  },
  {
   "cell_type": "code",
   "execution_count": 38,
   "metadata": {},
   "outputs": [
    {
     "name": "stdout",
     "output_type": "stream",
     "text": [
      "['Emajor', 'B-minor', 'Gminor', 'E-minor', 'G-major', 'Aminor', 'D-major', 'Eminor', 'C-minor', 'Cmajor', 'C#major', 'Bminor', 'D-minor', 'Gmajor', 'F#minor', 'G-minor', 'E-major', 'Dminor', 'Fmajor', 'Cminor', 'C-major', 'B-major', 'Bmajor', 'C#minor', 'F#major', 'A-major', 'Dmajor', 'A-minor', 'Amajor', 'Fminor']\n",
      "Times up! 9263\n",
      "['Emajor', 'B-minor', 'Gminor', 'E-minor', 'G-major', 'Aminor', 'D-major', 'Eminor', 'C-minor', 'Cmajor', 'C#major', 'Bminor', 'D-minor', 'Gmajor', 'F#minor', 'G-minor', 'E-major', 'Dminor', 'Fmajor', 'Cminor', 'C-major', 'B-major', 'Bmajor', 'C#minor', 'F#major', 'A-major', 'Dmajor', 'A-minor', 'Amajor', 'Fminor']\n",
      "Times up! 9606\n",
      "['Emajor', 'B-minor', 'Gminor', 'E-minor', 'G-major', 'Aminor', 'D-major', 'Eminor', 'C-minor', 'Cmajor', 'C#major', 'Bminor', 'D-minor', 'Gmajor', 'F#minor', 'G-minor', 'E-major', 'Dminor', 'Fmajor', 'Cminor', 'C-major', 'B-major', 'Bmajor', 'C#minor', 'F#major', 'A-major', 'Dmajor', 'A-minor', 'Amajor', 'Fminor']\n",
      "Times up! 9702\n",
      "['Emajor', 'B-minor', 'Gminor', 'E-minor', 'G-major', 'Aminor', 'D-major', 'Eminor', 'C-minor', 'Cmajor', 'C#major', 'Bminor', 'D-minor', 'Gmajor', 'F#minor', 'G-minor', 'E-major', 'Dminor', 'Fmajor', 'Cminor', 'C-major', 'B-major', 'Bmajor', 'C#minor', 'F#major', 'A-major', 'Dmajor', 'A-minor', 'Amajor', 'Fminor']\n",
      "Times up! 9495\n",
      "['Emajor', 'B-minor', 'Gminor', 'E-minor', 'G-major', 'Aminor', 'D-major', 'Eminor', 'C-minor', 'Cmajor', 'C#major', 'Bminor', 'D-minor', 'Gmajor', 'F#minor', 'G-minor', 'E-major', 'Dminor', 'Fmajor', 'Cminor', 'C-major', 'B-major', 'Bmajor', 'C#minor', 'F#major', 'A-major', 'Dmajor', 'A-minor', 'Amajor', 'Fminor']\n",
      "Times up! 9735\n",
      "['Emajor', 'B-minor', 'Gminor', 'E-minor', 'G-major', 'Aminor', 'D-major', 'Eminor', 'C-minor', 'Cmajor', 'C#major', 'Bminor', 'D-minor', 'Gmajor', 'F#minor', 'G-minor', 'E-major', 'Dminor', 'Fmajor', 'Cminor', 'C-major', 'B-major', 'Bmajor', 'C#minor', 'F#major', 'A-major', 'Dmajor', 'A-minor', 'Amajor', 'Fminor']\n",
      "Times up! 9571\n",
      "['Emajor', 'B-minor', 'Gminor', 'E-minor', 'G-major', 'Aminor', 'D-major', 'Eminor', 'C-minor', 'Cmajor', 'C#major', 'Bminor', 'D-minor', 'Gmajor', 'F#minor', 'G-minor', 'E-major', 'Dminor', 'Fmajor', 'Cminor', 'C-major', 'B-major', 'Bmajor', 'C#minor', 'F#major', 'A-major', 'Dmajor', 'A-minor', 'Amajor', 'Fminor']\n",
      "Times up! 9717\n",
      "['Emajor', 'B-minor', 'Gminor', 'E-minor', 'G-major', 'Aminor', 'D-major', 'Eminor', 'C-minor', 'Cmajor', 'C#major', 'Bminor', 'D-minor', 'Gmajor', 'F#minor', 'G-minor', 'E-major', 'Dminor', 'Fmajor', 'Cminor', 'C-major', 'B-major', 'Bmajor', 'C#minor', 'F#major', 'A-major', 'Dmajor', 'A-minor', 'Amajor', 'Fminor']\n",
      "Times up! 9001\n",
      "['Emajor', 'B-minor', 'Gminor', 'E-minor', 'G-major', 'Aminor', 'D-major', 'Eminor', 'C-minor', 'Cmajor', 'C#major', 'Bminor', 'D-minor', 'Gmajor', 'F#minor', 'G-minor', 'E-major', 'Dminor', 'Fmajor', 'Cminor', 'C-major', 'B-major', 'Bmajor', 'C#minor', 'F#major', 'A-major', 'Dmajor', 'A-minor', 'Amajor', 'Fminor']\n",
      "Times up! 8853\n",
      "['Emajor', 'B-minor', 'Gminor', 'E-minor', 'G-major', 'Aminor', 'D-major', 'Eminor', 'C-minor', 'Cmajor', 'C#major', 'Bminor', 'D-minor', 'Gmajor', 'F#minor', 'G-minor', 'E-major', 'Dminor', 'Fmajor', 'Cminor', 'C-major', 'B-major', 'Bmajor', 'C#minor', 'F#major', 'A-major', 'Dmajor', 'A-minor', 'Amajor', 'Fminor']\n",
      "Times up! 9051\n",
      "Current Performance ~ 9399 iters per 1 seconds \n",
      "[9263, 9606, 9702, 9495, 9735, 9571, 9717, 9001, 8853, 9051]\n",
      "['Emajor', 'B-minor', 'Gminor', 'E-minor', 'G-major', 'Aminor', 'D-major', 'Eminor', 'C-minor', 'Cmajor', 'C#major', 'Bminor', 'D-minor', 'Gmajor', 'F#minor', 'G-minor', 'E-major', 'Dminor', 'Fmajor', 'Cminor', 'C-major', 'B-major', 'Bmajor', 'C#minor', 'F#major', 'A-major', 'Dmajor', 'A-minor', 'Amajor', 'Fminor']\n",
      "Times up! 23716\n",
      "Mon May 13 13:50:16 2019    cpout7.txt\n",
      "\n",
      "         8759831 function calls (8759043 primitive calls) in 4.001 seconds\n",
      "\n",
      "   Ordered by: cumulative time\n",
      "   List reduced from 225 to 20 due to restriction <20>\n",
      "\n",
      "   ncalls  tottime  percall  cumtime  percall filename:lineno(function)\n",
      "        1    0.000    0.000    4.001    4.001 <string>:1(<module>)\n",
      "        1    0.000    0.000    4.001    4.001 <ipython-input-2-02a0ed9aa61e>:140(my_main)\n",
      "        1    0.077    0.077    4.000    4.000 <ipython-input-2-02a0ed9aa61e>:125(grid_search)\n",
      "    23716    0.107    0.000    3.920    0.000 <ipython-input-2-02a0ed9aa61e>:113(generate_and_save_song)\n",
      "    23716    0.674    0.000    1.513    0.000 <ipython-input-29-d4e378dee91b>:23(song_to_txt)\n",
      "    23716    0.801    0.000    1.217    0.000 <ipython-input-25-375f2682ebb6>:31(generate_abram_song)\n",
      "    23716    0.616    0.000    0.946    0.000 <ipython-input-2-02a0ed9aa61e>:95(save_textfile)\n",
      "  2063292    0.423    0.000    0.423    0.000 {method 'format' of 'str' objects}\n",
      "  2063292    0.394    0.000    0.394    0.000 <ipython-input-29-d4e378dee91b>:17(note_to_midi)\n",
      "    23716    0.291    0.000    0.291    0.000 {method 'close' of 'file' objects}\n",
      "  2063292    0.164    0.000    0.164    0.000 <ipython-input-38-7c38d74e8c09>:2(make_note)\n",
      "    23716    0.033    0.000    0.114    0.000 <ipython-input-25-375f2682ebb6>:25(get_pitches_of_key_with_octave)\n",
      "  2090436    0.105    0.000    0.105    0.000 {len}\n",
      "        6    0.000    0.000    0.082    0.014 <ipython-input-29-d4e378dee91b>:11(_get_pitches_of_key_with_octave)\n",
      "        6    0.000    0.000    0.079    0.013 <ipython-input-25-375f2682ebb6>:2(pitches_of_key)\n",
      "        2    0.000    0.000    0.079    0.039 <ipython-input-21-f013f13945ef>:2(_pitches_of_key)\n",
      "    47432    0.078    0.000    0.078    0.000 <ipython-input-2-02a0ed9aa61e>:110(strify)\n",
      "    95380    0.075    0.000    0.075    0.000 {method 'join' of 'str' objects}\n",
      "        2    0.000    0.000    0.070    0.035 /home/hindle1/.local/lib/python2.7/site-packages/music21/scale/__init__.py:1510(getPitches)\n",
      "        2    0.000    0.000    0.070    0.035 /home/hindle1/.local/lib/python2.7/site-packages/music21/scale/__init__.py:392(getRealization)\n",
      "\n",
      "\n"
     ]
    },
    {
     "data": {
      "text/plain": [
       "<pstats.Stats instance at 0x7fabde78fd40>"
      ]
     },
     "execution_count": 38,
     "metadata": {},
     "output_type": "execute_result"
    }
   ],
   "source": [
    "# remove the function call to _make_note\n",
    "def make_note( midi_pitch, duration ):\n",
    "    return (midi_pitch, duration)\n",
    "bench()\n",
    "cProfile.run('my_main(4)','cpout7.txt')\n",
    "p = pstats.Stats('cpout7.txt')\n",
    "p.sort_stats('cumtime').print_stats(20)"
   ]
  },
  {
   "cell_type": "markdown",
   "metadata": {},
   "source": [
    "# Mild improvement 8800 to 9300 iters.\n",
    "\n",
    "Can we memoize further? "
   ]
  },
  {
   "cell_type": "code",
   "execution_count": 39,
   "metadata": {},
   "outputs": [
    {
     "name": "stdout",
     "output_type": "stream",
     "text": [
      "['Emajor', 'B-minor', 'Gminor', 'E-minor', 'G-major', 'Aminor', 'D-major', 'Eminor', 'C-minor', 'Cmajor', 'C#major', 'Bminor', 'D-minor', 'Gmajor', 'F#minor', 'G-minor', 'E-major', 'Dminor', 'Fmajor', 'Cminor', 'C-major', 'B-major', 'Bmajor', 'C#minor', 'F#major', 'A-major', 'Dmajor', 'A-minor', 'Amajor', 'Fminor']\n",
      "Times up! 8713\n",
      "['Emajor', 'B-minor', 'Gminor', 'E-minor', 'G-major', 'Aminor', 'D-major', 'Eminor', 'C-minor', 'Cmajor', 'C#major', 'Bminor', 'D-minor', 'Gmajor', 'F#minor', 'G-minor', 'E-major', 'Dminor', 'Fmajor', 'Cminor', 'C-major', 'B-major', 'Bmajor', 'C#minor', 'F#major', 'A-major', 'Dmajor', 'A-minor', 'Amajor', 'Fminor']\n",
      "Times up! 8743\n",
      "['Emajor', 'B-minor', 'Gminor', 'E-minor', 'G-major', 'Aminor', 'D-major', 'Eminor', 'C-minor', 'Cmajor', 'C#major', 'Bminor', 'D-minor', 'Gmajor', 'F#minor', 'G-minor', 'E-major', 'Dminor', 'Fmajor', 'Cminor', 'C-major', 'B-major', 'Bmajor', 'C#minor', 'F#major', 'A-major', 'Dmajor', 'A-minor', 'Amajor', 'Fminor']\n",
      "Times up! 8695\n",
      "['Emajor', 'B-minor', 'Gminor', 'E-minor', 'G-major', 'Aminor', 'D-major', 'Eminor', 'C-minor', 'Cmajor', 'C#major', 'Bminor', 'D-minor', 'Gmajor', 'F#minor', 'G-minor', 'E-major', 'Dminor', 'Fmajor', 'Cminor', 'C-major', 'B-major', 'Bmajor', 'C#minor', 'F#major', 'A-major', 'Dmajor', 'A-minor', 'Amajor', 'Fminor']\n",
      "Times up! 8222\n",
      "['Emajor', 'B-minor', 'Gminor', 'E-minor', 'G-major', 'Aminor', 'D-major', 'Eminor', 'C-minor', 'Cmajor', 'C#major', 'Bminor', 'D-minor', 'Gmajor', 'F#minor', 'G-minor', 'E-major', 'Dminor', 'Fmajor', 'Cminor', 'C-major', 'B-major', 'Bmajor', 'C#minor', 'F#major', 'A-major', 'Dmajor', 'A-minor', 'Amajor', 'Fminor']\n",
      "Times up! 8659\n",
      "['Emajor', 'B-minor', 'Gminor', 'E-minor', 'G-major', 'Aminor', 'D-major', 'Eminor', 'C-minor', 'Cmajor', 'C#major', 'Bminor', 'D-minor', 'Gmajor', 'F#minor', 'G-minor', 'E-major', 'Dminor', 'Fmajor', 'Cminor', 'C-major', 'B-major', 'Bmajor', 'C#minor', 'F#major', 'A-major', 'Dmajor', 'A-minor', 'Amajor', 'Fminor']\n",
      "Times up! 8619\n",
      "['Emajor', 'B-minor', 'Gminor', 'E-minor', 'G-major', 'Aminor', 'D-major', 'Eminor', 'C-minor', 'Cmajor', 'C#major', 'Bminor', 'D-minor', 'Gmajor', 'F#minor', 'G-minor', 'E-major', 'Dminor', 'Fmajor', 'Cminor', 'C-major', 'B-major', 'Bmajor', 'C#minor', 'F#major', 'A-major', 'Dmajor', 'A-minor', 'Amajor', 'Fminor']\n",
      "Times up! 8896\n",
      "['Emajor', 'B-minor', 'Gminor', 'E-minor', 'G-major', 'Aminor', 'D-major', 'Eminor', 'C-minor', 'Cmajor', 'C#major', 'Bminor', 'D-minor', 'Gmajor', 'F#minor', 'G-minor', 'E-major', 'Dminor', 'Fmajor', 'Cminor', 'C-major', 'B-major', 'Bmajor', 'C#minor', 'F#major', 'A-major', 'Dmajor', 'A-minor', 'Amajor', 'Fminor']\n",
      "Times up! 8889\n",
      "['Emajor', 'B-minor', 'Gminor', 'E-minor', 'G-major', 'Aminor', 'D-major', 'Eminor', 'C-minor', 'Cmajor', 'C#major', 'Bminor', 'D-minor', 'Gmajor', 'F#minor', 'G-minor', 'E-major', 'Dminor', 'Fmajor', 'Cminor', 'C-major', 'B-major', 'Bmajor', 'C#minor', 'F#major', 'A-major', 'Dmajor', 'A-minor', 'Amajor', 'Fminor']\n",
      "Times up! 8828\n",
      "['Emajor', 'B-minor', 'Gminor', 'E-minor', 'G-major', 'Aminor', 'D-major', 'Eminor', 'C-minor', 'Cmajor', 'C#major', 'Bminor', 'D-minor', 'Gmajor', 'F#minor', 'G-minor', 'E-major', 'Dminor', 'Fmajor', 'Cminor', 'C-major', 'B-major', 'Bmajor', 'C#minor', 'F#major', 'A-major', 'Dmajor', 'A-minor', 'Amajor', 'Fminor']\n",
      "Times up! 8875\n",
      "Current Performance ~ 8713 iters per 1 seconds \n",
      "[8713, 8743, 8695, 8222, 8659, 8619, 8896, 8889, 8828, 8875]\n",
      "['Emajor', 'B-minor', 'Gminor', 'E-minor', 'G-major', 'Aminor', 'D-major', 'Eminor', 'C-minor', 'Cmajor', 'C#major', 'Bminor', 'D-minor', 'Gmajor', 'F#minor', 'G-minor', 'E-major', 'Dminor', 'Fmajor', 'Cminor', 'C-major', 'B-major', 'Bmajor', 'C#minor', 'F#major', 'A-major', 'Dmajor', 'A-minor', 'Amajor', 'Fminor']\n",
      "Times up! 23056\n",
      "Mon May 13 13:51:12 2019    cpout8.txt\n",
      "\n",
      "         8438673 function calls in 4.001 seconds\n",
      "\n",
      "   Ordered by: cumulative time\n",
      "   List reduced from 48 to 20 due to restriction <20>\n",
      "\n",
      "   ncalls  tottime  percall  cumtime  percall filename:lineno(function)\n",
      "        1    0.000    0.000    4.001    4.001 <string>:1(<module>)\n",
      "        1    0.000    0.000    4.001    4.001 <ipython-input-2-02a0ed9aa61e>:140(my_main)\n",
      "        1    0.045    0.045    4.000    4.000 <ipython-input-2-02a0ed9aa61e>:125(grid_search)\n",
      "    23056    0.104    0.000    3.952    0.000 <ipython-input-2-02a0ed9aa61e>:113(generate_and_save_song)\n",
      "    23056    0.656    0.000    1.455    0.000 <ipython-input-29-d4e378dee91b>:23(song_to_txt)\n",
      "    23056    0.811    0.000    1.354    0.000 <ipython-input-25-375f2682ebb6>:31(generate_abram_song)\n",
      "    23056    0.594    0.000    0.910    0.000 <ipython-input-2-02a0ed9aa61e>:95(save_textfile)\n",
      "  2005872    0.402    0.000    0.402    0.000 {method 'format' of 'str' objects}\n",
      "  2005872    0.377    0.000    0.377    0.000 <ipython-input-39-a77dbd047ed2>:4(make_note)\n",
      "  2005872    0.375    0.000    0.375    0.000 <ipython-input-29-d4e378dee91b>:17(note_to_midi)\n",
      "    23056    0.279    0.000    0.279    0.000 {method 'close' of 'file' objects}\n",
      "  2028928    0.102    0.000    0.102    0.000 {len}\n",
      "    46112    0.074    0.000    0.074    0.000 <ipython-input-2-02a0ed9aa61e>:110(strify)\n",
      "    92224    0.070    0.000    0.070    0.000 {method 'join' of 'str' objects}\n",
      "    23056    0.037    0.000    0.037    0.000 {method 'write' of 'file' objects}\n",
      "    23056    0.032    0.000    0.032    0.000 <ipython-input-25-375f2682ebb6>:25(get_pitches_of_key_with_octave)\n",
      "    23056    0.032    0.000    0.032    0.000 {sum}\n",
      "    23056    0.004    0.000    0.004    0.000 <ipython-input-35-c7b6e480e259>:5(song_to_mid)\n",
      "    23057    0.003    0.000    0.003    0.000 {time.time}\n",
      "    23056    0.003    0.000    0.003    0.000 <ipython-input-35-c7b6e480e259>:3(save_midifile)\n",
      "\n",
      "\n"
     ]
    },
    {
     "data": {
      "text/plain": [
       "<pstats.Stats instance at 0x7fabdc7f1d88>"
      ]
     },
     "execution_count": 39,
     "metadata": {},
     "output_type": "execute_result"
    }
   ],
   "source": [
    "# What about memozing it?\n",
    "from collections import defaultdict\n",
    "__make_note__ = defaultdict(dict)\n",
    "def make_note( midi_pitch, duration ):\n",
    "    if not duration in __make_note__[midi_pitch]:\n",
    "        __make_note__[midi_pitch][duration] = (midi_pitch, duration)\n",
    "    return __make_note__[midi_pitch][duration]\n",
    "\n",
    "bench()\n",
    "cProfile.run('my_main(4)','cpout8.txt')\n",
    "p = pstats.Stats('cpout8.txt')\n",
    "p.sort_stats('cumtime').print_stats(20)"
   ]
  },
  {
   "cell_type": "markdown",
   "metadata": {},
   "source": [
    "# OK that didn't work, we're back to 8700\n",
    "\n",
    "    2005872    0.377    0.000    0.377    0.000 <ipython-input-39-a77dbd047ed2>:4(make_note)\n",
    "        \n",
    "Yeah let's undo that change."
   ]
  },
  {
   "cell_type": "code",
   "execution_count": 40,
   "metadata": {},
   "outputs": [],
   "source": [
    "# nope memoize did not help\n",
    "def make_note( midi_pitch, duration ):\n",
    "    return (midi_pitch, duration)\n"
   ]
  },
  {
   "cell_type": "markdown",
   "metadata": {},
   "source": [
    "Well that's neat. But maybe we should do something else? Like actually save midi files to disk?\n",
    "\n",
    "# Ok but our boss didn't let us off the hook. We still need MIDI output.\n",
    "\n",
    "* I don't want to change music21\n",
    "* Maybe I can use another library to output midi?"
   ]
  },
  {
   "cell_type": "code",
   "execution_count": 41,
   "metadata": {},
   "outputs": [],
   "source": [
    "import midi\n",
    "TEMPO = 120\n",
    "TICK = 60.0/(4*16.0*180)\n",
    "\n",
    "def midi_on_off(when, pitch, duration):\n",
    "    tick_on_when  = int((when)/TICK)\n",
    "    tick_off_when = int((duration+when)/TICK)\n",
    "    on  =  midi.NoteOnEvent(tick=tick_on_when,  pitch=pitch, velocity=100)\n",
    "    off = midi.NoteOffEvent(tick=tick_off_when, pitch=pitch, velocity=100)\n",
    "    return (when+duration, on, off)\n",
    "\n",
    "def song_to_mid(song):\n",
    "    # Instantiate a MIDI Pattern (contains a list of tracks)\n",
    "    pattern = midi.Pattern()\n",
    "    # Instantiate a MIDI Track (contains a list of MIDI events)\n",
    "    track = midi.Track()\n",
    "    # Append the track to the pattern\n",
    "    pattern.append(track)\n",
    "    # set tempo\n",
    "    track.append(midi.SetTempoEvent(bpm=TEMPO))\n",
    "    when = 0.0\n",
    "    for elm in song:\n",
    "        if isinstance(elm, music21.note.Note):\n",
    "            (now, on, off) = midi_on_off(when, elm.midi, elm.duration)\n",
    "        else:\n",
    "            (now,on,off) = midi_on_off(when,elm[0],elm[1])\n",
    "        track.append(on)\n",
    "        track.append(off)\n",
    "        when = 0.0 # don't need to keep track of time\n",
    "    # Add the end of track event, append it to the track\n",
    "    eot = midi.EndOfTrackEvent(tick=1)\n",
    "    track.append(eot)\n",
    "    return pattern\n",
    "\n",
    "def save_midifile(midi_pattern, midi_file):\n",
    "    midi.write_midifile(midi_file, midi_pattern)\n",
    "\n"
   ]
  },
  {
   "cell_type": "code",
   "execution_count": 42,
   "metadata": {
    "scrolled": true
   },
   "outputs": [
    {
     "name": "stdout",
     "output_type": "stream",
     "text": [
      "midi.Pattern(format=1, resolution=220, tracks=\\\n",
      "[midi.Track(\\\n",
      "  [midi.SetTempoEvent(tick=0, data=[7, 161, 32]),\n",
      "   midi.NoteOnEvent(tick=0, channel=0, data=[60, 100]),\n",
      "   midi.NoteOffEvent(tick=192, channel=0, data=[60, 100]),\n",
      "   midi.NoteOnEvent(tick=0, channel=0, data=[64, 100]),\n",
      "   midi.NoteOffEvent(tick=192, channel=0, data=[64, 100]),\n",
      "   midi.NoteOnEvent(tick=0, channel=0, data=[68, 100]),\n",
      "   midi.NoteOffEvent(tick=192, channel=0, data=[68, 100]),\n",
      "   midi.NoteOnEvent(tick=0, channel=0, data=[60, 100]),\n",
      "   midi.NoteOffEvent(tick=48, channel=0, data=[60, 100]),\n",
      "   midi.NoteOnEvent(tick=0, channel=0, data=[64, 100]),\n",
      "   midi.NoteOffEvent(tick=48, channel=0, data=[64, 100]),\n",
      "   midi.NoteOnEvent(tick=0, channel=0, data=[68, 100]),\n",
      "   midi.NoteOffEvent(tick=48, channel=0, data=[68, 100]),\n",
      "   midi.EndOfTrackEvent(tick=1, data=[])])])\n"
     ]
    }
   ],
   "source": [
    "test_midi = song_to_mid([(60,1.0),(64,1.0),(68,1.0),(60,0.25),(64,0.25),(68,0.25)])\n",
    "print(test_midi)\n",
    "save_midifile(test_midi,\"test.mid\")"
   ]
  },
  {
   "cell_type": "code",
   "execution_count": 43,
   "metadata": {},
   "outputs": [],
   "source": [
    "! xdg-open test.mid"
   ]
  },
  {
   "cell_type": "code",
   "execution_count": 44,
   "metadata": {},
   "outputs": [
    {
     "name": "stdout",
     "output_type": "stream",
     "text": [
      "['Emajor', 'B-minor', 'Gminor', 'E-minor', 'G-major', 'Aminor', 'D-major', 'Eminor', 'C-minor', 'Cmajor', 'C#major', 'Bminor', 'D-minor', 'Gmajor', 'F#minor', 'G-minor', 'E-major', 'Dminor', 'Fmajor', 'Cminor', 'C-major', 'B-major', 'Bmajor', 'C#minor', 'F#major', 'A-major', 'Dmajor', 'A-minor', 'Amajor', 'Fminor']\n",
      "Times up! 940\n",
      "['Emajor', 'B-minor', 'Gminor', 'E-minor', 'G-major', 'Aminor', 'D-major', 'Eminor', 'C-minor', 'Cmajor', 'C#major', 'Bminor', 'D-minor', 'Gmajor', 'F#minor', 'G-minor', 'E-major', 'Dminor', 'Fmajor', 'Cminor', 'C-major', 'B-major', 'Bmajor', 'C#minor', 'F#major', 'A-major', 'Dmajor', 'A-minor', 'Amajor', 'Fminor']\n",
      "Times up! 856\n",
      "['Emajor', 'B-minor', 'Gminor', 'E-minor', 'G-major', 'Aminor', 'D-major', 'Eminor', 'C-minor', 'Cmajor', 'C#major', 'Bminor', 'D-minor', 'Gmajor', 'F#minor', 'G-minor', 'E-major', 'Dminor', 'Fmajor', 'Cminor', 'C-major', 'B-major', 'Bmajor', 'C#minor', 'F#major', 'A-major', 'Dmajor', 'A-minor', 'Amajor', 'Fminor']\n",
      "Times up! 997\n",
      "['Emajor', 'B-minor', 'Gminor', 'E-minor', 'G-major', 'Aminor', 'D-major', 'Eminor', 'C-minor', 'Cmajor', 'C#major', 'Bminor', 'D-minor', 'Gmajor', 'F#minor', 'G-minor', 'E-major', 'Dminor', 'Fmajor', 'Cminor', 'C-major', 'B-major', 'Bmajor', 'C#minor', 'F#major', 'A-major', 'Dmajor', 'A-minor', 'Amajor', 'Fminor']\n",
      "Times up! 993\n",
      "['Emajor', 'B-minor', 'Gminor', 'E-minor', 'G-major', 'Aminor', 'D-major', 'Eminor', 'C-minor', 'Cmajor', 'C#major', 'Bminor', 'D-minor', 'Gmajor', 'F#minor', 'G-minor', 'E-major', 'Dminor', 'Fmajor', 'Cminor', 'C-major', 'B-major', 'Bmajor', 'C#minor', 'F#major', 'A-major', 'Dmajor', 'A-minor', 'Amajor', 'Fminor']\n",
      "Times up! 960\n",
      "['Emajor', 'B-minor', 'Gminor', 'E-minor', 'G-major', 'Aminor', 'D-major', 'Eminor', 'C-minor', 'Cmajor', 'C#major', 'Bminor', 'D-minor', 'Gmajor', 'F#minor', 'G-minor', 'E-major', 'Dminor', 'Fmajor', 'Cminor', 'C-major', 'B-major', 'Bmajor', 'C#minor', 'F#major', 'A-major', 'Dmajor', 'A-minor', 'Amajor', 'Fminor']\n",
      "Times up! 944\n",
      "['Emajor', 'B-minor', 'Gminor', 'E-minor', 'G-major', 'Aminor', 'D-major', 'Eminor', 'C-minor', 'Cmajor', 'C#major', 'Bminor', 'D-minor', 'Gmajor', 'F#minor', 'G-minor', 'E-major', 'Dminor', 'Fmajor', 'Cminor', 'C-major', 'B-major', 'Bmajor', 'C#minor', 'F#major', 'A-major', 'Dmajor', 'A-minor', 'Amajor', 'Fminor']\n",
      "Times up! 992\n",
      "['Emajor', 'B-minor', 'Gminor', 'E-minor', 'G-major', 'Aminor', 'D-major', 'Eminor', 'C-minor', 'Cmajor', 'C#major', 'Bminor', 'D-minor', 'Gmajor', 'F#minor', 'G-minor', 'E-major', 'Dminor', 'Fmajor', 'Cminor', 'C-major', 'B-major', 'Bmajor', 'C#minor', 'F#major', 'A-major', 'Dmajor', 'A-minor', 'Amajor', 'Fminor']\n",
      "Times up! 999\n",
      "['Emajor', 'B-minor', 'Gminor', 'E-minor', 'G-major', 'Aminor', 'D-major', 'Eminor', 'C-minor', 'Cmajor', 'C#major', 'Bminor', 'D-minor', 'Gmajor', 'F#minor', 'G-minor', 'E-major', 'Dminor', 'Fmajor', 'Cminor', 'C-major', 'B-major', 'Bmajor', 'C#minor', 'F#major', 'A-major', 'Dmajor', 'A-minor', 'Amajor', 'Fminor']\n",
      "Times up! 923\n",
      "['Emajor', 'B-minor', 'Gminor', 'E-minor', 'G-major', 'Aminor', 'D-major', 'Eminor', 'C-minor', 'Cmajor', 'C#major', 'Bminor', 'D-minor', 'Gmajor', 'F#minor', 'G-minor', 'E-major', 'Dminor', 'Fmajor', 'Cminor', 'C-major', 'B-major', 'Bmajor', 'C#minor', 'F#major', 'A-major', 'Dmajor', 'A-minor', 'Amajor', 'Fminor']\n",
      "Times up! 991\n",
      "Current Performance ~ 959 iters per 1 seconds \n",
      "[940, 856, 997, 993, 960, 944, 992, 999, 923, 991]\n"
     ]
    }
   ],
   "source": [
    "res = bench()"
   ]
  },
  {
   "cell_type": "code",
   "execution_count": 45,
   "metadata": {},
   "outputs": [
    {
     "name": "stdout",
     "output_type": "stream",
     "text": [
      "['Emajor', 'B-minor', 'Gminor', 'E-minor', 'G-major', 'Aminor', 'D-major', 'Eminor', 'C-minor', 'Cmajor', 'C#major', 'Bminor', 'D-minor', 'Gmajor', 'F#minor', 'G-minor', 'E-major', 'Dminor', 'Fmajor', 'Cminor', 'C-major', 'B-major', 'Bmajor', 'C#minor', 'F#major', 'A-major', 'Dmajor', 'A-minor', 'Amajor', 'Fminor']\n",
      "Times up! 2332\n",
      "Mon May 13 13:53:20 2019    cpout9.txt\n",
      "\n",
      "         8787843 function calls in 4.002 seconds\n",
      "\n",
      "   Ordered by: cumulative time\n",
      "   List reduced from 70 to 20 due to restriction <20>\n",
      "\n",
      "   ncalls  tottime  percall  cumtime  percall filename:lineno(function)\n",
      "        1    0.000    0.000    4.002    4.002 <string>:1(<module>)\n",
      "        1    0.000    0.000    4.002    4.002 <ipython-input-2-02a0ed9aa61e>:140(my_main)\n",
      "        1    0.045    0.045    4.001    4.001 <ipython-input-2-02a0ed9aa61e>:125(grid_search)\n",
      "     2332    0.015    0.000    3.956    0.002 <ipython-input-2-02a0ed9aa61e>:113(generate_and_save_song)\n",
      "     2332    0.206    0.000    2.012    0.001 <ipython-input-41-fa33ae1b567f>:12(song_to_mid)\n",
      "   202884    0.347    0.000    1.711    0.000 <ipython-input-41-fa33ae1b567f>:5(midi_on_off)\n",
      "     2332    0.040    0.000    1.510    0.001 <ipython-input-41-fa33ae1b567f>:35(save_midifile)\n",
      "     2332    0.005    0.000    1.470    0.001 /home/hindle1/.local/lib/python2.7/site-packages/midi/fileio.py:148(write_midifile)\n",
      "     2332    0.003    0.000    1.370    0.001 /home/hindle1/.local/lib/python2.7/site-packages/midi/fileio.py:99(write)\n",
      "   405768    0.370    0.000    1.365    0.000 /home/hindle1/.local/lib/python2.7/site-packages/midi/events.py:66(__init__)\n",
      "     2332    0.125    0.000    1.354    0.001 /home/hindle1/.local/lib/python2.7/site-packages/midi/fileio.py:112(write_track)\n",
      "   410432    0.690    0.000    1.224    0.000 /home/hindle1/.local/lib/python2.7/site-packages/midi/fileio.py:123(encode_midi_event)\n",
      "   410432    0.489    0.000    0.968    0.000 /home/hindle1/.local/lib/python2.7/site-packages/midi/events.py:33(__init__)\n",
      "  1627736    0.353    0.000    0.479    0.000 {setattr}\n",
      "   415096    0.159    0.000    0.209    0.000 /home/hindle1/.local/lib/python2.7/site-packages/midi/util.py:19(write_varlen)\n",
      "  1424856    0.206    0.000    0.206    0.000 {isinstance}\n",
      "     2332    0.069    0.000    0.152    0.000 <ipython-input-29-d4e378dee91b>:23(song_to_txt)\n",
      "     2332    0.080    0.000    0.126    0.000 <ipython-input-2-02a0ed9aa61e>:95(save_textfile)\n",
      "     2332    0.088    0.000    0.124    0.000 <ipython-input-25-375f2682ebb6>:31(generate_abram_song)\n",
      "   410432    0.115    0.000    0.115    0.000 {map}\n",
      "\n",
      "\n"
     ]
    },
    {
     "data": {
      "text/plain": [
       "<pstats.Stats instance at 0x7fabdc2bf5a8>"
      ]
     },
     "execution_count": 45,
     "metadata": {},
     "output_type": "execute_result"
    }
   ],
   "source": [
    "cProfile.run('my_main(4)','cpout9.txt')\n",
    "p = pstats.Stats('cpout9.txt')\n",
    "p.sort_stats('cumtime').print_stats(20)"
   ]
  },
  {
   "cell_type": "markdown",
   "metadata": {},
   "source": [
    "# So making MIDIs is still slow\n",
    "\n",
    "     2332    0.206    0.000    2.012    0.001 <ipython-input-41-fa33ae1b567f>:12(song_to_mid)\n",
    "   202884    0.347    0.000    1.711    0.000 <ipython-input-41-fa33ae1b567f>:5(midi_on_off)\n",
    "     2332    0.040    0.000    1.510    0.001 <ipython-input-41-fa33ae1b567f>:35(save_midifile)\n",
    "    \n",
    " "
   ]
  },
  {
   "cell_type": "code",
   "execution_count": 50,
   "metadata": {},
   "outputs": [],
   "source": [
    "def _midi_on_off(when, pitch, duration):\n",
    "    tick_on_when  = int((when)/TICK)\n",
    "    tick_off_when = int((duration+when)/TICK)\n",
    "    on  =  midi.NoteOnEvent(tick=tick_on_when,  pitch=pitch, velocity=100)\n",
    "    off = midi.NoteOffEvent(tick=tick_off_when, pitch=pitch, velocity=100)\n",
    "    return (when+duration, on, off)\n",
    "\n",
    "__midi_on_off__ = dict()\n",
    "def midi_on_off(when, pitch, duration):\n",
    "    t = (when,pitch,duration)\n",
    "    if not t in __midi_on_off__:\n",
    "        __midi_on_off__[t] = _midi_on_off(when,pitch,duration)\n",
    "    return __midi_on_off__[t]"
   ]
  },
  {
   "cell_type": "code",
   "execution_count": 51,
   "metadata": {},
   "outputs": [
    {
     "name": "stdout",
     "output_type": "stream",
     "text": [
      "['Emajor', 'B-minor', 'Gminor', 'E-minor', 'G-major', 'Aminor', 'D-major', 'Eminor', 'C-minor', 'Cmajor', 'C#major', 'Bminor', 'D-minor', 'Gmajor', 'F#minor', 'G-minor', 'E-major', 'Dminor', 'Fmajor', 'Cminor', 'C-major', 'B-major', 'Bmajor', 'C#minor', 'F#major', 'A-major', 'Dmajor', 'A-minor', 'Amajor', 'Fminor']\n",
      "Times up! 1705\n",
      "['Emajor', 'B-minor', 'Gminor', 'E-minor', 'G-major', 'Aminor', 'D-major', 'Eminor', 'C-minor', 'Cmajor', 'C#major', 'Bminor', 'D-minor', 'Gmajor', 'F#minor', 'G-minor', 'E-major', 'Dminor', 'Fmajor', 'Cminor', 'C-major', 'B-major', 'Bmajor', 'C#minor', 'F#major', 'A-major', 'Dmajor', 'A-minor', 'Amajor', 'Fminor']\n",
      "Times up! 1805\n",
      "['Emajor', 'B-minor', 'Gminor', 'E-minor', 'G-major', 'Aminor', 'D-major', 'Eminor', 'C-minor', 'Cmajor', 'C#major', 'Bminor', 'D-minor', 'Gmajor', 'F#minor', 'G-minor', 'E-major', 'Dminor', 'Fmajor', 'Cminor', 'C-major', 'B-major', 'Bmajor', 'C#minor', 'F#major', 'A-major', 'Dmajor', 'A-minor', 'Amajor', 'Fminor']\n",
      "Times up! 1849\n",
      "['Emajor', 'B-minor', 'Gminor', 'E-minor', 'G-major', 'Aminor', 'D-major', 'Eminor', 'C-minor', 'Cmajor', 'C#major', 'Bminor', 'D-minor', 'Gmajor', 'F#minor', 'G-minor', 'E-major', 'Dminor', 'Fmajor', 'Cminor', 'C-major', 'B-major', 'Bmajor', 'C#minor', 'F#major', 'A-major', 'Dmajor', 'A-minor', 'Amajor', 'Fminor']\n",
      "Times up! 1715\n",
      "['Emajor', 'B-minor', 'Gminor', 'E-minor', 'G-major', 'Aminor', 'D-major', 'Eminor', 'C-minor', 'Cmajor', 'C#major', 'Bminor', 'D-minor', 'Gmajor', 'F#minor', 'G-minor', 'E-major', 'Dminor', 'Fmajor', 'Cminor', 'C-major', 'B-major', 'Bmajor', 'C#minor', 'F#major', 'A-major', 'Dmajor', 'A-minor', 'Amajor', 'Fminor']\n",
      "Times up! 1856\n",
      "['Emajor', 'B-minor', 'Gminor', 'E-minor', 'G-major', 'Aminor', 'D-major', 'Eminor', 'C-minor', 'Cmajor', 'C#major', 'Bminor', 'D-minor', 'Gmajor', 'F#minor', 'G-minor', 'E-major', 'Dminor', 'Fmajor', 'Cminor', 'C-major', 'B-major', 'Bmajor', 'C#minor', 'F#major', 'A-major', 'Dmajor', 'A-minor', 'Amajor', 'Fminor']\n",
      "Times up! 1885\n",
      "['Emajor', 'B-minor', 'Gminor', 'E-minor', 'G-major', 'Aminor', 'D-major', 'Eminor', 'C-minor', 'Cmajor', 'C#major', 'Bminor', 'D-minor', 'Gmajor', 'F#minor', 'G-minor', 'E-major', 'Dminor', 'Fmajor', 'Cminor', 'C-major', 'B-major', 'Bmajor', 'C#minor', 'F#major', 'A-major', 'Dmajor', 'A-minor', 'Amajor', 'Fminor']\n",
      "Times up! 1680\n",
      "['Emajor', 'B-minor', 'Gminor', 'E-minor', 'G-major', 'Aminor', 'D-major', 'Eminor', 'C-minor', 'Cmajor', 'C#major', 'Bminor', 'D-minor', 'Gmajor', 'F#minor', 'G-minor', 'E-major', 'Dminor', 'Fmajor', 'Cminor', 'C-major', 'B-major', 'Bmajor', 'C#minor', 'F#major', 'A-major', 'Dmajor', 'A-minor', 'Amajor', 'Fminor']\n",
      "Times up! 1674\n",
      "['Emajor', 'B-minor', 'Gminor', 'E-minor', 'G-major', 'Aminor', 'D-major', 'Eminor', 'C-minor', 'Cmajor', 'C#major', 'Bminor', 'D-minor', 'Gmajor', 'F#minor', 'G-minor', 'E-major', 'Dminor', 'Fmajor', 'Cminor', 'C-major', 'B-major', 'Bmajor', 'C#minor', 'F#major', 'A-major', 'Dmajor', 'A-minor', 'Amajor', 'Fminor']\n",
      "Times up! 1892\n",
      "['Emajor', 'B-minor', 'Gminor', 'E-minor', 'G-major', 'Aminor', 'D-major', 'Eminor', 'C-minor', 'Cmajor', 'C#major', 'Bminor', 'D-minor', 'Gmajor', 'F#minor', 'G-minor', 'E-major', 'Dminor', 'Fmajor', 'Cminor', 'C-major', 'B-major', 'Bmajor', 'C#minor', 'F#major', 'A-major', 'Dmajor', 'A-minor', 'Amajor', 'Fminor']\n",
      "Times up! 1894\n",
      "Current Performance ~ 1795 iters per 1 seconds \n",
      "[1705, 1805, 1849, 1715, 1856, 1885, 1680, 1674, 1892, 1894]\n"
     ]
    },
    {
     "data": {
      "text/plain": [
       "[1705, 1805, 1849, 1715, 1856, 1885, 1680, 1674, 1892, 1894]"
      ]
     },
     "execution_count": 51,
     "metadata": {},
     "output_type": "execute_result"
    }
   ],
   "source": [
    "bench()"
   ]
  },
  {
   "cell_type": "code",
   "execution_count": 53,
   "metadata": {},
   "outputs": [
    {
     "name": "stdout",
     "output_type": "stream",
     "text": [
      "['Emajor', 'B-minor', 'Gminor', 'E-minor', 'G-major', 'Aminor', 'D-major', 'Eminor', 'C-minor', 'Cmajor', 'C#major', 'Bminor', 'D-minor', 'Gmajor', 'F#minor', 'G-minor', 'E-major', 'Dminor', 'Fmajor', 'Cminor', 'C-major', 'B-major', 'Bmajor', 'C#minor', 'F#major', 'A-major', 'Dmajor', 'A-minor', 'Amajor', 'Fminor']\n",
      "Times up! 4206\n",
      "Mon May 13 13:59:56 2019    cpout10.txt\n",
      "\n",
      "         9263783 function calls in 4.003 seconds\n",
      "\n",
      "   Ordered by: cumulative time\n",
      "   List reduced from 71 to 20 due to restriction <20>\n",
      "\n",
      "   ncalls  tottime  percall  cumtime  percall filename:lineno(function)\n",
      "        1    0.000    0.000    4.003    4.003 <string>:1(<module>)\n",
      "        1    0.000    0.000    4.003    4.003 <ipython-input-2-02a0ed9aa61e>:140(my_main)\n",
      "        1    0.024    0.024    4.000    4.000 <ipython-input-2-02a0ed9aa61e>:125(grid_search)\n",
      "     4206    0.026    0.000    3.975    0.001 <ipython-input-2-02a0ed9aa61e>:113(generate_and_save_song)\n",
      "     4206    0.073    0.000    2.679    0.001 <ipython-input-41-fa33ae1b567f>:35(save_midifile)\n",
      "     4206    0.009    0.000    2.606    0.001 /home/hindle1/.local/lib/python2.7/site-packages/midi/fileio.py:148(write_midifile)\n",
      "     4206    0.006    0.000    2.445    0.001 /home/hindle1/.local/lib/python2.7/site-packages/midi/fileio.py:99(write)\n",
      "     4206    0.224    0.000    2.417    0.001 /home/hindle1/.local/lib/python2.7/site-packages/midi/fileio.py:112(write_track)\n",
      "   740256    1.225    0.000    2.182    0.000 /home/hindle1/.local/lib/python2.7/site-packages/midi/fileio.py:123(encode_midi_event)\n",
      "     4206    0.307    0.000    0.561    0.000 <ipython-input-41-fa33ae1b567f>:12(song_to_mid)\n",
      "   748668    0.285    0.000    0.374    0.000 /home/hindle1/.local/lib/python2.7/site-packages/midi/util.py:19(write_varlen)\n",
      "  2569870    0.358    0.000    0.358    0.000 {isinstance}\n",
      "     4206    0.125    0.000    0.272    0.000 <ipython-input-29-d4e378dee91b>:23(song_to_txt)\n",
      "     4206    0.151    0.000    0.214    0.000 <ipython-input-25-375f2682ebb6>:31(generate_abram_song)\n",
      "   740256    0.208    0.000    0.208    0.000 {map}\n",
      "     4206    0.131    0.000    0.194    0.000 <ipython-input-2-02a0ed9aa61e>:95(save_textfile)\n",
      "  1717371    0.157    0.000    0.157    0.000 {chr}\n",
      "     4207    0.152    0.000    0.152    0.000 {open}\n",
      "   365922    0.098    0.000    0.099    0.000 <ipython-input-50-b7a56b72b55a>:9(midi_on_off)\n",
      "   365922    0.074    0.000    0.074    0.000 {method 'format' of 'str' objects}\n",
      "\n",
      "\n"
     ]
    },
    {
     "data": {
      "text/plain": [
       "<pstats.Stats instance at 0x7fabdc864200>"
      ]
     },
     "execution_count": 53,
     "metadata": {},
     "output_type": "execute_result"
    }
   ],
   "source": [
    "cProfile.run('my_main(4)','cpout10.txt')\n",
    "p = pstats.Stats('cpout10.txt')\n",
    "p.sort_stats('cumtime').print_stats(20)"
   ]
  },
  {
   "cell_type": "markdown",
   "metadata": {},
   "source": [
    "# Wow double performance. Great\n",
    "\n",
    "> Current Performance ~ 1795 iters per 1 seconds \n",
    "\n",
    "Midi file saving still big but improved greatly!"
   ]
  },
  {
   "cell_type": "code",
   "execution_count": 52,
   "metadata": {},
   "outputs": [],
   "source": [
    "# demo?\n",
    "! xdg-open abram.gen.out/Emajor.O.4.N.7.0.1.2.3.4.5.6.T.1.0_0.5_2.0.mid"
   ]
  },
  {
   "cell_type": "markdown",
   "metadata": {},
   "source": [
    "# Did we improve?\n",
    "\n",
    "So from 14-20 iters per second to 1800 per second, doing the same work?\n",
    "\n",
    "Good. About 80X or 6 orders of magnitude improvement.\n",
    "\n"
   ]
  },
  {
   "cell_type": "markdown",
   "metadata": {},
   "source": [
    "# Conclusion\n",
    "\n",
    "But at what cost?\n",
    "\n",
    "* Less abstraction\n",
    "* Less maintainble code\n",
    "* Less use classes and types\n",
    "* Less OO\n",
    "\n",
    "But way faster.\n",
    "Fundamentally I've simplified the problem and probably should do it in C or C++.\n",
    "\n",
    "Other ways to improve speed:\n",
    "* Do I/O in another thread. We're waiting a lot to save results\n",
    "* Delegate disk I/O to another process\n",
    "* Avoid disk I/O\n",
    "* Use a more optimized method of saving\n",
    "* Replace libraries\n",
    "* use libs with faster bindings\n",
    "* Remove a layer of abstraction\n",
    "* Delegate work elsewhere\n",
    "* Parallelism\n",
    "\n",
    "# What is missing:\n",
    "\n",
    "* Standardized benchmark\n",
    "* Unit tests (you should always test for correctness)\n",
    "* Statistic comparison of performance"
   ]
  },
  {
   "cell_type": "markdown",
   "metadata": {},
   "source": [
    "# BONUS: But what if the improvement is subtle?\n",
    "\n",
    "If you want to know if you have an improvement you should consider statistical tests:\n",
    "    \n",
    "## Student's T-Test\n",
    "\n",
    "If the data is gaussian/normal/bell curved consider a Student's T-Test to see if your measurements come from the same normal distributions.\n",
    "\n",
    "## Wilcoxon Rank Sum Test\n",
    "\n",
    "If the data is not normal Wilcoxon Rank Sum Test can compare the distributions based on rank.\n",
    "\n",
    "# Interpretting Statistical Tests\n",
    "\n",
    "Choose an alpha, this is the probability threshold where you accept how many times you want to be wrong to chance. Alpha of 0.05 is common and for optimization is probably ok. Alpha of 0.1 is good for smaller number of runs. Essentially it's a protection against winning the lottery. Sometimes you get lucky.\n",
    "\n",
    "If you p-value is less than your alpha the tests indicate evidence that your distributions are different. The difference can be negliable but they are statistically significantly different.\n",
    "\n",
    "We'll use 0.05 as our alpha."
   ]
  },
  {
   "cell_type": "code",
   "execution_count": 56,
   "metadata": {
    "scrolled": true
   },
   "outputs": [
    {
     "name": "stdout",
     "output_type": "stream",
     "text": [
      "['Emajor', 'B-minor', 'Gminor', 'E-minor', 'G-major', 'Aminor', 'D-major', 'Eminor', 'C-minor', 'Cmajor', 'C#major', 'Bminor', 'D-minor', 'Gmajor', 'F#minor', 'G-minor', 'E-major', 'Dminor', 'Fmajor', 'Cminor', 'C-major', 'B-major', 'Bmajor', 'C#minor', 'F#major', 'A-major', 'Dmajor', 'A-minor', 'Amajor', 'Fminor']\n",
      "Times up! 1645\n",
      "['Emajor', 'B-minor', 'Gminor', 'E-minor', 'G-major', 'Aminor', 'D-major', 'Eminor', 'C-minor', 'Cmajor', 'C#major', 'Bminor', 'D-minor', 'Gmajor', 'F#minor', 'G-minor', 'E-major', 'Dminor', 'Fmajor', 'Cminor', 'C-major', 'B-major', 'Bmajor', 'C#minor', 'F#major', 'A-major', 'Dmajor', 'A-minor', 'Amajor', 'Fminor']\n",
      "Times up! 1816\n",
      "['Emajor', 'B-minor', 'Gminor', 'E-minor', 'G-major', 'Aminor', 'D-major', 'Eminor', 'C-minor', 'Cmajor', 'C#major', 'Bminor', 'D-minor', 'Gmajor', 'F#minor', 'G-minor', 'E-major', 'Dminor', 'Fmajor', 'Cminor', 'C-major', 'B-major', 'Bmajor', 'C#minor', 'F#major', 'A-major', 'Dmajor', 'A-minor', 'Amajor', 'Fminor']\n",
      "Times up! 1882\n",
      "['Emajor', 'B-minor', 'Gminor', 'E-minor', 'G-major', 'Aminor', 'D-major', 'Eminor', 'C-minor', 'Cmajor', 'C#major', 'Bminor', 'D-minor', 'Gmajor', 'F#minor', 'G-minor', 'E-major', 'Dminor', 'Fmajor', 'Cminor', 'C-major', 'B-major', 'Bmajor', 'C#minor', 'F#major', 'A-major', 'Dmajor', 'A-minor', 'Amajor', 'Fminor']\n",
      "Times up! 1887\n",
      "['Emajor', 'B-minor', 'Gminor', 'E-minor', 'G-major', 'Aminor', 'D-major', 'Eminor', 'C-minor', 'Cmajor', 'C#major', 'Bminor', 'D-minor', 'Gmajor', 'F#minor', 'G-minor', 'E-major', 'Dminor', 'Fmajor', 'Cminor', 'C-major', 'B-major', 'Bmajor', 'C#minor', 'F#major', 'A-major', 'Dmajor', 'A-minor', 'Amajor', 'Fminor']\n",
      "Times up! 1871\n",
      "['Emajor', 'B-minor', 'Gminor', 'E-minor', 'G-major', 'Aminor', 'D-major', 'Eminor', 'C-minor', 'Cmajor', 'C#major', 'Bminor', 'D-minor', 'Gmajor', 'F#minor', 'G-minor', 'E-major', 'Dminor', 'Fmajor', 'Cminor', 'C-major', 'B-major', 'Bmajor', 'C#minor', 'F#major', 'A-major', 'Dmajor', 'A-minor', 'Amajor', 'Fminor']\n",
      "Times up! 1859\n",
      "['Emajor', 'B-minor', 'Gminor', 'E-minor', 'G-major', 'Aminor', 'D-major', 'Eminor', 'C-minor', 'Cmajor', 'C#major', 'Bminor', 'D-minor', 'Gmajor', 'F#minor', 'G-minor', 'E-major', 'Dminor', 'Fmajor', 'Cminor', 'C-major', 'B-major', 'Bmajor', 'C#minor', 'F#major', 'A-major', 'Dmajor', 'A-minor', 'Amajor', 'Fminor']\n",
      "Times up! 1784\n",
      "['Emajor', 'B-minor', 'Gminor', 'E-minor', 'G-major', 'Aminor', 'D-major', 'Eminor', 'C-minor', 'Cmajor', 'C#major', 'Bminor', 'D-minor', 'Gmajor', 'F#minor', 'G-minor', 'E-major', 'Dminor', 'Fmajor', 'Cminor', 'C-major', 'B-major', 'Bmajor', 'C#minor', 'F#major', 'A-major', 'Dmajor', 'A-minor', 'Amajor', 'Fminor']\n",
      "Times up! 1876\n",
      "['Emajor', 'B-minor', 'Gminor', 'E-minor', 'G-major', 'Aminor', 'D-major', 'Eminor', 'C-minor', 'Cmajor', 'C#major', 'Bminor', 'D-minor', 'Gmajor', 'F#minor', 'G-minor', 'E-major', 'Dminor', 'Fmajor', 'Cminor', 'C-major', 'B-major', 'Bmajor', 'C#minor', 'F#major', 'A-major', 'Dmajor', 'A-minor', 'Amajor', 'Fminor']\n",
      "Times up! 1877\n",
      "['Emajor', 'B-minor', 'Gminor', 'E-minor', 'G-major', 'Aminor', 'D-major', 'Eminor', 'C-minor', 'Cmajor', 'C#major', 'Bminor', 'D-minor', 'Gmajor', 'F#minor', 'G-minor', 'E-major', 'Dminor', 'Fmajor', 'Cminor', 'C-major', 'B-major', 'Bmajor', 'C#minor', 'F#major', 'A-major', 'Dmajor', 'A-minor', 'Amajor', 'Fminor']\n",
      "Times up! 1868\n",
      "Current Performance ~ 1836 iters per 1 seconds \n",
      "[1645, 1816, 1882, 1887, 1871, 1859, 1784, 1876, 1877, 1868]\n",
      "['Emajor', 'B-minor', 'Gminor', 'E-minor', 'G-major', 'Aminor', 'D-major', 'Eminor', 'C-minor', 'Cmajor', 'C#major', 'Bminor', 'D-minor', 'Gmajor', 'F#minor', 'G-minor', 'E-major', 'Dminor', 'Fmajor', 'Cminor', 'C-major', 'B-major', 'Bmajor', 'C#minor', 'F#major', 'A-major', 'Dmajor', 'A-minor', 'Amajor', 'Fminor']\n",
      "Times up! 1902\n",
      "['Emajor', 'B-minor', 'Gminor', 'E-minor', 'G-major', 'Aminor', 'D-major', 'Eminor', 'C-minor', 'Cmajor', 'C#major', 'Bminor', 'D-minor', 'Gmajor', 'F#minor', 'G-minor', 'E-major', 'Dminor', 'Fmajor', 'Cminor', 'C-major', 'B-major', 'Bmajor', 'C#minor', 'F#major', 'A-major', 'Dmajor', 'A-minor', 'Amajor', 'Fminor']\n",
      "Times up! 1878\n",
      "['Emajor', 'B-minor', 'Gminor', 'E-minor', 'G-major', 'Aminor', 'D-major', 'Eminor', 'C-minor', 'Cmajor', 'C#major', 'Bminor', 'D-minor', 'Gmajor', 'F#minor', 'G-minor', 'E-major', 'Dminor', 'Fmajor', 'Cminor', 'C-major', 'B-major', 'Bmajor', 'C#minor', 'F#major', 'A-major', 'Dmajor', 'A-minor', 'Amajor', 'Fminor']\n",
      "Times up! 1879\n",
      "['Emajor', 'B-minor', 'Gminor', 'E-minor', 'G-major', 'Aminor', 'D-major', 'Eminor', 'C-minor', 'Cmajor', 'C#major', 'Bminor', 'D-minor', 'Gmajor', 'F#minor', 'G-minor', 'E-major', 'Dminor', 'Fmajor', 'Cminor', 'C-major', 'B-major', 'Bmajor', 'C#minor', 'F#major', 'A-major', 'Dmajor', 'A-minor', 'Amajor', 'Fminor']\n",
      "Times up! 1888\n",
      "['Emajor', 'B-minor', 'Gminor', 'E-minor', 'G-major', 'Aminor', 'D-major', 'Eminor', 'C-minor', 'Cmajor', 'C#major', 'Bminor', 'D-minor', 'Gmajor', 'F#minor', 'G-minor', 'E-major', 'Dminor', 'Fmajor', 'Cminor', 'C-major', 'B-major', 'Bmajor', 'C#minor', 'F#major', 'A-major', 'Dmajor', 'A-minor', 'Amajor', 'Fminor']\n",
      "Times up! 1881\n",
      "['Emajor', 'B-minor', 'Gminor', 'E-minor', 'G-major', 'Aminor', 'D-major', 'Eminor', 'C-minor', 'Cmajor', 'C#major', 'Bminor', 'D-minor', 'Gmajor', 'F#minor', 'G-minor', 'E-major', 'Dminor', 'Fmajor', 'Cminor', 'C-major', 'B-major', 'Bmajor', 'C#minor', 'F#major', 'A-major', 'Dmajor', 'A-minor', 'Amajor', 'Fminor']\n",
      "Times up! 1879\n",
      "['Emajor', 'B-minor', 'Gminor', 'E-minor', 'G-major', 'Aminor', 'D-major', 'Eminor', 'C-minor', 'Cmajor', 'C#major', 'Bminor', 'D-minor', 'Gmajor', 'F#minor', 'G-minor', 'E-major', 'Dminor', 'Fmajor', 'Cminor', 'C-major', 'B-major', 'Bmajor', 'C#minor', 'F#major', 'A-major', 'Dmajor', 'A-minor', 'Amajor', 'Fminor']\n",
      "Times up! 1896\n",
      "['Emajor', 'B-minor', 'Gminor', 'E-minor', 'G-major', 'Aminor', 'D-major', 'Eminor', 'C-minor', 'Cmajor', 'C#major', 'Bminor', 'D-minor', 'Gmajor', 'F#minor', 'G-minor', 'E-major', 'Dminor', 'Fmajor', 'Cminor', 'C-major', 'B-major', 'Bmajor', 'C#minor', 'F#major', 'A-major', 'Dmajor', 'A-minor', 'Amajor', 'Fminor']\n",
      "Times up! 1882\n",
      "['Emajor', 'B-minor', 'Gminor', 'E-minor', 'G-major', 'Aminor', 'D-major', 'Eminor', 'C-minor', 'Cmajor', 'C#major', 'Bminor', 'D-minor', 'Gmajor', 'F#minor', 'G-minor', 'E-major', 'Dminor', 'Fmajor', 'Cminor', 'C-major', 'B-major', 'Bmajor', 'C#minor', 'F#major', 'A-major', 'Dmajor', 'A-minor', 'Amajor', 'Fminor']\n",
      "Times up! 1892\n",
      "['Emajor', 'B-minor', 'Gminor', 'E-minor', 'G-major', 'Aminor', 'D-major', 'Eminor', 'C-minor', 'Cmajor', 'C#major', 'Bminor', 'D-minor', 'Gmajor', 'F#minor', 'G-minor', 'E-major', 'Dminor', 'Fmajor', 'Cminor', 'C-major', 'B-major', 'Bmajor', 'C#minor', 'F#major', 'A-major', 'Dmajor', 'A-minor', 'Amajor', 'Fminor']\n",
      "Times up! 1875\n",
      "Current Performance ~ 1885 iters per 1 seconds \n",
      "[1902, 1878, 1879, 1888, 1881, 1879, 1896, 1882, 1892, 1875]\n",
      "['Emajor', 'B-minor', 'Gminor', 'E-minor', 'G-major', 'Aminor', 'D-major', 'Eminor', 'C-minor', 'Cmajor', 'C#major', 'Bminor', 'D-minor', 'Gmajor', 'F#minor', 'G-minor', 'E-major', 'Dminor', 'Fmajor', 'Cminor', 'C-major', 'B-major', 'Bmajor', 'C#minor', 'F#major', 'A-major', 'Dmajor', 'A-minor', 'Amajor', 'Fminor']\n",
      "Times up! 1877\n",
      "['Emajor', 'B-minor', 'Gminor', 'E-minor', 'G-major', 'Aminor', 'D-major', 'Eminor', 'C-minor', 'Cmajor', 'C#major', 'Bminor', 'D-minor', 'Gmajor', 'F#minor', 'G-minor', 'E-major', 'Dminor', 'Fmajor', 'Cminor', 'C-major', 'B-major', 'Bmajor', 'C#minor', 'F#major', 'A-major', 'Dmajor', 'A-minor', 'Amajor', 'Fminor']\n",
      "Times up! 1890\n",
      "['Emajor', 'B-minor', 'Gminor', 'E-minor', 'G-major', 'Aminor', 'D-major', 'Eminor', 'C-minor', 'Cmajor', 'C#major', 'Bminor', 'D-minor', 'Gmajor', 'F#minor', 'G-minor', 'E-major', 'Dminor', 'Fmajor', 'Cminor', 'C-major', 'B-major', 'Bmajor', 'C#minor', 'F#major', 'A-major', 'Dmajor', 'A-minor', 'Amajor', 'Fminor']\n",
      "Times up! 1900\n",
      "['Emajor', 'B-minor', 'Gminor', 'E-minor', 'G-major', 'Aminor', 'D-major', 'Eminor', 'C-minor', 'Cmajor', 'C#major', 'Bminor', 'D-minor', 'Gmajor', 'F#minor', 'G-minor', 'E-major', 'Dminor', 'Fmajor', 'Cminor', 'C-major', 'B-major', 'Bmajor', 'C#minor', 'F#major', 'A-major', 'Dmajor', 'A-minor', 'Amajor', 'Fminor']\n",
      "Times up! 1893\n",
      "['Emajor', 'B-minor', 'Gminor', 'E-minor', 'G-major', 'Aminor', 'D-major', 'Eminor', 'C-minor', 'Cmajor', 'C#major', 'Bminor', 'D-minor', 'Gmajor', 'F#minor', 'G-minor', 'E-major', 'Dminor', 'Fmajor', 'Cminor', 'C-major', 'B-major', 'Bmajor', 'C#minor', 'F#major', 'A-major', 'Dmajor', 'A-minor', 'Amajor', 'Fminor']\n"
     ]
    },
    {
     "name": "stdout",
     "output_type": "stream",
     "text": [
      "Times up! 1885\n",
      "['Emajor', 'B-minor', 'Gminor', 'E-minor', 'G-major', 'Aminor', 'D-major', 'Eminor', 'C-minor', 'Cmajor', 'C#major', 'Bminor', 'D-minor', 'Gmajor', 'F#minor', 'G-minor', 'E-major', 'Dminor', 'Fmajor', 'Cminor', 'C-major', 'B-major', 'Bmajor', 'C#minor', 'F#major', 'A-major', 'Dmajor', 'A-minor', 'Amajor', 'Fminor']\n",
      "Times up! 1879\n",
      "['Emajor', 'B-minor', 'Gminor', 'E-minor', 'G-major', 'Aminor', 'D-major', 'Eminor', 'C-minor', 'Cmajor', 'C#major', 'Bminor', 'D-minor', 'Gmajor', 'F#minor', 'G-minor', 'E-major', 'Dminor', 'Fmajor', 'Cminor', 'C-major', 'B-major', 'Bmajor', 'C#minor', 'F#major', 'A-major', 'Dmajor', 'A-minor', 'Amajor', 'Fminor']\n",
      "Times up! 1887\n",
      "['Emajor', 'B-minor', 'Gminor', 'E-minor', 'G-major', 'Aminor', 'D-major', 'Eminor', 'C-minor', 'Cmajor', 'C#major', 'Bminor', 'D-minor', 'Gmajor', 'F#minor', 'G-minor', 'E-major', 'Dminor', 'Fmajor', 'Cminor', 'C-major', 'B-major', 'Bmajor', 'C#minor', 'F#major', 'A-major', 'Dmajor', 'A-minor', 'Amajor', 'Fminor']\n",
      "Times up! 1900\n",
      "['Emajor', 'B-minor', 'Gminor', 'E-minor', 'G-major', 'Aminor', 'D-major', 'Eminor', 'C-minor', 'Cmajor', 'C#major', 'Bminor', 'D-minor', 'Gmajor', 'F#minor', 'G-minor', 'E-major', 'Dminor', 'Fmajor', 'Cminor', 'C-major', 'B-major', 'Bmajor', 'C#minor', 'F#major', 'A-major', 'Dmajor', 'A-minor', 'Amajor', 'Fminor']\n",
      "Times up! 1898\n",
      "['Emajor', 'B-minor', 'Gminor', 'E-minor', 'G-major', 'Aminor', 'D-major', 'Eminor', 'C-minor', 'Cmajor', 'C#major', 'Bminor', 'D-minor', 'Gmajor', 'F#minor', 'G-minor', 'E-major', 'Dminor', 'Fmajor', 'Cminor', 'C-major', 'B-major', 'Bmajor', 'C#minor', 'F#major', 'A-major', 'Dmajor', 'A-minor', 'Amajor', 'Fminor']\n",
      "Times up! 1873\n",
      "Current Performance ~ 1888 iters per 1 seconds \n",
      "[1877, 1890, 1900, 1893, 1885, 1879, 1887, 1900, 1898, 1873]\n"
     ]
    }
   ],
   "source": [
    "# you might want to run this to make sure the governor is the same\n",
    "# by the time it runs the rest of the benchmarks\n",
    "bench() \n",
    "res1 = bench()\n",
    "res2 = bench()\n",
    "\n"
   ]
  },
  {
   "cell_type": "code",
   "execution_count": 57,
   "metadata": {
    "scrolled": true
   },
   "outputs": [
    {
     "name": "stdout",
     "output_type": "stream",
     "text": [
      "Means: 1885 1888\n",
      "Comparison from same distribution\n",
      "WilcoxonResult(statistic=15.0, pvalue=0.3742593192802244)\n",
      "False\n",
      "Comparison from 10% worse performance\n",
      "WilcoxonResult(statistic=0.0, pvalue=0.005062032126267864)\n",
      "True\n",
      "Comparison from same distribution w/ t-test\n",
      "Ttest_indResult(statistic=-0.7189195568696245, pvalue=0.48142005814369226)\n",
      "False\n",
      "Comparison from 10% worse performance w/ t-test\n",
      "Ttest_indResult(statistic=47.02979389710427, pvalue=2.7096624555791744e-20)\n",
      "True\n"
     ]
    },
    {
     "name": "stderr",
     "output_type": "stream",
     "text": [
      "/home/hindle1/.local/lib/python2.7/site-packages/scipy/stats/morestats.py:2388: UserWarning: Warning: sample size too small for normal approximation.\n",
      "  warnings.warn(\"Warning: sample size too small for normal approximation.\")\n"
     ]
    }
   ],
   "source": [
    "import scipy.stats\n",
    "import numpy\n",
    "print(\"Means: %s %s\" % (mean(res1),mean(res2)))\n",
    "print(\"Comparison from same distribution\")\n",
    "wc = scipy.stats.wilcoxon( res1, res2 )\n",
    "print(wc)\n",
    "print(wc.pvalue <= 0.05)\n",
    "print(\"Comparison from 10% worse performance\")\n",
    "wc = scipy.stats.wilcoxon( res1, 0.9*numpy.array(res2) )\n",
    "print(wc)\n",
    "print(wc.pvalue <= 0.05)\n",
    "print(\"Comparison from same distribution w/ t-test\")\n",
    "tt = scipy.stats.ttest_ind( res1, res2 )\n",
    "print(tt)\n",
    "print(tt.pvalue <= 0.05)\n",
    "print(\"Comparison from 10% worse performance w/ t-test\")\n",
    "tt = scipy.stats.ttest_ind( res1, 0.9*numpy.array(res2) )\n",
    "print(tt)\n",
    "print(tt.pvalue <= 0.05)\n"
   ]
  },
  {
   "cell_type": "markdown",
   "metadata": {},
   "source": [
    "# BONUS: Do I have to time my own code?\n",
    "\n",
    "No. ```timeit``` module can do it.\n",
    "\n",
    "It can do weak reporting of timings. It is best for microbenchmarks."
   ]
  },
  {
   "cell_type": "code",
   "execution_count": 58,
   "metadata": {},
   "outputs": [
    {
     "name": "stdout",
     "output_type": "stream",
     "text": [
      "0.471196889877\n",
      "0.000195026397705\n"
     ]
    }
   ],
   "source": [
    "import timeit\n",
    "import music21\n",
    "print(timeit.timeit('music21.note.Note(\"A#4\")',\n",
    "              setup='import music21',\n",
    "              number=10000))\n",
    "print(timeit.timeit('(70,0.25)',\n",
    "              setup='',\n",
    "              number=10000))"
   ]
  },
  {
   "cell_type": "markdown",
   "metadata": {},
   "source": [
    "# Other modules\n",
    "\n",
    "```benchmark``` provides nicer reporting: https://pypi.org/project/benchmark/\n",
    "        \n",
    "Mike's \"Python 101: An Intro to Benchmarking your code\" https://www.blog.pythonlibrary.org/2016/05/24/python-101-an-intro-to-benchmarking-your-code/"
   ]
  },
  {
   "cell_type": "code",
   "execution_count": null,
   "metadata": {},
   "outputs": [],
   "source": []
  }
 ],
 "metadata": {
  "kernelspec": {
   "display_name": "Python 2",
   "language": "python",
   "name": "python2"
  },
  "language_info": {
   "codemirror_mode": {
    "name": "ipython",
    "version": 2
   },
   "file_extension": ".py",
   "mimetype": "text/x-python",
   "name": "python",
   "nbconvert_exporter": "python",
   "pygments_lexer": "ipython2",
   "version": "2.7.15rc1"
  }
 },
 "nbformat": 4,
 "nbformat_minor": 2
}
